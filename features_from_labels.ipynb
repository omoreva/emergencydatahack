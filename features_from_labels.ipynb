{
 "cells": [
  {
   "cell_type": "code",
   "execution_count": 15,
   "metadata": {},
   "outputs": [],
   "source": [
    "import pandas as pd\n",
    "import numpy as np\n",
    "from sklearn.model_selection import train_test_split\n",
    "from sklearn.ensemble import RandomForestClassifier\n",
    "from sklearn.metrics import accuracy_score, recall_score, precision_score, f1_score, roc_auc_score\n",
    "import os\n",
    "from sklearn.metrics import f1_score\n",
    "pd.options.display.max_columns = None\n",
    "import matplotlib.pyplot as plt\n",
    "from sklearn.model_selection import GridSearchCV, TimeSeriesSplit\n",
    "from sklearn import metrics\n",
    "from sklearn.metrics import plot_confusion_matrix\n",
    "from datetime import datetime\n",
    "from xgboost import XGBClassifier"
   ]
  },
  {
   "cell_type": "code",
   "execution_count": 16,
   "metadata": {},
   "outputs": [
    {
     "data": {
      "text/plain": [
       "['.~lock.train.csv#',\n",
       " 'hydro_1day.csv',\n",
       " 'hydro_coord.csv',\n",
       " 'ice_saw.csv',\n",
       " 'meteo_1day.csv',\n",
       " 'meteo_1month.csv',\n",
       " 'meteo_3hours.csv',\n",
       " 'meteo_coord.csv',\n",
       " 'reference_horiz_visib.csv',\n",
       " 'reference_water_codes.csv',\n",
       " 'test.csv',\n",
       " 'train.csv']"
      ]
     },
     "execution_count": 16,
     "metadata": {},
     "output_type": "execute_result"
    }
   ],
   "source": [
    "# Путь к директории с данными\n",
    "\n",
    "data_dir = '../00_data/track_1/'\n",
    "sumbit_dir = '../02_submits/'\n",
    "preprocessed_dir = '../03_preprocessed_data/'\n",
    "\n",
    "os.listdir(data_dir)"
   ]
  },
  {
   "cell_type": "code",
   "execution_count": 17,
   "metadata": {},
   "outputs": [],
   "source": [
    "# Загрузим всё\n",
    "main_df = pd.read_csv(data_dir + 'train.csv')\n",
    "test = pd.read_csv(data_dir + 'test.csv')\n",
    "# соединим train и test, чтобы фичи генерировались и на тесте тоже\n",
    "main_df = pd.concat([main_df, test])\n",
    "main_df['is_test'] = main_df['ice_jam'].isnull()"
   ]
  },
  {
   "cell_type": "markdown",
   "metadata": {},
   "source": [
    "### Затор в прошлом году в тот же день"
   ]
  },
  {
   "cell_type": "code",
   "execution_count": 18,
   "metadata": {},
   "outputs": [
    {
     "data": {
      "text/html": [
       "<div>\n",
       "<style scoped>\n",
       "    .dataframe tbody tr th:only-of-type {\n",
       "        vertical-align: middle;\n",
       "    }\n",
       "\n",
       "    .dataframe tbody tr th {\n",
       "        vertical-align: top;\n",
       "    }\n",
       "\n",
       "    .dataframe thead th {\n",
       "        text-align: right;\n",
       "    }\n",
       "</style>\n",
       "<table border=\"1\" class=\"dataframe\">\n",
       "  <thead>\n",
       "    <tr style=\"text-align: right;\">\n",
       "      <th></th>\n",
       "      <th>year</th>\n",
       "      <th>station_id</th>\n",
       "      <th>day</th>\n",
       "      <th>ice_jam</th>\n",
       "      <th>is_test_x</th>\n",
       "      <th>ice_jam_same_day_last_year</th>\n",
       "    </tr>\n",
       "  </thead>\n",
       "  <tbody>\n",
       "    <tr>\n",
       "      <th>0</th>\n",
       "      <td>2000</td>\n",
       "      <td>3019</td>\n",
       "      <td>1</td>\n",
       "      <td>0.0</td>\n",
       "      <td>False</td>\n",
       "      <td>0.0</td>\n",
       "    </tr>\n",
       "    <tr>\n",
       "      <th>1</th>\n",
       "      <td>2000</td>\n",
       "      <td>3019</td>\n",
       "      <td>2</td>\n",
       "      <td>0.0</td>\n",
       "      <td>False</td>\n",
       "      <td>0.0</td>\n",
       "    </tr>\n",
       "    <tr>\n",
       "      <th>2</th>\n",
       "      <td>2000</td>\n",
       "      <td>3019</td>\n",
       "      <td>3</td>\n",
       "      <td>0.0</td>\n",
       "      <td>False</td>\n",
       "      <td>0.0</td>\n",
       "    </tr>\n",
       "    <tr>\n",
       "      <th>3</th>\n",
       "      <td>2000</td>\n",
       "      <td>3019</td>\n",
       "      <td>4</td>\n",
       "      <td>0.0</td>\n",
       "      <td>False</td>\n",
       "      <td>0.0</td>\n",
       "    </tr>\n",
       "    <tr>\n",
       "      <th>4</th>\n",
       "      <td>2000</td>\n",
       "      <td>3019</td>\n",
       "      <td>5</td>\n",
       "      <td>0.0</td>\n",
       "      <td>False</td>\n",
       "      <td>0.0</td>\n",
       "    </tr>\n",
       "  </tbody>\n",
       "</table>\n",
       "</div>"
      ],
      "text/plain": [
       "   year  station_id  day  ice_jam  is_test_x  ice_jam_same_day_last_year\n",
       "0  2000        3019    1      0.0      False                         0.0\n",
       "1  2000        3019    2      0.0      False                         0.0\n",
       "2  2000        3019    3      0.0      False                         0.0\n",
       "3  2000        3019    4      0.0      False                         0.0\n",
       "4  2000        3019    5      0.0      False                         0.0"
      ]
     },
     "execution_count": 18,
     "metadata": {},
     "output_type": "execute_result"
    }
   ],
   "source": [
    "main_df['previous_year'] = main_df['year'] - 1\n",
    "X = main_df.merge(main_df, \n",
    "              how = 'left', \n",
    "              left_on = ['previous_year', 'day', 'station_id'],\n",
    "              right_on = ['year', 'day', 'station_id']\n",
    "             ).drop(['previous_year_x', 'previous_year_y', 'year_y', 'is_test_y'], axis =1\n",
    "                   ).rename(columns={'year_x':'year', \n",
    "                 'ice_jam_x':'ice_jam',\n",
    "                 'ice_jam_y':'ice_jam_same_day_last_year'              \n",
    "                              })\n",
    "main_df = main_df.drop('previous_year', axis = 1)\n",
    "X.head()"
   ]
  },
  {
   "cell_type": "markdown",
   "metadata": {},
   "source": [
    "### Затор в позапрошлом году в тот же день"
   ]
  },
  {
   "cell_type": "code",
   "execution_count": 19,
   "metadata": {},
   "outputs": [
    {
     "data": {
      "text/html": [
       "<div>\n",
       "<style scoped>\n",
       "    .dataframe tbody tr th:only-of-type {\n",
       "        vertical-align: middle;\n",
       "    }\n",
       "\n",
       "    .dataframe tbody tr th {\n",
       "        vertical-align: top;\n",
       "    }\n",
       "\n",
       "    .dataframe thead th {\n",
       "        text-align: right;\n",
       "    }\n",
       "</style>\n",
       "<table border=\"1\" class=\"dataframe\">\n",
       "  <thead>\n",
       "    <tr style=\"text-align: right;\">\n",
       "      <th></th>\n",
       "      <th>year</th>\n",
       "      <th>station_id</th>\n",
       "      <th>day</th>\n",
       "      <th>ice_jam</th>\n",
       "      <th>is_test</th>\n",
       "      <th>ice_jam_same_day_last_year</th>\n",
       "      <th>ice_jam_same_day_prelast_year</th>\n",
       "    </tr>\n",
       "  </thead>\n",
       "  <tbody>\n",
       "    <tr>\n",
       "      <th>0</th>\n",
       "      <td>2000</td>\n",
       "      <td>3019</td>\n",
       "      <td>1</td>\n",
       "      <td>0.0</td>\n",
       "      <td>False</td>\n",
       "      <td>0.0</td>\n",
       "      <td>NaN</td>\n",
       "    </tr>\n",
       "    <tr>\n",
       "      <th>1</th>\n",
       "      <td>2000</td>\n",
       "      <td>3019</td>\n",
       "      <td>2</td>\n",
       "      <td>0.0</td>\n",
       "      <td>False</td>\n",
       "      <td>0.0</td>\n",
       "      <td>NaN</td>\n",
       "    </tr>\n",
       "    <tr>\n",
       "      <th>2</th>\n",
       "      <td>2000</td>\n",
       "      <td>3019</td>\n",
       "      <td>3</td>\n",
       "      <td>0.0</td>\n",
       "      <td>False</td>\n",
       "      <td>0.0</td>\n",
       "      <td>NaN</td>\n",
       "    </tr>\n",
       "    <tr>\n",
       "      <th>3</th>\n",
       "      <td>2000</td>\n",
       "      <td>3019</td>\n",
       "      <td>4</td>\n",
       "      <td>0.0</td>\n",
       "      <td>False</td>\n",
       "      <td>0.0</td>\n",
       "      <td>NaN</td>\n",
       "    </tr>\n",
       "    <tr>\n",
       "      <th>4</th>\n",
       "      <td>2000</td>\n",
       "      <td>3019</td>\n",
       "      <td>5</td>\n",
       "      <td>0.0</td>\n",
       "      <td>False</td>\n",
       "      <td>0.0</td>\n",
       "      <td>NaN</td>\n",
       "    </tr>\n",
       "  </tbody>\n",
       "</table>\n",
       "</div>"
      ],
      "text/plain": [
       "   year  station_id  day  ice_jam  is_test  ice_jam_same_day_last_year  \\\n",
       "0  2000        3019    1      0.0    False                         0.0   \n",
       "1  2000        3019    2      0.0    False                         0.0   \n",
       "2  2000        3019    3      0.0    False                         0.0   \n",
       "3  2000        3019    4      0.0    False                         0.0   \n",
       "4  2000        3019    5      0.0    False                         0.0   \n",
       "\n",
       "   ice_jam_same_day_prelast_year  \n",
       "0                            NaN  \n",
       "1                            NaN  \n",
       "2                            NaN  \n",
       "3                            NaN  \n",
       "4                            NaN  "
      ]
     },
     "execution_count": 19,
     "metadata": {},
     "output_type": "execute_result"
    }
   ],
   "source": [
    "X['preprevious_year'] = X['year'] - 2\n",
    "X = X.merge(main_df.drop('is_test', axis = 1),\n",
    "              how = 'left', \n",
    "              left_on = ['preprevious_year', 'day', 'station_id'],\n",
    "              right_on = ['year', 'day', 'station_id']\n",
    "             ).drop(['preprevious_year', 'year_y'], axis =1\n",
    "                   ).rename(columns={'year_x':'year', \n",
    "                 'ice_jam_x':'ice_jam',\n",
    "                 'ice_jam_y':'ice_jam_same_day_prelast_year',\n",
    "                 'is_test_x':'is_test'\n",
    "                              })\n",
    "X.head()\n",
    "\n"
   ]
  },
  {
   "cell_type": "markdown",
   "metadata": {},
   "source": [
    "### Индикатор - есть ли данные по заторам за прошлый год"
   ]
  },
  {
   "cell_type": "code",
   "execution_count": 20,
   "metadata": {},
   "outputs": [],
   "source": [
    "X['is_last_year_missing'] = X['ice_jam_same_day_last_year'].isnull()\n",
    "X['is_prelast_year_missing'] = X['ice_jam_same_day_prelast_year'].isnull()\n",
    "X = X.fillna(0)"
   ]
  },
  {
   "cell_type": "markdown",
   "metadata": {},
   "source": [
    "### Количество заторов в прошлом году"
   ]
  },
  {
   "cell_type": "code",
   "execution_count": 21,
   "metadata": {},
   "outputs": [],
   "source": [
    "X[['n_jams_last_year','n_jams_prelast_year']] = \\\n",
    "    X.groupby(['year', 'station_id'])[['ice_jam_same_day_last_year', 'ice_jam_same_day_prelast_year']]\\\n",
    "    .transform('sum')"
   ]
  },
  {
   "cell_type": "markdown",
   "metadata": {},
   "source": [
    "## Количество заторов в прошлом по всем годам"
   ]
  },
  {
   "cell_type": "code",
   "execution_count": 22,
   "metadata": {},
   "outputs": [],
   "source": [
    "ice_jams_per_year = X.groupby(['year', 'station_id'])['ice_jam'].sum().reset_index().drop_duplicates()\n",
    "ice_jams_per_year['n_jams_past'] = ice_jams_per_year.sort_values(by = 'year').\\\n",
    "    groupby(['station_id'])['ice_jam'].cumsum()\n",
    "ice_jams_per_year['n_jams_past'] = ice_jams_per_year['n_jams_past'] - ice_jams_per_year['ice_jam']\n",
    "ice_jams_per_year = ice_jams_per_year.drop('ice_jam', axis = 1)\n",
    "X = X.merge(ice_jams_per_year, how = 'left', on = ['year', 'station_id'])"
   ]
  },
  {
   "cell_type": "code",
   "execution_count": 41,
   "metadata": {},
   "outputs": [],
   "source": [
    "# n_same_days_before: how many days are available in the past for a given date\n",
    "X['n_same_days_before'] = X[['year', 'day', 'station_id']] \\\n",
    "    .sort_values(by = ['year', 'day']) \\\n",
    "    .groupby(['station_id', 'day']) \\\n",
    "    .cumcount()\n",
    "X['n_ice_jams_same_days_before'] = X[['year', 'day', 'station_id', 'ice_jam']] \\\n",
    "    .sort_values(by = ['year', 'day']) \\\n",
    "    .groupby(['station_id', 'day']) \\\n",
    "    ['ice_jam']\\\n",
    "    .cumsum()\n",
    "X['n_ice_jams_same_days_before'] = X['n_ice_jams_same_days_before'] - X['ice_jam']\n",
    "X['n_ice_jams_same_days_before_ratio'] = X['n_ice_jams_same_days_before']/X['n_same_days_before']\n",
    "X = X.fillna(0)"
   ]
  },
  {
   "cell_type": "markdown",
   "metadata": {},
   "source": [
    "## Разбиение по годам"
   ]
  },
  {
   "cell_type": "code",
   "execution_count": 42,
   "metadata": {},
   "outputs": [
    {
     "data": {
      "text/plain": [
       "count    35.000000\n",
       "mean      3.942857\n",
       "std       4.014260\n",
       "min       0.000000\n",
       "25%       0.000000\n",
       "50%       3.000000\n",
       "75%       6.000000\n",
       "max      16.000000\n",
       "Name: ice_jam, dtype: float64"
      ]
     },
     "execution_count": 42,
     "metadata": {},
     "output_type": "execute_result"
    }
   ],
   "source": [
    "# Суммарное количество заторов в году\n",
    "jams_by_year = main_df.groupby('year').sum()['ice_jam'].to_frame().reset_index()\n",
    "jams_by_year['ice_jam'].describe()"
   ]
  },
  {
   "cell_type": "code",
   "execution_count": 43,
   "metadata": {},
   "outputs": [
    {
     "data": {
      "text/plain": [
       "(-1, 3]    18\n",
       "(3, 5]      7\n",
       "(5, 8]      6\n",
       "(8, 16]     4\n",
       "Name: ice_jam_bins, dtype: int64"
      ]
     },
     "execution_count": 43,
     "metadata": {},
     "output_type": "execute_result"
    }
   ],
   "source": [
    "# Разделим на бины по квартилям\n",
    "bins = [-1, 3, 5, 8, 16]\n",
    "jams_by_year['ice_jam_bins'] = pd.cut(jams_by_year['ice_jam'], bins)\n",
    "X_length = jams_by_year[['year', 'ice_jam']]\n",
    "y_length = jams_by_year['ice_jam_bins']\n",
    "y_length.value_counts()"
   ]
  },
  {
   "cell_type": "code",
   "execution_count": 44,
   "metadata": {},
   "outputs": [],
   "source": [
    "# Разделим годы на трейн и тест\n",
    "X_train, X_test, y_train, y_test = train_test_split(X_length, \n",
    "                                                    y_length, \n",
    "                                                    test_size=0.3,  \n",
    "                                                    stratify=y_length, \n",
    "                                                    random_state=42)"
   ]
  },
  {
   "cell_type": "code",
   "execution_count": 45,
   "metadata": {},
   "outputs": [],
   "source": [
    "# Разделим на трейн и тест исходя из target_year\n",
    "\n",
    "test = X[X.year.isin(X_test.year.to_list()) & (X['is_test'] == False)].reset_index(drop=True).dropna()\n",
    "train = X[X.year.isin(X_train.year.to_list())& (X['is_test'] == False)].reset_index(drop=True).dropna()\n"
   ]
  },
  {
   "cell_type": "code",
   "execution_count": 46,
   "metadata": {},
   "outputs": [],
   "source": [
    "# Поделим данные на предикторы и таргет\n",
    "\n",
    "X_train, y_train = train.drop(['ice_jam'], axis = 1), train.ice_jam\n",
    "X_test, y_test = test.drop(['ice_jam'], axis = 1), test.ice_jam\n",
    "unused_features = ['year', 'is_test']"
   ]
  },
  {
   "cell_type": "markdown",
   "metadata": {},
   "source": [
    "# Random Forest"
   ]
  },
  {
   "cell_type": "code",
   "execution_count": 47,
   "metadata": {},
   "outputs": [
    {
     "name": "stdout",
     "output_type": "stream",
     "text": [
      "Fitting 3 folds for each of 480 candidates, totalling 1440 fits\n"
     ]
    },
    {
     "name": "stderr",
     "output_type": "stream",
     "text": [
      "[Parallel(n_jobs=-1)]: Using backend LokyBackend with 8 concurrent workers.\n",
      "[Parallel(n_jobs=-1)]: Done  25 tasks      | elapsed:    5.6s\n",
      "[Parallel(n_jobs=-1)]: Done 146 tasks      | elapsed:   11.0s\n",
      "[Parallel(n_jobs=-1)]: Done 349 tasks      | elapsed:   20.4s\n",
      "[Parallel(n_jobs=-1)]: Done 632 tasks      | elapsed:   34.3s\n",
      "[Parallel(n_jobs=-1)]: Done 997 tasks      | elapsed:   51.4s\n",
      "[Parallel(n_jobs=-1)]: Done 1440 out of 1440 | elapsed:  1.3min finished\n",
      "C:\\Users\\omore\\Anaconda3\\lib\\site-packages\\sklearn\\model_selection\\_search.py:823: FutureWarning: The parameter 'iid' is deprecated in 0.22 and will be removed in 0.24.\n",
      "  \"removed in 0.24.\", FutureWarning\n"
     ]
    },
    {
     "name": "stdout",
     "output_type": "stream",
     "text": [
      "{'bootstrap': True, 'class_weight': 'balanced', 'max_depth': 5, 'max_features': 4, 'min_samples_leaf': 50, 'min_samples_split': 25, 'n_estimators': 20, 'random_state': 29}\n",
      "F1-train: 0.12948517940717627\n",
      "F1-test: 0.07174887892376683\n"
     ]
    }
   ],
   "source": [
    "mod_RF = RandomForestClassifier() # or GradientBoostingClassifier, or XGBoostClassifier\n",
    "\n",
    "search_grid_RF = {'bootstrap': [True],\n",
    "                  'max_depth': [2, 3, 4, 5, 6],\n",
    "                  'max_features': [3, 4, 5, 6],\n",
    "                  'n_estimators': [5, 10, 20, 50],\n",
    "                  'min_samples_leaf': [10, 25, 50],\n",
    "                  'min_samples_split': [25, 50],\n",
    "                  'random_state': [29],\n",
    "                  'class_weight': ['balanced']\n",
    "                  }\n",
    "\n",
    "param_search_RF = GridSearchCV(estimator=mod_RF, \n",
    "                               param_grid=search_grid_RF, \n",
    "                               scoring=metrics.make_scorer(metrics.f1_score),\n",
    "                               cv=3, \n",
    "                               n_jobs=-1, \n",
    "                               verbose=2, return_train_score=True,\n",
    "                               iid=True)\n",
    "\n",
    "param_search_RF.fit(X_train.drop(unused_features, axis = 1), y_train)        \n",
    "\n",
    "print(param_search_RF.best_params_)\n",
    "\n",
    "mod_opt_RF = RandomForestClassifier(**param_search_RF.best_params_)\n",
    "mod_opt_RF = mod_opt_RF.fit(X_train.drop(unused_features, axis = 1), y_train)\n",
    "\n",
    "y_pred = mod_opt_RF.predict(X_test.drop(unused_features, axis = 1))\n",
    "y_train_pred = mod_opt_RF.predict(X_train.drop(unused_features, axis = 1))\n",
    "\n",
    "threshold_RF = 0.3\n",
    "print('F1-train: {}'.format(f1_score(y_train, y_train_pred)))\n",
    "print('F1-test: {}'.format(f1_score(y_test, y_pred)))"
   ]
  },
  {
   "cell_type": "code",
   "execution_count": 48,
   "metadata": {},
   "outputs": [
    {
     "data": {
      "text/plain": [
       "<sklearn.metrics._plot.confusion_matrix.ConfusionMatrixDisplay at 0x264c22d2148>"
      ]
     },
     "execution_count": 48,
     "metadata": {},
     "output_type": "execute_result"
    },
    {
     "data": {
      "image/png": "[encoded data removed]",
      "text/plain": [
       "<Figure size 432x288 with 2 Axes>"
      ]
     },
     "metadata": {
      "needs_background": "light"
     },
     "output_type": "display_data"
    }
   ],
   "source": [
    "plot_confusion_matrix(mod_opt_RF, X_test.drop(unused_features, axis = 1), y_test)"
   ]
  },
  {
   "cell_type": "code",
   "execution_count": 49,
   "metadata": {},
   "outputs": [
    {
     "data": {
      "text/plain": [
       "<sklearn.metrics._plot.confusion_matrix.ConfusionMatrixDisplay at 0x264c35e7e48>"
      ]
     },
     "execution_count": 49,
     "metadata": {},
     "output_type": "execute_result"
    },
    {
     "data": {
      "image/png": "[encoded data removed]",
      "text/plain": [
       "<Figure size 432x288 with 2 Axes>"
      ]
     },
     "metadata": {
      "needs_background": "light"
     },
     "output_type": "display_data"
    }
   ],
   "source": [
    "plot_confusion_matrix(mod_opt_RF, X_train.drop(unused_features, axis = 1), y_train)"
   ]
  },
  {
   "cell_type": "code",
   "execution_count": null,
   "metadata": {},
   "outputs": [],
   "source": [
    "importances = mod_opt_RF.feature_importances_\n",
    "forest_importances = pd.Series(importances, index=X_train.drop(unused_features, axis = 1).columns)\n",
    "std = np.std([\n",
    "    tree.feature_importances_ for tree in mod_opt_RF.estimators_], axis=0)\n",
    "\n",
    "fig, ax = plt.subplots()\n",
    "forest_importances.plot.bar(yerr=std, ax=ax)\n",
    "ax.set_title(\"Feature importances using MDI\")\n",
    "ax.set_ylabel(\"Mean decrease in impurity\")\n",
    "fig.tight_layout()\n"
   ]
  },
  {
   "cell_type": "markdown",
   "metadata": {},
   "source": [
    "### Feature description\n",
    "\n",
    "**is_test**:  if is_test = 1 then the row belongs to the test dataset \\\n",
    "**ice_jam_same_day_last_year**: 1 if there were and ice jam on the same day last year \\\n",
    "**ice_jam_same_day_prelast_year**: 1 if there were and ice jam on the same day 2 years ago \\\n",
    "**is_last_year_missing**: 1 is the same day is missing last year \\\n",
    "**is_prelast_year_missing**: 1 is the same day is missing 2 years ago \\\n",
    "**n_jams_last_year**: number of jams last year at the station \\\n",
    "**n_jams_past**: number of jams in the past available data at the station \\\n",
    "**n_same_days_before**: number of same days available in the past \\\n",
    "**n_ice_jams_same_days_before**: number of ice jams ob the same day in the past \\\n",
    "**n_ice_jams_same_days_before_ratio**: n_ice_jams_same_days_before/n_ice_jams_same_days_before"
   ]
  },
  {
   "cell_type": "markdown",
   "metadata": {},
   "source": [
    "## Retrain the model on all data"
   ]
  },
  {
   "cell_type": "code",
   "execution_count": null,
   "metadata": {},
   "outputs": [],
   "source": [
    "all_train = X[(X['is_test'] == False)].drop('ice_jam', axis = 1).reset_index(drop=True).dropna()\n",
    "X_val = X[(X['is_test'] == True)].drop('ice_jam', axis = 1).reset_index(drop=True).dropna()\n",
    "all_y_train =  X.loc[(X['is_test'] == False),'ice_jam']\n",
    "unused_features = ['year', 'is_test']\n",
    "mod_opt_RF = mod_opt_RF.fit(all_train.drop(unused_features, axis = 1), all_y_train)\n"
   ]
  },
  {
   "cell_type": "code",
   "execution_count": null,
   "metadata": {},
   "outputs": [],
   "source": [
    "X_val['ice_jam'] = mod_opt_RF.predict(X_val.drop(unused_features, axis = 1))"
   ]
  },
  {
   "cell_type": "code",
   "execution_count": null,
   "metadata": {},
   "outputs": [],
   "source": [
    "now = datetime.now()\n",
    "X_val[['year', 'station_id', 'day', 'ice_jam']].\\\n",
    "    to_csv(sumbit_dir + 'submit-rf' + now.strftime(\"%m-%d-%Y-%H-%M\") + '.csv', index=False)"
   ]
  },
  {
   "cell_type": "markdown",
   "metadata": {},
   "source": [
    "### submit"
   ]
  },
  {
   "cell_type": "code",
   "execution_count": null,
   "metadata": {},
   "outputs": [],
   "source": [
    "X.to_csv(preprocessed_dir + 'X-' + now.strftime(\"%m-%d-%Y-%H-%M\") + '.csv', index=False)"
   ]
  },
  {
   "cell_type": "markdown",
   "metadata": {},
   "source": [
    "# XGBoost"
   ]
  },
  {
   "cell_type": "code",
   "execution_count": 62,
   "metadata": {},
   "outputs": [
    {
     "name": "stdout",
     "output_type": "stream",
     "text": [
      "F1-train: 0.9090909090909091\n",
      "F1-test: 0.0\n"
     ]
    }
   ],
   "source": [
    "model = XGBClassifier()\n",
    "eval_set =[(X_test.drop(unused_features, axis = 1), y_test)]\n",
    "model.fit(X_train.drop(unused_features, axis = 1), \n",
    "                     y_train,  eval_metric=\"auc\",\n",
    "                     eval_set=eval_set , verbose=False)   \n",
    "\n",
    "y_pred = model.predict(X_test.drop(unused_features, axis = 1))\n",
    "y_train_pred = model.predict(X_train.drop(unused_features, axis = 1))\n",
    "\n",
    "print('F1-train: {}'.format(f1_score(y_train, y_train_pred)))\n",
    "print('F1-test: {}'.format(f1_score(y_test, y_pred)))"
   ]
  },
  {
   "cell_type": "code",
   "execution_count": null,
   "metadata": {},
   "outputs": [],
   "source": [
    "model.get_params()"
   ]
  },
  {
   "cell_type": "code",
   "execution_count": 64,
   "metadata": {},
   "outputs": [
    {
     "name": "stdout",
     "output_type": "stream",
     "text": [
      "Fitting 3 folds for each of 80 candidates, totalling 240 fits\n"
     ]
    },
    {
     "name": "stderr",
     "output_type": "stream",
     "text": [
      "[Parallel(n_jobs=-1)]: Using backend LokyBackend with 8 concurrent workers.\n",
      "[Parallel(n_jobs=-1)]: Done  25 tasks      | elapsed:    8.6s\n",
      "[Parallel(n_jobs=-1)]: Done 146 tasks      | elapsed:   15.2s\n"
     ]
    },
    {
     "name": "stdout",
     "output_type": "stream",
     "text": [
      "[0]\tvalidation_0-error:0.01073\n",
      "Will train until validation_0-error hasn't improved in 10 rounds.\n",
      "[1]\tvalidation_0-error:0.01073\n",
      "[2]\tvalidation_0-error:0.01073\n",
      "[3]\tvalidation_0-error:0.01073\n",
      "[4]\tvalidation_0-error:0.01073\n",
      "[5]\tvalidation_0-error:0.01073\n",
      "[6]\tvalidation_0-error:0.01073\n",
      "[7]\tvalidation_0-error:0.01073\n",
      "[8]\tvalidation_0-error:0.01073\n",
      "[9]\tvalidation_0-error:0.01073\n",
      "[10]\tvalidation_0-error:0.01073\n",
      "Stopping. Best iteration:\n",
      "[0]\tvalidation_0-error:0.01073\n",
      "\n"
     ]
    },
    {
     "name": "stderr",
     "output_type": "stream",
     "text": [
      "[Parallel(n_jobs=-1)]: Done 240 out of 240 | elapsed:   20.8s finished\n",
      "C:\\Users\\omore\\Anaconda3\\lib\\site-packages\\sklearn\\model_selection\\_search.py:823: FutureWarning: The parameter 'iid' is deprecated in 0.22 and will be removed in 0.24.\n",
      "  \"removed in 0.24.\", FutureWarning\n"
     ]
    },
    {
     "name": "stdout",
     "output_type": "stream",
     "text": [
      "{'max_depth': 2, 'max_features': 3, 'n_estimators': 20, 'random_state': 29}\n",
      "F1-train: 0.0\n",
      "F1-test: 0.0\n"
     ]
    }
   ],
   "source": [
    "search_grid_RF = {'max_depth': [2, 3, 4, 5, 6],\n",
    "                  'max_features': [3, 4, 5, 6],\n",
    "                  'n_estimators': [20, 50, 100, 150],\n",
    "                  'random_state': [29]\n",
    "                  }\n",
    "\n",
    "\n",
    "\n",
    "param_search_xgb = GridSearchCV(estimator=model, \n",
    "                               param_grid=search_grid_RF, \n",
    "                               scoring=metrics.make_scorer(metrics.f1_score),\n",
    "                               cv=3, \n",
    "                               n_jobs=-1, \n",
    "                               verbose=2, return_train_score=True,\n",
    "                               iid=True)\n",
    "param_search_xgb.fit(X_train.drop(unused_features, axis = 1), \n",
    "                     y_train, early_stopping_rounds=10, \n",
    "                     eval_set=[(X_test.drop(unused_features, axis = 1),)] , verbose=True)        \n",
    "\n",
    "print(param_search_xgb.best_params_)\n",
    "mod_opt_xgb = XGBClassifier(**param_search_xgb.best_params_)\n",
    "mod_opt_xgb = mod_opt_xgb.fit(X_train.drop(unused_features, axis = 1), y_train)\n",
    "\n",
    "y_pred = mod_opt_xgb.predict(X_test.drop(unused_features, axis = 1))\n",
    "y_train_pred = mod_opt_xgb.predict(X_train.drop(unused_features, axis = 1))\n",
    "\n",
    "threshold_RF = 0.3\n",
    "print('F1-train: {}'.format(f1_score(y_train, y_train_pred)))\n",
    "print('F1-test: {}'.format(f1_score(y_test, y_pred)))"
   ]
  },
  {
   "cell_type": "markdown",
   "metadata": {},
   "source": [
    "# I stopped here"
   ]
  },
  {
   "cell_type": "markdown",
   "metadata": {},
   "source": [
    "### Соберем фичи из гидроданных"
   ]
  },
  {
   "cell_type": "markdown",
   "metadata": {},
   "source": [
    "<div class=\"alert alert-block alert-warning\">\n",
    "Мы не можем использовать данные из будущего: всё, что происходит после заторного периода, относится уже к следующему году.\n",
    "</div>"
   ]
  },
  {
   "cell_type": "code",
   "execution_count": null,
   "metadata": {},
   "outputs": [],
   "source": [
    "# Внесем не темпоральные данные\n",
    "main_df = pd.merge(main_df, hc[['station_id', \n",
    "                                'distance_from_source', \n",
    "                                'drainage_area', \n",
    "                                'z_null']], on='station_id', how='left')\n",
    "\n",
    "# Возьмем также данные из ежедневных наблюдений\n",
    "hld = pd.read_csv(data_dir + 'hydro_1day.csv',\n",
    "                   parse_dates=['date'])\n",
    "hld.head(1)"
   ]
  },
  {
   "cell_type": "code",
   "execution_count": null,
   "metadata": {},
   "outputs": [],
   "source": [
    "main_df.head()"
   ]
  },
  {
   "cell_type": "code",
   "execution_count": null,
   "metadata": {},
   "outputs": [],
   "source": [
    "hld['station_id'] = hld.station_id.astype(int)\n",
    "mld['station_id'] = mld['station_id'].astype(int)"
   ]
  },
  {
   "cell_type": "code",
   "execution_count": null,
   "metadata": {},
   "outputs": [],
   "source": [
    "hld.head()"
   ]
  },
  {
   "cell_type": "code",
   "execution_count": null,
   "metadata": {},
   "outputs": [],
   "source": [
    "mld.head()"
   ]
  },
  {
   "cell_type": "code",
   "execution_count": null,
   "metadata": {},
   "outputs": [],
   "source": [
    "hld = hld.merge(mld, on=['station_id', 'year', 'month', 'day'], how='inner')\n",
    "hld = hld.fillna(0)\n",
    "hld.head()"
   ]
  },
  {
   "cell_type": "markdown",
   "metadata": {},
   "source": [
    "### Скорректируем год, в который доступно наблюдение"
   ]
  },
  {
   "cell_type": "code",
   "execution_count": null,
   "metadata": {},
   "outputs": [],
   "source": [
    "hld.head()"
   ]
  },
  {
   "cell_type": "code",
   "execution_count": null,
   "metadata": {},
   "outputs": [],
   "source": [
    "# Определим для наблюдения год, в который оно доступно\n",
    "\n",
    "# Маска-окно между заторным периодом и концом года\n",
    "# true if after jam\n",
    "# false otherwise\n",
    "def after_jam_window(row, local=False):\n",
    "    if local:\n",
    "        month = row.month_local\n",
    "        day = row.date_local.day\n",
    "    else:\n",
    "        month = row.month\n",
    "        day = row.date.day\n",
    "    return (((month == 6) and (day > 3))\n",
    "            or (month in [7, 8, 9, 10, 11, 12]))\n",
    "\n",
    "# Год относительно бизнес-логики\n",
    "def target_year(row, local=False):\n",
    "    if local:\n",
    "        year = row.year_local\n",
    "    else:\n",
    "        year = row.year\n",
    "    if after_jam_window(row):\n",
    "        return year + 1\n",
    "    else:\n",
    "        return year\n",
    "    \n",
    "hld['target_year'] = hld.apply(target_year, axis=1)\n",
    "\n",
    "# Календарный год и день больше не нужны\n",
    "hld.drop(columns=['year', 'date', 'day'], axis=1, inplace=True)"
   ]
  },
  {
   "cell_type": "code",
   "execution_count": null,
   "metadata": {},
   "outputs": [],
   "source": [
    "hld.head()"
   ]
  },
  {
   "cell_type": "code",
   "execution_count": null,
   "metadata": {},
   "outputs": [],
   "source": [
    "# Гидро – сделаем ресэмплинг по месяцу\n",
    "\n",
    "index = ['station_id', 'month', 'target_year']\n",
    "\n",
    "hld_mean = hld.groupby(index).mean().add_prefix('mean_').reset_index()\n",
    "hld_max = hld.groupby(index).max().add_prefix('max_').reset_index()\n",
    "hld_min = hld.groupby(index).min().add_prefix('min_').reset_index()\n",
    "hld_std = hld.groupby(index).std().add_prefix('std_').reset_index()\n",
    "data_frames = [hld_mean, hld_max, hld_min, hld_std]\n",
    "\n",
    "hydro_monthly = pd.concat(data_frames, axis=1)\n",
    "hydro_monthly = hydro_monthly.loc[:,~hydro_monthly.columns.duplicated()]\n",
    "hydro_monthly.sort_values(index).head()"
   ]
  },
  {
   "cell_type": "code",
   "execution_count": null,
   "metadata": {},
   "outputs": [],
   "source": [
    "def make_features(df):\n",
    "    station, target_year = df.name\n",
    "    result = pd.DataFrame()\n",
    "    for month, mdf in df.groupby('month'):\n",
    "        m_feats = mdf[df.columns[4:]].add_prefix(str(month) + '_').reset_index(drop=True)\n",
    "        result = pd.concat([result, m_feats], axis=1)\n",
    "    return result.reset_index(drop=True)\n",
    "        \n",
    "hydro_features = hydro_monthly.groupby(['station_id', 'target_year']).apply(make_features)\n",
    "hydro_features = hydro_features.reset_index(level=2, drop=True).reset_index()\n",
    "hydro_features.dropna(how='all', axis=1, inplace=True)\n",
    "hydro_features"
   ]
  },
  {
   "cell_type": "markdown",
   "metadata": {},
   "source": [
    "### Соберем фичи в основной датасет\n",
    "\n",
    "<div class=\"alert alert-block alert-success\">\n",
    "Важно: merge делаем по target_year.\n",
    "</div>"
   ]
  },
  {
   "cell_type": "code",
   "execution_count": null,
   "metadata": {},
   "outputs": [],
   "source": [
    "main_df = pd.merge(main_df, hydro_features, left_on=['year', 'station_id'],\n",
    "                   right_on=['target_year', 'station_id'],\n",
    "                   how='left')\n",
    "cols = main_df.columns.to_list()\n",
    "main_df = main_df[cols[:3] + [cols[7]] + cols[5:7] + cols[8:] + [cols[3]]]\n",
    "main_df.dropna(how='any',inplace=True)\n",
    "main_df.head(2)"
   ]
  },
  {
   "cell_type": "markdown",
   "metadata": {},
   "source": [
    "### Нормируем фичи"
   ]
  },
  {
   "cell_type": "code",
   "execution_count": null,
   "metadata": {},
   "outputs": [],
   "source": [
    "from sklearn.preprocessing import StandardScaler\n",
    "\n",
    "ids, data, target = main_df[main_df.columns[:4]], main_df[main_df.columns[4:-1]], main_df[main_df.columns[-1]]\n",
    "\n",
    "scaler = StandardScaler()\n",
    "scaler.fit(data)\n",
    "transformed_data = scaler.transform(data)\n",
    "norm_df = pd.concat([ids, pd.DataFrame(transformed_data, columns = main_df.columns[4:-1]), target], axis=1)\n",
    "norm_df"
   ]
  },
  {
   "cell_type": "code",
   "execution_count": null,
   "metadata": {},
   "outputs": [],
   "source": [
    "# Разделим на трейн и тест исходя из target_year\n",
    "\n",
    "test = norm_df[~norm_df.target_year.isin(X_train.year.to_list())].reset_index(drop=True).dropna()\n",
    "train = norm_df[norm_df.target_year.isin(X_train.year.to_list())].reset_index(drop=True).dropna()\n",
    "\n",
    "# target_year больше не нужна\n",
    "\n",
    "test.drop(columns=['target_year'], inplace=True)\n",
    "train.drop(columns=['target_year'], inplace=True)"
   ]
  },
  {
   "cell_type": "code",
   "execution_count": null,
   "metadata": {},
   "outputs": [],
   "source": [
    "# Поделим данные на предикторы и таргет\n",
    "\n",
    "X_train, y_train = train.iloc[:, :-1], train.ice_jam\n",
    "X_test, y_test = test.iloc[:, :-1], test.ice_jam"
   ]
  },
  {
   "cell_type": "code",
   "execution_count": null,
   "metadata": {},
   "outputs": [],
   "source": [
    "X_train"
   ]
  },
  {
   "cell_type": "markdown",
   "metadata": {},
   "source": [
    "### Обучим простой классификатор"
   ]
  },
  {
   "cell_type": "code",
   "execution_count": null,
   "metadata": {},
   "outputs": [],
   "source": [
    "from sklearn.svm import SVC\n",
    "from sklearn.feature_selection import RFE\n",
    "from sklearn.linear_model import LogisticRegression\n",
    "from sklearn.decomposition import PCA\n",
    "from sklearn.model_selection import GridSearchCV\n",
    "from sklearn.pipeline import Pipeline"
   ]
  },
  {
   "cell_type": "code",
   "execution_count": null,
   "metadata": {},
   "outputs": [],
   "source": [
    "from sklearn.svm import LinearSVC\n",
    "from sklearn.feature_selection import RFE\n",
    "from sklearn.linear_model import LogisticRegression\n",
    "#lsvc = SVC(C=0.01, penalty=\"l1\", dual=False).fit(X_train, y_train)\n",
    "selector = RFE(LogisticRegression(max_iter=5000),\n",
    "               n_features_to_select=200, step=10).fit(X_train, y_train)\n",
    "X_reduced = selector.transform(X_train)\n",
    "X_reduced_test = selector.transform(X_test)\n",
    "X_reduced.shape"
   ]
  },
  {
   "cell_type": "code",
   "execution_count": null,
   "metadata": {},
   "outputs": [],
   "source": [
    "pca = PCA()\n",
    "parameters = {'pca__n_components': list(range(10,50,5)), 'svc__kernel':('linear', 'rbf'), 'svc__C':[1,10]}\n",
    "clf = Pipeline([('pca', pca), ('svc', SVC(class_weight='balanced'))])\n",
    "GS = GridSearchCV(clf, parameters, scoring='f1_macro')\n",
    "GS.fit(X_train, y_train)\n",
    "print(GS.cv_results_)\n",
    "print(GS.best_params_)"
   ]
  },
  {
   "cell_type": "code",
   "execution_count": null,
   "metadata": {},
   "outputs": [],
   "source": [
    "prediction = GS.predict(X_test)\n",
    "recall_score(y_test, prediction), \\\n",
    "    precision_score(y_test, prediction), f1_score(y_test, prediction)"
   ]
  },
  {
   "cell_type": "code",
   "execution_count": null,
   "metadata": {},
   "outputs": [],
   "source": [
    "test = pd.read_csv(data_dir + 'test.csv')\n",
    "test_real = pd.read_csv(data_dir + '../test_SECRET.csv')"
   ]
  },
  {
   "cell_type": "code",
   "execution_count": null,
   "metadata": {},
   "outputs": [],
   "source": [
    "test_real.head()"
   ]
  },
  {
   "cell_type": "code",
   "execution_count": null,
   "metadata": {},
   "outputs": [],
   "source": [
    "test_X = pd.merge(test_real, hc[['station_id', \n",
    "                                'distance_from_source', \n",
    "                                'drainage_area', \n",
    "                                'z_null']], on='station_id', how='left')"
   ]
  },
  {
   "cell_type": "code",
   "execution_count": null,
   "metadata": {},
   "outputs": [],
   "source": [
    "'year' in hydro_features.columns"
   ]
  },
  {
   "cell_type": "code",
   "execution_count": null,
   "metadata": {},
   "outputs": [],
   "source": [
    "test_X = pd.merge(test_X, hydro_features, left_on=['year', 'station_id'],\n",
    "                   right_on=['target_year', 'station_id'],\n",
    "                   how='left')\n",
    "cols = test_X.columns.to_list()\n",
    "test_X = test_X[cols[:3] + [cols[7]] + cols[5:7] + cols[8:] + [cols[3]]]"
   ]
  },
  {
   "cell_type": "code",
   "execution_count": null,
   "metadata": {},
   "outputs": [],
   "source": [
    "ids, data, target = test_X[test_X.columns[:4]], test_X[test_X.columns[4:-1]], test_X[test_X.columns[-1]]\n",
    "\n",
    "transformed_data = scaler.transform(data)\n",
    "test_X = pd.concat([ids, pd.DataFrame(transformed_data, columns = main_df.columns[4:-1]), target], axis=1)\n",
    "X_test_real, y_test_real = test_X.iloc[:, :-1], test_X.ice_jam"
   ]
  },
  {
   "cell_type": "code",
   "execution_count": null,
   "metadata": {},
   "outputs": [],
   "source": [
    "X_test_real.drop('target_year',inplace=True,axis=1)\n",
    "X_test_real = X_test_real.fillna(0)"
   ]
  },
  {
   "cell_type": "code",
   "execution_count": null,
   "metadata": {},
   "outputs": [],
   "source": [
    "#X_test_real_reduced = selector.transform(X_test_real)\n",
    "prediction =  GS.predict(X_test_real)\n",
    "accuracy_score(y_test_real, prediction), recall_score(y_test_real, prediction), \\\n",
    "    precision_score(y_test_real, prediction), f1_score(y_test_real, prediction)"
   ]
  }
 ],
 "metadata": {
  "kernelspec": {
   "display_name": "Python 3",
   "language": "python",
   "name": "python3"
  },
  "language_info": {
   "codemirror_mode": {
    "name": "ipython",
    "version": 3
   },
   "file_extension": ".py",
   "mimetype": "text/x-python",
   "name": "python",
   "nbconvert_exporter": "python",
   "pygments_lexer": "ipython3",
   "version": "3.7.4"
  }
 },
 "nbformat": 4,
 "nbformat_minor": 4
}
