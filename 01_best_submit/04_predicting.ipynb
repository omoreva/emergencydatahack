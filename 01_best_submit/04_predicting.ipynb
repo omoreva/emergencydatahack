{
 "cells": [
  {
   "cell_type": "markdown",
   "metadata": {},
   "source": [
    "# Загрузка обученной модели, расчет предсказаний"
   ]
  },
  {
   "cell_type": "code",
   "execution_count": 21,
   "metadata": {},
   "outputs": [],
   "source": [
    "import pandas as pd\n",
    "import numpy as np\n",
    "import os\n",
    "from sklearn.metrics import f1_score\n",
    "import matplotlib.pyplot as plt\n",
    "from sklearn import metrics\n",
    "from xgboost import XGBClassifier\n",
    "import pickle\n",
    "\n",
    "pd.options.display.max_columns = None\n"
   ]
  },
  {
   "cell_type": "markdown",
   "metadata": {},
   "source": [
    "## Загрузка модели и данных для предсказаний"
   ]
  },
  {
   "cell_type": "code",
   "execution_count": 22,
   "metadata": {},
   "outputs": [],
   "source": [
    "# Путь к директории с данными и моделью\n",
    "preprocessed_dir = '../../03_preprocessed_data/'"
   ]
  },
  {
   "cell_type": "code",
   "execution_count": 23,
   "metadata": {},
   "outputs": [],
   "source": [
    "model_name = ('submit-rf05-29-2021-23-38.pkl')\n",
    "loaded_model = pickle.load(open(model_name, 'rb'))"
   ]
  },
  {
   "cell_type": "code",
   "execution_count": 24,
   "metadata": {},
   "outputs": [
    {
     "name": "stderr",
     "output_type": "stream",
     "text": [
      "C:\\Users\\omore\\Anaconda3\\lib\\site-packages\\IPython\\core\\interactiveshell.py:3058: DtypeWarning: Columns (46,65,121,140,196,271,421,590,646,665) have mixed types.Specify dtype option on import or set low_memory=False.\n",
      "  interactivity=interactivity, compiler=compiler, result=result)\n"
     ]
    }
   ],
   "source": [
    "all_data = pd.read_csv(preprocessed_dir + 'X.csv')"
   ]
  },
  {
   "cell_type": "markdown",
   "metadata": {},
   "source": [
    "Изпользуемые фичи"
   ]
  },
  {
   "cell_type": "code",
   "execution_count": 59,
   "metadata": {},
   "outputs": [],
   "source": [
    "use_for_train = ['10_max_stage_max', '11_stage_inc_monthly', '2_std_air', '9_mean_air', '11_std_stage_max', \n",
    "                 'distance_from_source', '7_std_stage_max', 'n_jams_prelast_year', '8_std_stage_max',\n",
    "                 '1_max_stage_max', '1_mean_stage_max', '8_max_air', '8_mean_stage_max', '10_mean_air',\n",
    "                 '12_std_air', 'is_prelast_year_missing', '1_mean_air', '12_min_stage_max', 'year', \n",
    "                 '8_stage_inc_monthly', '7_min_air', '9_std_stage_max', '11_max_air', '6_stage_inc_monthly', \n",
    "                 '2_max_stage_max', '6_std_stage_max', '2_min_air', '9_max_stage_max', '6_min_air', \n",
    "                 '10_std_air', '8_max_stage_max', 'n_jams_past', '12_max_stage_max', '10_min_air', \n",
    "                 '12_min_air', 'is_last_year_missing', '7_max_air', 'station_id', '7_std_air', '6_mean_air', \n",
    "                 '2_min_stage_max', '12_mean_stage_max', '6_max_air', '11_min_stage_max', '9_min_air', \n",
    "                 '2_mean_stage_max', '7_min_stage_max', '1_min_air', 'day', '6_std_air', \n",
    "                 'ice_jam_same_day_last_year', '2_std_stage_max', '1_std_air', '7_stage_inc_monthly', \n",
    "                 '11_mean_stage_max', '11_max_stage_max', '9_max_air', 'ice_jam_same_day_prelast_year', \n",
    "                 '10_max_air', '11_mean_air', '7_mean_stage_max', '11_min_air', '8_min_stage_max',\n",
    "                 '9_stage_inc_monthly', '1_min_stage_max', '6_mean_stage_max', '6_max_stage_max', \n",
    "                 '1_max_air', '10_mean_stage_max', '9_mean_stage_max', 'drainage_area', '8_std_air', \n",
    "                 'n_jams_last_year', '12_mean_air', '12_std_stage_max', '2_mean_air', \n",
    "                 'n_ice_jams_same_days_before', '2_max_air', '10_std_stage_max', '9_min_stage_max', \n",
    "                 'height_diff_by_dist', '10_min_stage_max', '12_stage_inc_monthly', '7_mean_air', \n",
    "                 '1_stage_inc_monthly', '6_min_stage_max', 'n_ice_jams_same_days_before_ratio', \n",
    "                 '2_stage_inc_monthly', '8_min_air', '7_max_stage_max', '9_std_air', \n",
    "                 '10_stage_inc_monthly', '11_std_air', 'z_null', '1_std_stage_max', '12_max_air', '8_mean_air'\n",
    "                ]"
   ]
  },
  {
   "cell_type": "code",
   "execution_count": 60,
   "metadata": {},
   "outputs": [],
   "source": [
    "X_used = all_data[use_for_train + ['is_test', 'ice_jam']  ]\n",
    "X_val = X_used[(X_used['is_test'] == True)].drop(['ice_jam'], axis = 1).reset_index(drop=True).dropna()"
   ]
  },
  {
   "cell_type": "markdown",
   "metadata": {},
   "source": [
    "## Расчет предсказаний для загруженных данных"
   ]
  },
  {
   "cell_type": "code",
   "execution_count": 61,
   "metadata": {},
   "outputs": [],
   "source": [
    "result = loaded_model.predict(X_val)"
   ]
  },
  {
   "cell_type": "code",
   "execution_count": null,
   "metadata": {},
   "outputs": [],
   "source": [
    "result.to_csv()"
   ]
  },
  {
   "cell_type": "code",
   "execution_count": 62,
   "metadata": {},
   "outputs": [
    {
     "data": {
      "text/plain": [
       "Text(0.5, 0, 'XGBoost Importance')"
      ]
     },
     "execution_count": 62,
     "metadata": {},
     "output_type": "execute_result"
    },
    {
     "data": {
      "image/png": "[encoded data removed]",
      "text/plain": [
       "<Figure size 432x288 with 1 Axes>"
      ]
     },
     "metadata": {
      "needs_background": "light"
     },
     "output_type": "display_data"
    }
   ],
   "source": [
    "importances = loaded_model.feature_importances_\n",
    "feature_names = X_val.columns\n",
    "sorted_idx = importances.argsort()[-20:]\n",
    "\n",
    "\n",
    "plt.barh(feature_names[sorted_idx], importances[sorted_idx])\n",
    "plt.xlabel(\"XGBoost Importance\")\n"
   ]
  }
 ],
 "metadata": {
  "kernelspec": {
   "display_name": "Python 3",
   "language": "python",
   "name": "python3"
  },
  "language_info": {
   "codemirror_mode": {
    "name": "ipython",
    "version": 3
   },
   "file_extension": ".py",
   "mimetype": "text/x-python",
   "name": "python",
   "nbconvert_exporter": "python",
   "pygments_lexer": "ipython3",
   "version": "3.7.4"
  }
 },
 "nbformat": 4,
 "nbformat_minor": 2
}
