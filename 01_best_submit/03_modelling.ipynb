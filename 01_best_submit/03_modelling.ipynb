{
 "cells": [
  {
   "cell_type": "code",
   "execution_count": 3,
   "metadata": {},
   "outputs": [
    {
     "name": "stderr",
     "output_type": "stream",
     "text": [
      "C:\\Users\\omore\\Anaconda3\\lib\\site-packages\\dask\\dataframe\\utils.py:14: FutureWarning: pandas.util.testing is deprecated. Use the functions in the public API at pandas.testing instead.\n",
      "  import pandas.util.testing as tm\n"
     ]
    }
   ],
   "source": [
    "import pandas as pd\n",
    "import numpy as np\n",
    "from sklearn.model_selection import train_test_split\n",
    "from sklearn.ensemble import RandomForestClassifier\n",
    "from sklearn.metrics import accuracy_score, recall_score, precision_score, f1_score, roc_auc_score\n",
    "import os\n",
    "from sklearn.metrics import f1_score\n",
    "pd.options.display.max_columns = None\n",
    "import matplotlib.pyplot as plt\n",
    "from sklearn.model_selection import GridSearchCV, TimeSeriesSplit\n",
    "from sklearn import metrics\n",
    "from sklearn.metrics import plot_confusion_matrix\n",
    "from datetime import datetime\n",
    "from xgboost import XGBClassifier\n",
    "from numpy import inf"
   ]
  },
  {
   "cell_type": "code",
   "execution_count": 5,
   "metadata": {},
   "outputs": [
    {
     "name": "stderr",
     "output_type": "stream",
     "text": [
      "C:\\Users\\omore\\Anaconda3\\lib\\site-packages\\IPython\\core\\interactiveshell.py:3058: DtypeWarning: Columns (45,64,120,139,195,420,589,645,664) have mixed types.Specify dtype option on import or set low_memory=False.\n",
      "  interactivity=interactivity, compiler=compiler, result=result)\n",
      "C:\\Users\\omore\\Anaconda3\\lib\\site-packages\\IPython\\core\\interactiveshell.py:3058: DtypeWarning: Columns (45,64,120,139,195,270,589,645,664) have mixed types.Specify dtype option on import or set low_memory=False.\n",
      "  interactivity=interactivity, compiler=compiler, result=result)\n",
      "C:\\Users\\omore\\Anaconda3\\lib\\site-packages\\IPython\\core\\interactiveshell.py:3058: DtypeWarning: Columns (46,65,121,140,196,271,421,590,646,665) have mixed types.Specify dtype option on import or set low_memory=False.\n",
      "  interactivity=interactivity, compiler=compiler, result=result)\n"
     ]
    }
   ],
   "source": [
    "# Путь к директории с данными\n",
    "\n",
    "data_dir = '../../00_data/track_1/'\n",
    "sumbit_dir = '../../02_submits/'\n",
    "preprocessed_dir = '../../03_preprocessed_data/'\n",
    "\n",
    "X_train = pd.read_csv(preprocessed_dir + 'X_train.csv')\n",
    "X_test = pd.read_csv(preprocessed_dir + 'X_test.csv')\n",
    "y_train = pd.read_csv(preprocessed_dir + 'y_train.csv')\n",
    "y_test  = pd.read_csv(preprocessed_dir + 'y_test.csv')\n",
    "X = pd.read_csv(preprocessed_dir + 'X.csv')\n",
    "unused_features = [ 'is_test']\n",
    "cat_col = [x for x in X_train.columns if 'code'  in x]\n",
    "unused_features = unused_features + cat_col\n",
    "use_for_train = ['year', 'station_id', 'day', 'ice_jam_same_day_last_year',\n",
    "       'ice_jam_same_day_last_year_prev_stat', 'ice_jam_same_day_prelast_year',\n",
    "       'is_prelast_year_missing', 'n_jams_last_year',\n",
    "       'n_jams_prelast_year', 'n_jams_last_year_prev_station', 'n_jams_past',\n",
    "       'n_jams_past_prev_stat', 'n_same_days_before',\n",
    "       'n_ice_jams_same_days_before', 'n_ice_jams_same_days_before_ratio', 'station_width']\n",
    "#\n",
    "use_for_train = ['year', 'station_id', 'day', \n",
    "       'ice_jam_same_day_last_year', \n",
    "       'ice_jam_same_day_prelast_year', \n",
    "                 'is_last_year_missing',\n",
    "       'is_prelast_year_missing', \n",
    "                 'n_jams_last_year',\n",
    "                 'n_jams_prelast_year',\n",
    "       'n_jams_past',  'n_ice_jams_same_days_before',\n",
    "       'n_ice_jams_same_days_before_ratio',\n",
    "       'distance_from_source', 'drainage_area', 'z_null', \n",
    "       'height_diff_by_dist']\n",
    "use_for_train = use_for_train + \\\n",
    "    [x for x in X_train.columns if 'stage_max'  in x] + \\\n",
    "    [x for x in X_train.columns if 'air'  in x] + \\\n",
    "    [x for x in X_train.columns if 'inc'  in x] \n",
    "use_for_train = list(set(use_for_train))"
   ]
  },
  {
   "cell_type": "code",
   "execution_count": 6,
   "metadata": {},
   "outputs": [
    {
     "data": {
      "text/plain": [
       "97"
      ]
     },
     "execution_count": 6,
     "metadata": {},
     "output_type": "execute_result"
    }
   ],
   "source": [
    "len(use_for_train)"
   ]
  },
  {
   "cell_type": "markdown",
   "metadata": {},
   "source": [
    "from sklearn.feature_selection import SelectKBest\n",
    "N_features = 50\n",
    "unused_features = unused_features + cat_col\n",
    "feature_selector = SelectKBest(k = N_features)\n",
    "features = X_train.drop(unused_features, axis = 1).columns\n",
    "feature_selector = feature_selector.fit(X_train.drop(unused_features, axis = 1), y_train)\n",
    "#X_train_new = .fit_transform(X_train.drop(unused_features, axis = 1), y_train)\n",
    "#X_train_new.shape\n",
    "use_for_train = features[feature_selector.get_support()]\n",
    "use_for_train"
   ]
  },
  {
   "cell_type": "code",
   "execution_count": 34,
   "metadata": {},
   "outputs": [],
   "source": [
    "use_for_train = use_for_train + \\\n",
    "    [x for x in X_train.columns if 'stage_max'  in x] + \\\n",
    "    [x for x in X_train.columns if 'air'  in x] + \\\n",
    "    [x for x in X_train.columns if 'inc'  in x] \n",
    "use_for_train = list(set(use_for_train))"
   ]
  },
  {
   "cell_type": "code",
   "execution_count": 53,
   "metadata": {},
   "outputs": [
    {
     "name": "stdout",
     "output_type": "stream",
     "text": [
      "[0]\tvalidation_0-error:0.16436\n",
      "Will train until validation_0-error hasn't improved in 2 rounds.\n",
      "[1]\tvalidation_0-error:0.09285\n",
      "[2]\tvalidation_0-error:0.09950\n",
      "[3]\tvalidation_0-error:0.07844\n",
      "[4]\tvalidation_0-error:0.08121\n",
      "[5]\tvalidation_0-error:0.05543\n",
      "[6]\tvalidation_0-error:0.05903\n",
      "[7]\tvalidation_0-error:0.04490\n",
      "[8]\tvalidation_0-error:0.04130\n",
      "[9]\tvalidation_0-error:0.03908\n",
      "[10]\tvalidation_0-error:0.03437\n",
      "[11]\tvalidation_0-error:0.03326\n",
      "[12]\tvalidation_0-error:0.02605\n",
      "[13]\tvalidation_0-error:0.02051\n",
      "[14]\tvalidation_0-error:0.02411\n",
      "[15]\tvalidation_0-error:0.02051\n",
      "Stopping. Best iteration:\n",
      "[13]\tvalidation_0-error:0.02051\n",
      "\n",
      "F1-train: 0.3003952569169961\n",
      "F1-test: 0.075\n"
     ]
    }
   ],
   "source": [
    "model = XGBClassifier(scale_pos_weight = 50, n_estimators = 500, random_state=0)\n",
    "eval_set =[(X_test_used, y_test)]\n",
    "model.fit(X_train_used, y_train, early_stopping_rounds = 2, \n",
    "                      eval_metric=\"error\",\n",
    "                     eval_set=eval_set , verbose=True)   \n",
    "\n",
    "y_pred = model.predict(X_test_used)\n",
    "y_train_pred = model.predict(X_train_used)\n",
    "\n",
    "print('F1-train: {}'.format(f1_score(y_train, y_train_pred)))\n",
    "print('F1-test: {}'.format(f1_score(y_test, y_pred)))"
   ]
  },
  {
   "cell_type": "markdown",
   "metadata": {},
   "source": [
    "## Retrain the model on all data"
   ]
  },
  {
   "cell_type": "code",
   "execution_count": 75,
   "metadata": {},
   "outputs": [],
   "source": [
    "X_used = X[X_test_used.columns.to_list() + ['is_test', 'ice_jam']  ]\n",
    "all_train = X_used[(X_used['is_test'] == False)].drop('ice_jam', axis = 1).reset_index(drop=True)\n",
    "X_val = X_used[(X_used['is_test'] == True)].drop('ice_jam', axis = 1).reset_index(drop=True).dropna()\n",
    "all_y_train =  X_used.loc[(X_used['is_test'] == False),'ice_jam']\n",
    "unused_features = ['year', 'is_test']\n",
    "mod_opt= model.fit(all_train, all_y_train)\n"
   ]
  },
  {
   "cell_type": "code",
   "execution_count": 77,
   "metadata": {},
   "outputs": [],
   "source": [
    "X_val['ice_jam'] = mod_opt.predict(X_val)"
   ]
  },
  {
   "cell_type": "markdown",
   "metadata": {},
   "source": [
    "### Save submit file"
   ]
  },
  {
   "cell_type": "code",
   "execution_count": 78,
   "metadata": {},
   "outputs": [],
   "source": [
    "now = datetime.now()\n",
    "X_val[['year', 'station_id', 'day', 'ice_jam']].\\\n",
    "    to_csv(sumbit_dir + 'submit-rf' + now.strftime(\"%m-%d-%Y-%H-%M\") + '.csv', index=False)"
   ]
  }
 ],
 "metadata": {
  "kernelspec": {
   "display_name": "Python 3",
   "language": "python",
   "name": "python3"
  },
  "language_info": {
   "codemirror_mode": {
    "name": "ipython",
    "version": 3
   },
   "file_extension": ".py",
   "mimetype": "text/x-python",
   "name": "python",
   "nbconvert_exporter": "python",
   "pygments_lexer": "ipython3",
   "version": "3.7.4"
  }
 },
 "nbformat": 4,
 "nbformat_minor": 4
}
