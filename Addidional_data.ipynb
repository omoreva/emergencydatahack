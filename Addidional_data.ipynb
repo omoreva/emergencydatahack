{
 "cells": [
  {
   "cell_type": "code",
   "execution_count": 3,
   "metadata": {},
   "outputs": [],
   "source": [
    "import pandas as pd\n",
    "import os\n",
    "import glob\n",
    "import re\n",
    "import numpy as np"
   ]
  },
  {
   "cell_type": "code",
   "execution_count": 6,
   "metadata": {},
   "outputs": [],
   "source": [
    "path_to_data = '..//00_data/additional'"
   ]
  },
  {
   "cell_type": "code",
   "execution_count": 166,
   "metadata": {},
   "outputs": [],
   "source": [
    "# Метеостанции\n",
    "meteo_stations = [24538, 24641, 24643, 24661, 24671, 24713, 24726, 24738, 24763,\n",
    "       24817, 24923, 24933, 24944, 24951, 24959, 24966, 24967, 30028,\n",
    "       30054, 30069, 30089, 30219, 30230, 30252, 30253, 30328, 30337,\n",
    "       30356, 30372, 30385, 30393, 30433, 30471, 30493, 31004, 31026,\n",
    "       31102, 31137]\n",
    "\n",
    "# Дополнительные метеостанции\n",
    "# 30230 - Киренск\n",
    "# 30054 - Витим\n",
    "# 24923 - Ленск\n",
    "# 24944 - Олекминск\n",
    "# 24856 - Покровск\n",
    "# 24959 - Якутск\n",
    "# 24652 - Сангар\n",
    "# 24656 - Батамай\n",
    "\n",
    "extra_meteo_stations = [30230, 30054, 24923, 24944, 24856, 24959, 24652, 24656]\n",
    "\n",
    "meteo_stations = meteo_stations+extra_meteo_stations"
   ]
  },
  {
   "cell_type": "code",
   "execution_count": 9,
   "metadata": {},
   "outputs": [],
   "source": [
    "hydro_stations = [3019, 3021, 3024, 3027, 3028, 3029, 3030, 3031, 3032, 3035, 3036,\n",
    "       3037, 3038, 3041, 3042, 3045, 3047, 3048, 3050, 3087, 3106, 3169,\n",
    "       3180, 3229, 3230, 3554, 3555]"
   ]
  },
  {
   "cell_type": "code",
   "execution_count": 200,
   "metadata": {},
   "outputs": [],
   "source": [
    "def reading_all_files(directory, list_of_stations):\n",
    "    combined_file = pd.DataFrame()\n",
    "\n",
    "    for file in file_list:\n",
    "        file = os.path.join(files, file)\n",
    "        if os.path.isfile(file):\n",
    "            temp = list(filter(None, [re.split('\\s+', i.strip('\\n')) for i in open(file)]))\n",
    "            temp_pd = pd.DataFrame(temp)\n",
    "\n",
    "            combined_file = combined_file.append(temp_pd)\n",
    "    return combined_file"
   ]
  },
  {
   "cell_type": "markdown",
   "metadata": {},
   "source": [
    "## Snow"
   ]
  },
  {
   "cell_type": "code",
   "execution_count": 64,
   "metadata": {},
   "outputs": [],
   "source": [
    "# List of all files to read in\n",
    "#files = os.path.join(path_to_data, 'snow')\n",
    "#file_list = glob.glob(files + '/*')"
   ]
  },
  {
   "cell_type": "code",
   "execution_count": 167,
   "metadata": {},
   "outputs": [],
   "source": [
    "files = os.path.join(path_to_data, 'snow')"
   ]
  },
  {
   "cell_type": "code",
   "execution_count": 201,
   "metadata": {},
   "outputs": [],
   "source": [
    "# Create a dataframe for meteostations\n",
    "file_list = map(str, meteo_stations)\n",
    "\n",
    "meteo_snow = reading_all_files(files, file_list)"
   ]
  },
  {
   "cell_type": "code",
   "execution_count": 202,
   "metadata": {},
   "outputs": [],
   "source": [
    "#  KEY(U)        СТАНЦИЯ  FA(5)   PC(5);     // Индекс ВМО            \n",
    "#  KEY(I)        ГОД      FA(5)   PC(4);     // Год                \n",
    "#  KEY(I)        МЕСЯЦ    FA(3)   PC(2);     // Месяц              \n",
    "#  KEY(I)        ДЕНЬ     FA(3)   PC(2);     // День        \n",
    "#  MIT           СНЕПВЫСМ FC(5)   PC(4);     // Высота снежного покрова   \n",
    "#  MIT           СНЕСТЕПВ FC(3)   PC(2);     // Степень покрытия окрестности станции снегом      \n",
    "#  MIT           Q1       FC(2)   PC(1);     // Дополнительная информация о высоте снежного покрова \n",
    "#  MIT           Q2       FC(2)   PC(1);     // Признак качества по высоте снежного покрова \n",
    "#  MIT           Q3       FC(2)   PC(1);     // Дополнительная информация с учетом температуры воздуха \n",
    "\n",
    "#meteo_snow.columns = ['station_id', 'year', 'month', 'day', 'height_of_snow_cover',\n",
    "#                        'how_much_snow_around', 'extra_info_about_snow_height',\n",
    "#                         'some_property_of_snow_cover',\n",
    "#                         'extra_info_about_snow_with_regard_to_air_temp'\n",
    "#                        ]\n",
    "meteo_snow.columns = ['station_id', 'Год', 'Месяц', 'День', 'Высота снежного покрова',\n",
    "                        'Степень покрытия окрестности станции снегом', 'Дополнительная информация о высоте снежного покрова',\n",
    "                         'Признак качества по высоте снежного покрова',\n",
    "                         'Дополнительная информация с учетом температуры воздуха'\n",
    "                        ]"
   ]
  },
  {
   "cell_type": "code",
   "execution_count": 204,
   "metadata": {},
   "outputs": [
    {
     "data": {
      "text/html": [
       "<div>\n",
       "<style scoped>\n",
       "    .dataframe tbody tr th:only-of-type {\n",
       "        vertical-align: middle;\n",
       "    }\n",
       "\n",
       "    .dataframe tbody tr th {\n",
       "        vertical-align: top;\n",
       "    }\n",
       "\n",
       "    .dataframe thead th {\n",
       "        text-align: right;\n",
       "    }\n",
       "</style>\n",
       "<table border=\"1\" class=\"dataframe\">\n",
       "  <thead>\n",
       "    <tr style=\"text-align: right;\">\n",
       "      <th></th>\n",
       "      <th>station_id</th>\n",
       "      <th>Год</th>\n",
       "      <th>Месяц</th>\n",
       "      <th>День</th>\n",
       "      <th>Высота снежного покрова</th>\n",
       "      <th>Степень покрытия окрестности станции снегом</th>\n",
       "      <th>Дополнительная информация о высоте снежного покрова</th>\n",
       "      <th>Признак качества по высоте снежного покрова</th>\n",
       "      <th>Дополнительная информация с учетом температуры воздуха</th>\n",
       "    </tr>\n",
       "  </thead>\n",
       "  <tbody>\n",
       "    <tr>\n",
       "      <th>0</th>\n",
       "      <td>24538</td>\n",
       "      <td>1955</td>\n",
       "      <td>1</td>\n",
       "      <td>1</td>\n",
       "      <td>9999</td>\n",
       "      <td>99</td>\n",
       "      <td>9</td>\n",
       "      <td>0</td>\n",
       "      <td>0</td>\n",
       "    </tr>\n",
       "    <tr>\n",
       "      <th>1</th>\n",
       "      <td>24538</td>\n",
       "      <td>1955</td>\n",
       "      <td>1</td>\n",
       "      <td>2</td>\n",
       "      <td>9999</td>\n",
       "      <td>99</td>\n",
       "      <td>9</td>\n",
       "      <td>0</td>\n",
       "      <td>0</td>\n",
       "    </tr>\n",
       "  </tbody>\n",
       "</table>\n",
       "</div>"
      ],
      "text/plain": [
       "  station_id   Год Месяц День Высота снежного покрова  \\\n",
       "0      24538  1955     1    1                    9999   \n",
       "1      24538  1955     1    2                    9999   \n",
       "\n",
       "  Степень покрытия окрестности станции снегом  \\\n",
       "0                                          99   \n",
       "1                                          99   \n",
       "\n",
       "  Дополнительная информация о высоте снежного покрова  \\\n",
       "0                                                  9    \n",
       "1                                                  9    \n",
       "\n",
       "  Признак качества по высоте снежного покрова  \\\n",
       "0                                           0   \n",
       "1                                           0   \n",
       "\n",
       "  Дополнительная информация с учетом температуры воздуха  \n",
       "0                                                  0      \n",
       "1                                                  0      "
      ]
     },
     "execution_count": 204,
     "metadata": {},
     "output_type": "execute_result"
    }
   ],
   "source": [
    "meteo_snow.head(2)"
   ]
  },
  {
   "cell_type": "code",
   "execution_count": 205,
   "metadata": {},
   "outputs": [
    {
     "data": {
      "text/html": [
       "<div>\n",
       "<style scoped>\n",
       "    .dataframe tbody tr th:only-of-type {\n",
       "        vertical-align: middle;\n",
       "    }\n",
       "\n",
       "    .dataframe tbody tr th {\n",
       "        vertical-align: top;\n",
       "    }\n",
       "\n",
       "    .dataframe thead th {\n",
       "        text-align: right;\n",
       "    }\n",
       "</style>\n",
       "<table border=\"1\" class=\"dataframe\">\n",
       "  <thead>\n",
       "    <tr style=\"text-align: right;\">\n",
       "      <th></th>\n",
       "      <th>station_id</th>\n",
       "      <th>Год</th>\n",
       "      <th>Месяц</th>\n",
       "      <th>День</th>\n",
       "      <th>Высота снежного покрова</th>\n",
       "      <th>Степень покрытия окрестности станции снегом</th>\n",
       "      <th>Дополнительная информация о высоте снежного покрова</th>\n",
       "      <th>Признак качества по высоте снежного покрова</th>\n",
       "      <th>Дополнительная информация с учетом температуры воздуха</th>\n",
       "    </tr>\n",
       "  </thead>\n",
       "  <tbody>\n",
       "    <tr>\n",
       "      <th>47390</th>\n",
       "      <td>24959</td>\n",
       "      <td>2020</td>\n",
       "      <td>1</td>\n",
       "      <td>30</td>\n",
       "      <td>34</td>\n",
       "      <td>10</td>\n",
       "      <td>0</td>\n",
       "      <td>0</td>\n",
       "      <td>0</td>\n",
       "    </tr>\n",
       "    <tr>\n",
       "      <th>47391</th>\n",
       "      <td>24959</td>\n",
       "      <td>2020</td>\n",
       "      <td>1</td>\n",
       "      <td>31</td>\n",
       "      <td>34</td>\n",
       "      <td>10</td>\n",
       "      <td>0</td>\n",
       "      <td>0</td>\n",
       "      <td>0</td>\n",
       "    </tr>\n",
       "  </tbody>\n",
       "</table>\n",
       "</div>"
      ],
      "text/plain": [
       "      station_id   Год Месяц День Высота снежного покрова  \\\n",
       "47390      24959  2020     1   30                      34   \n",
       "47391      24959  2020     1   31                      34   \n",
       "\n",
       "      Степень покрытия окрестности станции снегом  \\\n",
       "47390                                          10   \n",
       "47391                                          10   \n",
       "\n",
       "      Дополнительная информация о высоте снежного покрова  \\\n",
       "47390                                                  0    \n",
       "47391                                                  0    \n",
       "\n",
       "      Признак качества по высоте снежного покрова  \\\n",
       "47390                                           0   \n",
       "47391                                           0   \n",
       "\n",
       "      Дополнительная информация с учетом температуры воздуха  \n",
       "47390                                                  0      \n",
       "47391                                                  0      "
      ]
     },
     "execution_count": 205,
     "metadata": {},
     "output_type": "execute_result"
    }
   ],
   "source": [
    "meteo_snow.tail(2)"
   ]
  },
  {
   "cell_type": "code",
   "execution_count": 206,
   "metadata": {},
   "outputs": [
    {
     "data": {
      "text/plain": [
       "(1322200, 9)"
      ]
     },
     "execution_count": 206,
     "metadata": {},
     "output_type": "execute_result"
    }
   ],
   "source": [
    "meteo_snow.shape"
   ]
  },
  {
   "cell_type": "code",
   "execution_count": 207,
   "metadata": {},
   "outputs": [
    {
     "data": {
      "text/plain": [
       "24959    94784\n",
       "24944    91254\n",
       "30230    89910\n",
       "30054    66720\n",
       "24923    58502\n",
       "24641    44284\n",
       "24966    41211\n",
       "30433    32173\n",
       "30328    32142\n",
       "31026    30712\n",
       "24738    30712\n",
       "30393    30712\n",
       "30493    30681\n",
       "31004    30346\n",
       "24817    30316\n",
       "30069    30300\n",
       "30385    30041\n",
       "24951    29981\n",
       "24661    29981\n",
       "30372    29981\n",
       "30089    29616\n",
       "30219    29585\n",
       "24967    28490\n",
       "30471    28214\n",
       "24713    28124\n",
       "30028    27759\n",
       "31102    25598\n",
       "30253    25568\n",
       "24538    23711\n",
       "24643    22982\n",
       "24933    22311\n",
       "24726    22311\n",
       "30337    22280\n",
       "30252    22280\n",
       "31137    21215\n",
       "30356    19754\n",
       "24763    19754\n",
       "24671    17905\n",
       "Name: station_id, dtype: int64"
      ]
     },
     "execution_count": 207,
     "metadata": {},
     "output_type": "execute_result"
    }
   ],
   "source": [
    "meteo_snow['station_id'].value_counts()"
   ]
  },
  {
   "cell_type": "code",
   "execution_count": 208,
   "metadata": {},
   "outputs": [],
   "source": [
    "meteo_snow.to_pickle(os.path.join(files, 'meteo_to_snow.pkl'))"
   ]
  },
  {
   "cell_type": "code",
   "execution_count": 209,
   "metadata": {
    "scrolled": false
   },
   "outputs": [],
   "source": [
    "# Create a dataframe for hydrostations\n",
    "file_list = map(str, hydro_stations)\n",
    "\n",
    "hydro_snow = reading_all_files(files, file_list)"
   ]
  },
  {
   "cell_type": "code",
   "execution_count": 210,
   "metadata": {},
   "outputs": [
    {
     "data": {
      "text/plain": [
       "(0, 0)"
      ]
     },
     "execution_count": 210,
     "metadata": {},
     "output_type": "execute_result"
    }
   ],
   "source": [
    "hydro_snow.shape"
   ]
  },
  {
   "cell_type": "markdown",
   "metadata": {},
   "source": [
    "## Tpg"
   ]
  },
  {
   "cell_type": "code",
   "execution_count": 238,
   "metadata": {},
   "outputs": [],
   "source": [
    "files = os.path.join(path_to_data, 'Tpg')"
   ]
  },
  {
   "cell_type": "code",
   "execution_count": 239,
   "metadata": {},
   "outputs": [],
   "source": [
    "file_list = map(str, meteo_stations)\n",
    "file_list = ['st_' + s +'.dat' for s in file_list]\n",
    "\n",
    "meteo_tpg = reading_all_files(files, file_list)"
   ]
  },
  {
   "cell_type": "code",
   "execution_count": 240,
   "metadata": {},
   "outputs": [
    {
     "data": {
      "text/html": [
       "<div>\n",
       "<style scoped>\n",
       "    .dataframe tbody tr th:only-of-type {\n",
       "        vertical-align: middle;\n",
       "    }\n",
       "\n",
       "    .dataframe tbody tr th {\n",
       "        vertical-align: top;\n",
       "    }\n",
       "\n",
       "    .dataframe thead th {\n",
       "        text-align: right;\n",
       "    }\n",
       "</style>\n",
       "<table border=\"1\" class=\"dataframe\">\n",
       "  <thead>\n",
       "    <tr style=\"text-align: right;\">\n",
       "      <th></th>\n",
       "      <th>0</th>\n",
       "      <th>1</th>\n",
       "      <th>2</th>\n",
       "      <th>3</th>\n",
       "      <th>4</th>\n",
       "      <th>5</th>\n",
       "      <th>6</th>\n",
       "      <th>7</th>\n",
       "      <th>8</th>\n",
       "      <th>9</th>\n",
       "      <th>...</th>\n",
       "      <th>18</th>\n",
       "      <th>19</th>\n",
       "      <th>20</th>\n",
       "      <th>21</th>\n",
       "      <th>22</th>\n",
       "      <th>23</th>\n",
       "      <th>24</th>\n",
       "      <th>25</th>\n",
       "      <th>26</th>\n",
       "      <th>27</th>\n",
       "    </tr>\n",
       "  </thead>\n",
       "  <tbody>\n",
       "    <tr>\n",
       "      <th>0</th>\n",
       "      <td>24641</td>\n",
       "      <td>1964</td>\n",
       "      <td>1</td>\n",
       "      <td>1</td>\n",
       "      <td>9999</td>\n",
       "      <td>9</td>\n",
       "      <td>9999</td>\n",
       "      <td>9</td>\n",
       "      <td>9999</td>\n",
       "      <td>9</td>\n",
       "      <td>...</td>\n",
       "      <td>-100</td>\n",
       "      <td>0</td>\n",
       "      <td>-69</td>\n",
       "      <td>0</td>\n",
       "      <td>-42</td>\n",
       "      <td>0</td>\n",
       "      <td>9999</td>\n",
       "      <td>9</td>\n",
       "      <td>2</td>\n",
       "      <td>0</td>\n",
       "    </tr>\n",
       "    <tr>\n",
       "      <th>1</th>\n",
       "      <td>24641</td>\n",
       "      <td>1964</td>\n",
       "      <td>1</td>\n",
       "      <td>2</td>\n",
       "      <td>9999</td>\n",
       "      <td>9</td>\n",
       "      <td>9999</td>\n",
       "      <td>9</td>\n",
       "      <td>9999</td>\n",
       "      <td>9</td>\n",
       "      <td>...</td>\n",
       "      <td>-104</td>\n",
       "      <td>0</td>\n",
       "      <td>-71</td>\n",
       "      <td>0</td>\n",
       "      <td>-42</td>\n",
       "      <td>0</td>\n",
       "      <td>9999</td>\n",
       "      <td>9</td>\n",
       "      <td>1</td>\n",
       "      <td>0</td>\n",
       "    </tr>\n",
       "    <tr>\n",
       "      <th>2</th>\n",
       "      <td>24641</td>\n",
       "      <td>1964</td>\n",
       "      <td>1</td>\n",
       "      <td>3</td>\n",
       "      <td>9999</td>\n",
       "      <td>9</td>\n",
       "      <td>9999</td>\n",
       "      <td>9</td>\n",
       "      <td>9999</td>\n",
       "      <td>9</td>\n",
       "      <td>...</td>\n",
       "      <td>-107</td>\n",
       "      <td>0</td>\n",
       "      <td>-73</td>\n",
       "      <td>0</td>\n",
       "      <td>-44</td>\n",
       "      <td>0</td>\n",
       "      <td>9999</td>\n",
       "      <td>9</td>\n",
       "      <td>1</td>\n",
       "      <td>0</td>\n",
       "    </tr>\n",
       "    <tr>\n",
       "      <th>3</th>\n",
       "      <td>24641</td>\n",
       "      <td>1964</td>\n",
       "      <td>1</td>\n",
       "      <td>4</td>\n",
       "      <td>9999</td>\n",
       "      <td>9</td>\n",
       "      <td>9999</td>\n",
       "      <td>9</td>\n",
       "      <td>9999</td>\n",
       "      <td>9</td>\n",
       "      <td>...</td>\n",
       "      <td>-107</td>\n",
       "      <td>0</td>\n",
       "      <td>-74</td>\n",
       "      <td>0</td>\n",
       "      <td>-45</td>\n",
       "      <td>0</td>\n",
       "      <td>9999</td>\n",
       "      <td>9</td>\n",
       "      <td>1</td>\n",
       "      <td>0</td>\n",
       "    </tr>\n",
       "    <tr>\n",
       "      <th>4</th>\n",
       "      <td>24641</td>\n",
       "      <td>1964</td>\n",
       "      <td>1</td>\n",
       "      <td>5</td>\n",
       "      <td>9999</td>\n",
       "      <td>9</td>\n",
       "      <td>9999</td>\n",
       "      <td>9</td>\n",
       "      <td>9999</td>\n",
       "      <td>9</td>\n",
       "      <td>...</td>\n",
       "      <td>-107</td>\n",
       "      <td>0</td>\n",
       "      <td>-74</td>\n",
       "      <td>0</td>\n",
       "      <td>-46</td>\n",
       "      <td>0</td>\n",
       "      <td>9999</td>\n",
       "      <td>9</td>\n",
       "      <td>1</td>\n",
       "      <td>0</td>\n",
       "    </tr>\n",
       "  </tbody>\n",
       "</table>\n",
       "<p>5 rows × 28 columns</p>\n",
       "</div>"
      ],
      "text/plain": [
       "      0     1  2  3     4  5     6  7     8  9   ...    18 19   20 21   22 23  \\\n",
       "0  24641  1964  1  1  9999  9  9999  9  9999  9  ...  -100  0  -69  0  -42  0   \n",
       "1  24641  1964  1  2  9999  9  9999  9  9999  9  ...  -104  0  -71  0  -42  0   \n",
       "2  24641  1964  1  3  9999  9  9999  9  9999  9  ...  -107  0  -73  0  -44  0   \n",
       "3  24641  1964  1  4  9999  9  9999  9  9999  9  ...  -107  0  -74  0  -45  0   \n",
       "4  24641  1964  1  5  9999  9  9999  9  9999  9  ...  -107  0  -74  0  -46  0   \n",
       "\n",
       "     24 25 26 27  \n",
       "0  9999  9  2  0  \n",
       "1  9999  9  1  0  \n",
       "2  9999  9  1  0  \n",
       "3  9999  9  1  0  \n",
       "4  9999  9  1  0  \n",
       "\n",
       "[5 rows x 28 columns]"
      ]
     },
     "execution_count": 240,
     "metadata": {},
     "output_type": "execute_result"
    }
   ],
   "source": [
    "meteo_tpg.head()"
   ]
  },
  {
   "cell_type": "code",
   "execution_count": 241,
   "metadata": {},
   "outputs": [],
   "source": [
    "# FAMILY TPG F(102); \n",
    "#   KEY(U)        СТАНЦИЯ  FA(5)   PC(5);         // Индекс ВМО            \n",
    "#   KEY(I)        ГОД      FA(5)   PC(4);         // Год                \n",
    "#   KEY(I)        МЕСЯЦ    FA(3)   PC(2);         // Месяц              \n",
    "#   KEY(I)        ДЕНЬ     FA(3)   PC(2);         // День        \n",
    "#   MIT           T02      FA(5)   PC(5,1) D(1);  // Температура на глубине 2 см                     \n",
    "#   CHA(T02)      Q        FA(2)   PC(1) NA;      // Признак качества              \n",
    "#   MIT           T05      FA(5)   PC(5,1) D(1);  // Температура на глубине 5 см                     \n",
    "#   CHA(T05)      Q        FA(2)   PC(1) NA;      // Признак качества              \n",
    "#   MIT           T10      FA(5)   PC(5,1) D(1);  // Температура на глубине 10 см                    \n",
    "#  CHA(T10)      Q        FA(2)   PC(1) NA;      // Признак качества              \n",
    "#   MIT           T15      FA(5)   PC(5,1) D(1);  // Температура на глубине 15 см                    \n",
    "#   CHA(T15)      Q        FA(2)   PC(1) NA;      // Признак качества              \n",
    "#   MIT           T20      FA(5)   PC(5,1) D(1);  // Температура на глубине 20 см                    \n",
    "#   CHA(T20)      Q        FA(2)   PC(1) NA;      // Признак качества              \n",
    "#   MIT           T40      FA(5)   PC(5,1) D(1);  // Температура на глубине 40 см                    \n",
    "#   CHA(T40)      Q        FA(2)   PC(1) NA;      // Признак качества              \n",
    "#   MIT           T60      FA(5)   PC(5,1) D(1);  // Температура на глубине 60 см                    \n",
    "#   CHA(T60)      Q        FA(2)   PC(1) NA;      // Признак качества              \n",
    "#   MIT           T80      FA(5)   PC(5,1) D(1);  // Температура на глубине 80 см                    \n",
    "#   CHA(T80)      Q        FA(2)   PC(1) NA;      // Признак качества              \n",
    "#   MIT           T120     FA(5)   PC(5,1) D(1);  // Температура на глубине 120 см                   \n",
    "#   CHA(T120)     Q        FA(2)   PC(1) NA;      // Признак качества              \n",
    "#   MIT           T160     FA(5)   PC(5,1) D(1);  // Температура на глубине 160 см                   \n",
    "#   CHA(T160)     Q        FA(2)   PC(1) NA;      // Признак качества              \n",
    "#   MIT           T240     FA(5)   PC(5,1) D(1);  // Температура на глубине 240 см                   \n",
    "#   CHA(T240)     Q        FA(2)   PC(1) NA;      // Признак качества              \n",
    "#   MIT           T320     FA(5)   PC(5,1) D(1);  // Температура на глубине 320 см                   \n",
    "#   CHA(T320)     Q        FA(2)   PC(1) NA;      // Признак качества\n",
    "meteo_tpg.columns = ['station_id', 'Год', 'Месяц', 'День', 'Температура на глубине 2 см ',\n",
    "                     'Признак качества 1',\n",
    "                        'Температура на глубине 5 см',   'Признак качества 2', \n",
    "                     'Температура на глубине 10 см',\n",
    "                       'Признак качества 3',\n",
    "                         'Температура на глубине 15 см',\n",
    "                       'Признак качества 4',\n",
    "                         'Температура на глубине 20 см',\n",
    "                       'Признак качества 5',\n",
    "                     'Температура на глубине 40 см', \n",
    "                       'Признак качества 6',\n",
    "                     'Температура на глубине 60 см',\n",
    "                       'Признак качества 7',\n",
    "                         'Температура на глубине 80 см',\n",
    "                       'Признак качества 8',\n",
    "                         'Температура на глубине 120 см',\n",
    "                       'Признак качества 9',\n",
    "                     'Температура на глубине 160 см',\n",
    "                       'Признак качества 10',\n",
    "                         'Температура на глубине 240 см',\n",
    "                       'Признак качества 11',\n",
    "                         'Температура на глубине 320 см',\n",
    "                      'Признак качества 12']"
   ]
  },
  {
   "cell_type": "code",
   "execution_count": 242,
   "metadata": {},
   "outputs": [],
   "source": [
    "meteo_tpg.to_pickle(os.path.join(files, 'meteo_to_tpg.pkl'))"
   ]
  },
  {
   "cell_type": "markdown",
   "metadata": {},
   "source": [
    "## Tpgks"
   ]
  },
  {
   "cell_type": "code",
   "execution_count": 243,
   "metadata": {},
   "outputs": [],
   "source": [
    "files = os.path.join(path_to_data, 'Tpgks')"
   ]
  },
  {
   "cell_type": "code",
   "execution_count": 244,
   "metadata": {},
   "outputs": [],
   "source": [
    "file_list = map(str, meteo_stations)\n",
    "file_list = ['st_' + s +'.dat' for s in file_list]\n",
    "\n",
    "meteo_tpgks = reading_all_files(files, file_list)"
   ]
  },
  {
   "cell_type": "code",
   "execution_count": 245,
   "metadata": {},
   "outputs": [
    {
     "data": {
      "text/html": [
       "<div>\n",
       "<style scoped>\n",
       "    .dataframe tbody tr th:only-of-type {\n",
       "        vertical-align: middle;\n",
       "    }\n",
       "\n",
       "    .dataframe tbody tr th {\n",
       "        vertical-align: top;\n",
       "    }\n",
       "\n",
       "    .dataframe thead th {\n",
       "        text-align: right;\n",
       "    }\n",
       "</style>\n",
       "<table border=\"1\" class=\"dataframe\">\n",
       "  <thead>\n",
       "    <tr style=\"text-align: right;\">\n",
       "      <th></th>\n",
       "      <th>0</th>\n",
       "      <th>1</th>\n",
       "      <th>2</th>\n",
       "      <th>3</th>\n",
       "      <th>4</th>\n",
       "      <th>5</th>\n",
       "      <th>6</th>\n",
       "      <th>7</th>\n",
       "      <th>8</th>\n",
       "      <th>9</th>\n",
       "      <th>10</th>\n",
       "      <th>11</th>\n",
       "    </tr>\n",
       "  </thead>\n",
       "  <tbody>\n",
       "    <tr>\n",
       "      <th>0</th>\n",
       "      <td>24713</td>\n",
       "      <td>1986</td>\n",
       "      <td>1</td>\n",
       "      <td>1</td>\n",
       "      <td>9999</td>\n",
       "      <td>9</td>\n",
       "      <td>9999</td>\n",
       "      <td>9</td>\n",
       "      <td>9999</td>\n",
       "      <td>9</td>\n",
       "      <td>9999</td>\n",
       "      <td>9</td>\n",
       "    </tr>\n",
       "    <tr>\n",
       "      <th>1</th>\n",
       "      <td>24713</td>\n",
       "      <td>1986</td>\n",
       "      <td>1</td>\n",
       "      <td>2</td>\n",
       "      <td>9999</td>\n",
       "      <td>9</td>\n",
       "      <td>9999</td>\n",
       "      <td>9</td>\n",
       "      <td>9999</td>\n",
       "      <td>9</td>\n",
       "      <td>9999</td>\n",
       "      <td>9</td>\n",
       "    </tr>\n",
       "    <tr>\n",
       "      <th>2</th>\n",
       "      <td>24713</td>\n",
       "      <td>1986</td>\n",
       "      <td>1</td>\n",
       "      <td>3</td>\n",
       "      <td>9999</td>\n",
       "      <td>9</td>\n",
       "      <td>9999</td>\n",
       "      <td>9</td>\n",
       "      <td>9999</td>\n",
       "      <td>9</td>\n",
       "      <td>9999</td>\n",
       "      <td>9</td>\n",
       "    </tr>\n",
       "    <tr>\n",
       "      <th>3</th>\n",
       "      <td>24713</td>\n",
       "      <td>1986</td>\n",
       "      <td>1</td>\n",
       "      <td>4</td>\n",
       "      <td>9999</td>\n",
       "      <td>9</td>\n",
       "      <td>9999</td>\n",
       "      <td>9</td>\n",
       "      <td>9999</td>\n",
       "      <td>9</td>\n",
       "      <td>9999</td>\n",
       "      <td>9</td>\n",
       "    </tr>\n",
       "    <tr>\n",
       "      <th>4</th>\n",
       "      <td>24713</td>\n",
       "      <td>1986</td>\n",
       "      <td>1</td>\n",
       "      <td>5</td>\n",
       "      <td>9999</td>\n",
       "      <td>9</td>\n",
       "      <td>9999</td>\n",
       "      <td>9</td>\n",
       "      <td>9999</td>\n",
       "      <td>9</td>\n",
       "      <td>9999</td>\n",
       "      <td>9</td>\n",
       "    </tr>\n",
       "  </tbody>\n",
       "</table>\n",
       "</div>"
      ],
      "text/plain": [
       "      0     1  2  3     4  5     6  7     8  9     10 11\n",
       "0  24713  1986  1  1  9999  9  9999  9  9999  9  9999  9\n",
       "1  24713  1986  1  2  9999  9  9999  9  9999  9  9999  9\n",
       "2  24713  1986  1  3  9999  9  9999  9  9999  9  9999  9\n",
       "3  24713  1986  1  4  9999  9  9999  9  9999  9  9999  9\n",
       "4  24713  1986  1  5  9999  9  9999  9  9999  9  9999  9"
      ]
     },
     "execution_count": 245,
     "metadata": {},
     "output_type": "execute_result"
    }
   ],
   "source": [
    "meteo_tpgks.head()"
   ]
  },
  {
   "cell_type": "code",
   "execution_count": 246,
   "metadata": {},
   "outputs": [],
   "source": [
    "# FAMILY TPGKS F(49);\n",
    "\n",
    "#    KEY(U)        СТАНЦИЯ   FA(5) PC(5);        // Координатный номер станции                    \n",
    "#    KEY(I)        ГОД       FA(5) PC(4);        // Год                               \n",
    "#    KEY(I)        МЕСЯЦ     FA(3) PC(2);        // Месяц                             \n",
    "#    KEY(I)        ДЕНЬ      FA(3) PC(2);        // День                             \n",
    "#    MIT           ТЕМП05    FC(5) PC(4);  \t// Температура на глубине  5 см, увеличенная в 10 раз\n",
    "#    CHA(ТЕМП05)   Q         FA(3) PC(2) NA;     // Признак качества\n",
    "#    MIT           ТЕМП10    FC(5) PC(4);  \t// Температура на глубине 10 см, увеличенная в 10 раз\n",
    "#    CHA(ТЕМП10)   Q         FA(3) PC(2) NA;     // Признак качества\n",
    "#    MIT           ТЕМП15    FC(5) PC(4);  \t// Температура на глубине 15 см, увеличенная в 10 раз\n",
    "#    CHA(ТЕМП15)   Q         FA(3) PC(2) NA;     // Признак качества\n",
    "#    MIT           ТЕМП20    FC(5) PC(4);  \t// Температура на глубине 20 см, увеличенная в 10 раз\n",
    "#    CHA(ТЕМП20)   Q         FA(3) PC(2) NA;    \t// Признак качества\n",
    "\n",
    "\n",
    "meteo_tpgks.columns = ['station_id', 'Год', 'Месяц', 'День', 'Температура на глубине  5 см, увеличенная в 10 раз',\n",
    "                     'Признак качества 1',\n",
    "                        'Температура на глубине 10 см, увеличенная в 10 раз',   'Признак качества 2', \n",
    "                     'Температура на глубине 15 см, увеличенная в 10 раз', 'Признак качества 3',\n",
    "                         'Температура на глубине 20 см, увеличенная в 10 раз', 'Признак качества 4']"
   ]
  },
  {
   "cell_type": "code",
   "execution_count": 247,
   "metadata": {},
   "outputs": [
    {
     "data": {
      "text/html": [
       "<div>\n",
       "<style scoped>\n",
       "    .dataframe tbody tr th:only-of-type {\n",
       "        vertical-align: middle;\n",
       "    }\n",
       "\n",
       "    .dataframe tbody tr th {\n",
       "        vertical-align: top;\n",
       "    }\n",
       "\n",
       "    .dataframe thead th {\n",
       "        text-align: right;\n",
       "    }\n",
       "</style>\n",
       "<table border=\"1\" class=\"dataframe\">\n",
       "  <thead>\n",
       "    <tr style=\"text-align: right;\">\n",
       "      <th></th>\n",
       "      <th>station_id</th>\n",
       "      <th>Год</th>\n",
       "      <th>Месяц</th>\n",
       "      <th>День</th>\n",
       "      <th>Температура на глубине  5 см, увеличенная в 10 раз</th>\n",
       "      <th>Признак качества 1</th>\n",
       "      <th>Температура на глубине 10 см, увеличенная в 10 раз</th>\n",
       "      <th>Признак качества 2</th>\n",
       "      <th>Температура на глубине 15 см, увеличенная в 10 раз</th>\n",
       "      <th>Признак качества 3</th>\n",
       "      <th>Температура на глубине 20 см, увеличенная в 10 раз</th>\n",
       "      <th>Признак качества 4</th>\n",
       "    </tr>\n",
       "  </thead>\n",
       "  <tbody>\n",
       "    <tr>\n",
       "      <th>0</th>\n",
       "      <td>24713</td>\n",
       "      <td>1986</td>\n",
       "      <td>1</td>\n",
       "      <td>1</td>\n",
       "      <td>9999</td>\n",
       "      <td>9</td>\n",
       "      <td>9999</td>\n",
       "      <td>9</td>\n",
       "      <td>9999</td>\n",
       "      <td>9</td>\n",
       "      <td>9999</td>\n",
       "      <td>9</td>\n",
       "    </tr>\n",
       "    <tr>\n",
       "      <th>1</th>\n",
       "      <td>24713</td>\n",
       "      <td>1986</td>\n",
       "      <td>1</td>\n",
       "      <td>2</td>\n",
       "      <td>9999</td>\n",
       "      <td>9</td>\n",
       "      <td>9999</td>\n",
       "      <td>9</td>\n",
       "      <td>9999</td>\n",
       "      <td>9</td>\n",
       "      <td>9999</td>\n",
       "      <td>9</td>\n",
       "    </tr>\n",
       "    <tr>\n",
       "      <th>2</th>\n",
       "      <td>24713</td>\n",
       "      <td>1986</td>\n",
       "      <td>1</td>\n",
       "      <td>3</td>\n",
       "      <td>9999</td>\n",
       "      <td>9</td>\n",
       "      <td>9999</td>\n",
       "      <td>9</td>\n",
       "      <td>9999</td>\n",
       "      <td>9</td>\n",
       "      <td>9999</td>\n",
       "      <td>9</td>\n",
       "    </tr>\n",
       "    <tr>\n",
       "      <th>3</th>\n",
       "      <td>24713</td>\n",
       "      <td>1986</td>\n",
       "      <td>1</td>\n",
       "      <td>4</td>\n",
       "      <td>9999</td>\n",
       "      <td>9</td>\n",
       "      <td>9999</td>\n",
       "      <td>9</td>\n",
       "      <td>9999</td>\n",
       "      <td>9</td>\n",
       "      <td>9999</td>\n",
       "      <td>9</td>\n",
       "    </tr>\n",
       "    <tr>\n",
       "      <th>4</th>\n",
       "      <td>24713</td>\n",
       "      <td>1986</td>\n",
       "      <td>1</td>\n",
       "      <td>5</td>\n",
       "      <td>9999</td>\n",
       "      <td>9</td>\n",
       "      <td>9999</td>\n",
       "      <td>9</td>\n",
       "      <td>9999</td>\n",
       "      <td>9</td>\n",
       "      <td>9999</td>\n",
       "      <td>9</td>\n",
       "    </tr>\n",
       "  </tbody>\n",
       "</table>\n",
       "</div>"
      ],
      "text/plain": [
       "  station_id   Год Месяц День  \\\n",
       "0      24713  1986     1    1   \n",
       "1      24713  1986     1    2   \n",
       "2      24713  1986     1    3   \n",
       "3      24713  1986     1    4   \n",
       "4      24713  1986     1    5   \n",
       "\n",
       "  Температура на глубине  5 см, увеличенная в 10 раз Признак качества 1  \\\n",
       "0                                               9999                  9   \n",
       "1                                               9999                  9   \n",
       "2                                               9999                  9   \n",
       "3                                               9999                  9   \n",
       "4                                               9999                  9   \n",
       "\n",
       "  Температура на глубине 10 см, увеличенная в 10 раз Признак качества 2  \\\n",
       "0                                               9999                  9   \n",
       "1                                               9999                  9   \n",
       "2                                               9999                  9   \n",
       "3                                               9999                  9   \n",
       "4                                               9999                  9   \n",
       "\n",
       "  Температура на глубине 15 см, увеличенная в 10 раз Признак качества 3  \\\n",
       "0                                               9999                  9   \n",
       "1                                               9999                  9   \n",
       "2                                               9999                  9   \n",
       "3                                               9999                  9   \n",
       "4                                               9999                  9   \n",
       "\n",
       "  Температура на глубине 20 см, увеличенная в 10 раз Признак качества 4  \n",
       "0                                               9999                  9  \n",
       "1                                               9999                  9  \n",
       "2                                               9999                  9  \n",
       "3                                               9999                  9  \n",
       "4                                               9999                  9  "
      ]
     },
     "execution_count": 247,
     "metadata": {},
     "output_type": "execute_result"
    }
   ],
   "source": [
    "meteo_tpgks.head()"
   ]
  },
  {
   "cell_type": "code",
   "execution_count": 248,
   "metadata": {},
   "outputs": [
    {
     "data": {
      "text/plain": [
       "(222456, 12)"
      ]
     },
     "execution_count": 248,
     "metadata": {},
     "output_type": "execute_result"
    }
   ],
   "source": [
    "meteo_tpgks.shape"
   ]
  },
  {
   "cell_type": "code",
   "execution_count": 249,
   "metadata": {},
   "outputs": [],
   "source": [
    "meteo_tpgks.to_pickle(os.path.join(files, 'meteo_to_tpgks.pkl'))"
   ]
  },
  {
   "cell_type": "markdown",
   "metadata": {},
   "source": [
    "## SnMar"
   ]
  },
  {
   "cell_type": "code",
   "execution_count": 251,
   "metadata": {},
   "outputs": [],
   "source": [
    "files = os.path.join(path_to_data, 'SnMar')"
   ]
  },
  {
   "cell_type": "code",
   "execution_count": 252,
   "metadata": {},
   "outputs": [],
   "source": [
    "file_list = map(str, meteo_stations)\n",
    "\n",
    "meteo_SnMar = reading_all_files(files, file_list)"
   ]
  },
  {
   "cell_type": "code",
   "execution_count": 253,
   "metadata": {},
   "outputs": [],
   "source": [
    "#FAMILY SNMАR F(76); \n",
    "\n",
    "#  KEY(U)        СТАНЦИЯ  FA(5)   PC(5);        // Индекс ВМО            \n",
    "#  KEY(I)        ГОД      FA(7)   PC(4);        // Год                \n",
    "#  KEY(I)        МЕСЯЦ    FA(3)   PC(2);        // Месяц              \n",
    "#  KEY(I)        ТИПМАРШ  FA(2)   PC(2);        // Тип маршрута              \n",
    "#  KEY(I)        ДЕНЬ     FA(3)   PC(2);        // День        \n",
    "#  MIT           СНЕСТЕПВ FC(3)   PC(2);        // Степень покрытия окрестности станции снегом      \n",
    "#  MIT           СНЕСТПОК FC(3)   PC(2);        // Степень покрытия маршрута снегом \n",
    "#  MIT           СНЕСТПЛК FC(3)   PC(2);        // Степень покрытия маршрута ледяной коркой \n",
    "#  MIT           СНЕГСВЫС FC(5)   PC(4);        // Средняя высота снежного покрова на маршруте (см) \n",
    "#  MIT           СНЕВЫСМА FC(5)   PC(4);        // Наибольшая высота снежного покрова на маршруте (см)\n",
    "#  MIT           СНЕВЫСМИ FC(5)   PC(4);        // Наименьшая высота снежного покрова на маршруте (см)\n",
    "#  MIT           СНЕГСРПЛ FC(5,2) PC(4,2);      // Средняя плотность снега \n",
    "#  MIT           СНЕСРТЛК FC(4)   PC(3);        // Средняя толщина ледяной корки \n",
    "#  MIT           СНЕГТСНВ FC(4)   PC(3);        // Толщина слоя снега, насыщенного водой (мм) \n",
    "#  MIT           СНЕГТСЧВ FC(3)   PC(2);        // Толщина слоя чистой воды (мм) \n",
    "#  MIT           СПЗВСНЕГ FC(5)   PC(4);        // Запас воды в снеге (мм) \n",
    "#  MIT           СНПЗВОБЩ FC(5)   PC(4);        // Запас воды, общий (мм) \n",
    "#  MIT           СНЕГXАРЗ FC(2)   PC(1);        // Характер залегания снежного покрова \n",
    "#  MIT           СНЕГXАРП FC(2)   PC(1);        // Характер снежного покрова \n",
    "\n",
    "meteo_SnMar.columns = ['station_id', 'Год', 'Месяц', 'Тип маршрута', 'День', \n",
    "                       'Степень покрытия окрестности станции снегом',\n",
    "                       'Степень покрытия маршрута снегом',\n",
    "                       'Степень покрытия маршрута ледяной коркой',\n",
    "                       'Средняя высота снежного покрова на маршруте (см)',\n",
    "                       'Наибольшая высота снежного покрова на маршруте (см)',\n",
    "                       'Наименьшая высота снежного покрова на маршруте (см)',\n",
    "                       'Средняя плотность снега',\n",
    "                       'Средняя толщина ледяной корки',\n",
    "                       'Толщина слоя снега, насыщенного водой (мм)',\n",
    "                       'Толщина слоя чистой воды (мм)',\n",
    "                       'Запас воды в снеге (мм)',\n",
    "                       'Запас воды, общий (мм)',\n",
    "                       'Характер залегания снежного покрова',\n",
    "                       'Характер снежного покрова']"
   ]
  },
  {
   "cell_type": "code",
   "execution_count": 254,
   "metadata": {},
   "outputs": [],
   "source": [
    "meteo_SnMar.to_pickle(os.path.join(files, 'meteo_to_SnMar.pkl'))"
   ]
  },
  {
   "cell_type": "markdown",
   "metadata": {},
   "source": [
    "## TTTR"
   ]
  },
  {
   "cell_type": "code",
   "execution_count": 255,
   "metadata": {},
   "outputs": [],
   "source": [
    "files = os.path.join(path_to_data, 'TTTR')"
   ]
  },
  {
   "cell_type": "code",
   "execution_count": 256,
   "metadata": {},
   "outputs": [],
   "source": [
    "file_list = map(str, meteo_stations)\n",
    "\n",
    "meteo_TTTR = reading_all_files(files, file_list)"
   ]
  },
  {
   "cell_type": "code",
   "execution_count": 259,
   "metadata": {},
   "outputs": [
    {
     "data": {
      "text/html": [
       "<div>\n",
       "<style scoped>\n",
       "    .dataframe tbody tr th:only-of-type {\n",
       "        vertical-align: middle;\n",
       "    }\n",
       "\n",
       "    .dataframe tbody tr th {\n",
       "        vertical-align: top;\n",
       "    }\n",
       "\n",
       "    .dataframe thead th {\n",
       "        text-align: right;\n",
       "    }\n",
       "</style>\n",
       "<table border=\"1\" class=\"dataframe\">\n",
       "  <thead>\n",
       "    <tr style=\"text-align: right;\">\n",
       "      <th></th>\n",
       "      <th>0</th>\n",
       "      <th>1</th>\n",
       "      <th>2</th>\n",
       "      <th>3</th>\n",
       "      <th>4</th>\n",
       "      <th>5</th>\n",
       "      <th>6</th>\n",
       "      <th>7</th>\n",
       "      <th>8</th>\n",
       "      <th>9</th>\n",
       "      <th>10</th>\n",
       "      <th>11</th>\n",
       "      <th>12</th>\n",
       "      <th>13</th>\n",
       "    </tr>\n",
       "  </thead>\n",
       "  <tbody>\n",
       "    <tr>\n",
       "      <th>0</th>\n",
       "      <td>24538</td>\n",
       "      <td>1955</td>\n",
       "      <td>1</td>\n",
       "      <td>1</td>\n",
       "      <td>9</td>\n",
       "      <td>9</td>\n",
       "      <td>9</td>\n",
       "      <td>9</td>\n",
       "      <td>9</td>\n",
       "      <td>9</td>\n",
       "      <td>None</td>\n",
       "      <td>None</td>\n",
       "      <td>None</td>\n",
       "      <td>None</td>\n",
       "    </tr>\n",
       "    <tr>\n",
       "      <th>1</th>\n",
       "      <td>24538</td>\n",
       "      <td>1955</td>\n",
       "      <td>1</td>\n",
       "      <td>2</td>\n",
       "      <td>9</td>\n",
       "      <td>9</td>\n",
       "      <td>9</td>\n",
       "      <td>9</td>\n",
       "      <td>9</td>\n",
       "      <td>9</td>\n",
       "      <td>None</td>\n",
       "      <td>None</td>\n",
       "      <td>None</td>\n",
       "      <td>None</td>\n",
       "    </tr>\n",
       "    <tr>\n",
       "      <th>2</th>\n",
       "      <td>24538</td>\n",
       "      <td>1955</td>\n",
       "      <td>1</td>\n",
       "      <td>3</td>\n",
       "      <td>9</td>\n",
       "      <td>9</td>\n",
       "      <td>9</td>\n",
       "      <td>9</td>\n",
       "      <td>9</td>\n",
       "      <td>9</td>\n",
       "      <td>None</td>\n",
       "      <td>None</td>\n",
       "      <td>None</td>\n",
       "      <td>None</td>\n",
       "    </tr>\n",
       "    <tr>\n",
       "      <th>3</th>\n",
       "      <td>24538</td>\n",
       "      <td>1955</td>\n",
       "      <td>1</td>\n",
       "      <td>4</td>\n",
       "      <td>9</td>\n",
       "      <td>9</td>\n",
       "      <td>9</td>\n",
       "      <td>9</td>\n",
       "      <td>9</td>\n",
       "      <td>9</td>\n",
       "      <td>None</td>\n",
       "      <td>None</td>\n",
       "      <td>None</td>\n",
       "      <td>None</td>\n",
       "    </tr>\n",
       "    <tr>\n",
       "      <th>4</th>\n",
       "      <td>24538</td>\n",
       "      <td>1955</td>\n",
       "      <td>1</td>\n",
       "      <td>5</td>\n",
       "      <td>9</td>\n",
       "      <td>9</td>\n",
       "      <td>9</td>\n",
       "      <td>9</td>\n",
       "      <td>9</td>\n",
       "      <td>9</td>\n",
       "      <td>None</td>\n",
       "      <td>None</td>\n",
       "      <td>None</td>\n",
       "      <td>None</td>\n",
       "    </tr>\n",
       "  </tbody>\n",
       "</table>\n",
       "</div>"
      ],
      "text/plain": [
       "      0     1  2  3  4  5  6  7  8  9     10    11    12    13\n",
       "0  24538  1955  1  1  9  9  9  9  9  9  None  None  None  None\n",
       "1  24538  1955  1  2  9  9  9  9  9  9  None  None  None  None\n",
       "2  24538  1955  1  3  9  9  9  9  9  9  None  None  None  None\n",
       "3  24538  1955  1  4  9  9  9  9  9  9  None  None  None  None\n",
       "4  24538  1955  1  5  9  9  9  9  9  9  None  None  None  None"
      ]
     },
     "execution_count": 259,
     "metadata": {},
     "output_type": "execute_result"
    }
   ],
   "source": [
    "meteo_TTTR.head()"
   ]
  },
  {
   "cell_type": "code",
   "execution_count": 261,
   "metadata": {},
   "outputs": [],
   "source": [
    "#\n",
    "#  KEY(U)        СТАНЦИЯ  FA(5)   PC(5);     // Индекс ВМО            \n",
    "#  KEY(I)        ГОД      FA(5)   PC(4);     // Год                \n",
    "#  KEY(I)        МЕСЯЦ    FA(3)   PC(2);     // Месяц              \n",
    "#  KEY(I)        ДЕНЬ     FA(3)   PC(2);     // День        \n",
    "#  MIT           QTTT     FA(2)   PC(1) NA;  // Общий признак качества температур                \n",
    "#  MIT           ТЕВМИНСТ FC(6,1) PC(5,1);   // Минимальная температура воздуха  \n",
    "#  CHA(ТЕВМИНСТ) Q        FA(2)   PC(1) NA;  // Признак качества                 \n",
    "#  MIT           ТЕМВСРСТ FC(6,1) PC(5,1);   // Средняя температура воздуха      \n",
    "#  CHA(ТЕМВСРСТ) Q        FA(2)   PC(1) NA;  // Признак качества                 \n",
    "#  MIT           ТЕВМАКСТ FC(6,1) PC(5,1);   // Максимальная температура воздуха \n",
    "#  CHA(ТЕВМАКСТ) Q        FA(2)   PC(1) NA;  // Признак качества                 \n",
    "#  MIT           ОСАДКОЛМ FC(6,1) PC(5,1);   // Количество осадков              \n",
    "#  CHA(ОСАДКОЛМ) QО       FA(2)   PC(1) NA;  // Дополнительная характеристика   \n",
    "#  CHA(ОСАДКОЛМ) Q        FA(2)   PC(1) NA;  // Признак качества\n",
    "                                                                \n",
    "meteo_TTTR.columns = ['station_id', 'Год', 'Месяц', 'День', \n",
    "                       'Общий признак качества температур',\n",
    "                       ' Минимальная температура воздуха',\n",
    "                       'Признак качества 1',\n",
    "                       'Средняя температура воздуха',\n",
    "                       'Признак качества 2',\n",
    "                       'Максимальная температура воздуха',\n",
    "                       'Признак качества 3',\n",
    "                       'Количество осадков',\n",
    "                      'Дополнительная характеристика',\n",
    "                      'Признак качества 4']"
   ]
  },
  {
   "cell_type": "code",
   "execution_count": 262,
   "metadata": {},
   "outputs": [],
   "source": [
    "meteo_TTTR.to_pickle(os.path.join(files, 'meteo_to_TTTR.pkl'))"
   ]
  },
  {
   "cell_type": "markdown",
   "metadata": {},
   "source": [
    "## Reanalysis"
   ]
  },
  {
   "cell_type": "code",
   "execution_count": 271,
   "metadata": {},
   "outputs": [],
   "source": [
    "#!pip install netCDF4\n",
    "#!pip install xarray\n",
    "#!pip install ncdump"
   ]
  },
  {
   "cell_type": "code",
   "execution_count": 11,
   "metadata": {},
   "outputs": [],
   "source": [
    "import netCDF4 as nc\n",
    "import xarray as xr"
   ]
  },
  {
   "cell_type": "code",
   "execution_count": 352,
   "metadata": {},
   "outputs": [
    {
     "data": {
      "text/html": [
       "<div>\n",
       "<style scoped>\n",
       "    .dataframe tbody tr th:only-of-type {\n",
       "        vertical-align: middle;\n",
       "    }\n",
       "\n",
       "    .dataframe tbody tr th {\n",
       "        vertical-align: top;\n",
       "    }\n",
       "\n",
       "    .dataframe thead th {\n",
       "        text-align: right;\n",
       "    }\n",
       "</style>\n",
       "<table border=\"1\" class=\"dataframe\">\n",
       "  <thead>\n",
       "    <tr style=\"text-align: right;\">\n",
       "      <th></th>\n",
       "      <th>station_id</th>\n",
       "      <th>name</th>\n",
       "      <th>lat</th>\n",
       "      <th>lon</th>\n",
       "      <th>z</th>\n",
       "    </tr>\n",
       "  </thead>\n",
       "  <tbody>\n",
       "    <tr>\n",
       "      <th>0</th>\n",
       "      <td>24538</td>\n",
       "      <td>ЧУМПУРУК</td>\n",
       "      <td>64.230000</td>\n",
       "      <td>116.920000</td>\n",
       "      <td>137.0</td>\n",
       "    </tr>\n",
       "    <tr>\n",
       "      <th>1</th>\n",
       "      <td>24641</td>\n",
       "      <td>ВИЛЮЙСК</td>\n",
       "      <td>63.753064</td>\n",
       "      <td>121.634998</td>\n",
       "      <td>111.0</td>\n",
       "    </tr>\n",
       "  </tbody>\n",
       "</table>\n",
       "</div>"
      ],
      "text/plain": [
       "   station_id      name        lat         lon      z\n",
       "0       24538  ЧУМПУРУК  64.230000  116.920000  137.0\n",
       "1       24641   ВИЛЮЙСК  63.753064  121.634998  111.0"
      ]
     },
     "execution_count": 352,
     "metadata": {},
     "output_type": "execute_result"
    }
   ],
   "source": [
    "## Coordinates of the stations\n",
    "meteo_coord = pd.read_csv('..//00_data/track_1/meteo_coord.csv')\n",
    "meteo_coord.head(2)"
   ]
  },
  {
   "cell_type": "code",
   "execution_count": 353,
   "metadata": {},
   "outputs": [
    {
     "data": {
      "text/html": [
       "<div>\n",
       "<style scoped>\n",
       "    .dataframe tbody tr th:only-of-type {\n",
       "        vertical-align: middle;\n",
       "    }\n",
       "\n",
       "    .dataframe tbody tr th {\n",
       "        vertical-align: top;\n",
       "    }\n",
       "\n",
       "    .dataframe thead th {\n",
       "        text-align: right;\n",
       "    }\n",
       "</style>\n",
       "<table border=\"1\" class=\"dataframe\">\n",
       "  <thead>\n",
       "    <tr style=\"text-align: right;\">\n",
       "      <th></th>\n",
       "      <th>station_id</th>\n",
       "      <th>lat</th>\n",
       "      <th>lon</th>\n",
       "    </tr>\n",
       "  </thead>\n",
       "  <tbody>\n",
       "    <tr>\n",
       "      <th>0</th>\n",
       "      <td>30230</td>\n",
       "      <td>57.8</td>\n",
       "      <td>108.1</td>\n",
       "    </tr>\n",
       "    <tr>\n",
       "      <th>1</th>\n",
       "      <td>30054</td>\n",
       "      <td>59.4</td>\n",
       "      <td>112.6</td>\n",
       "    </tr>\n",
       "  </tbody>\n",
       "</table>\n",
       "</div>"
      ],
      "text/plain": [
       "   station_id   lat    lon\n",
       "0       30230  57.8  108.1\n",
       "1       30054  59.4  112.6"
      ]
     },
     "execution_count": 353,
     "metadata": {},
     "output_type": "execute_result"
    }
   ],
   "source": [
    "extra_meteo_coord = [[30230, 57.8,  108.1], [30054,  59.4,  112.6], \n",
    "                     [24923,  60.7,  114.9], [24944,  60.4,  120.4],\n",
    "                     [24959,  62,  129.7], [24652,  64,  127.5],\n",
    "                     [24656,  63.5,  129.5]]\n",
    "\n",
    "\n",
    "extra_meteo_coord = pd.DataFrame(extra_meteo_coord, columns = ['station_id', 'lat', 'lon'])\n",
    "extra_meteo_coord.head(2)"
   ]
  },
  {
   "cell_type": "code",
   "execution_count": 354,
   "metadata": {},
   "outputs": [],
   "source": [
    "meteo_coord = meteo_coord[['station_id', 'lat', 'lon']].append(extra_meteo_coord, ignore_index=True)"
   ]
  },
  {
   "cell_type": "code",
   "execution_count": 13,
   "metadata": {},
   "outputs": [],
   "source": [
    "# Координаты гидростанций\n",
    "hydro_stations_coord = [[3019,  57.77,  108.07], \n",
    "[3027,  59.45,  112.58333333333333],\n",
    "[3028,  59.65,  112.8],\n",
    "[3029,  59.73,  113.17],\n",
    "[3030,  60.72,  114.88],\n",
    "[3035,  60.36666666666667,  120.41666666666667],\n",
    "[3041,  61.47,  129.17],\n",
    "[3045,  62.01370819444445,  129.66808830555556],\n",
    "[3050,  63.96,  127.41],\n",
    "[3230,  63.516666666666666,  129.48333333333332]]\n",
    "hydro_stations_coord = pd.DataFrame(hydro_stations_coord, columns = ['station_id', 'lat', 'lon'])"
   ]
  },
  {
   "cell_type": "code",
   "execution_count": 2,
   "metadata": {},
   "outputs": [],
   "source": [
    "# For each station select air according to the closest coordinate\n",
    "def find_data_by_coordinates(list_of_files, list_of_stations):\n",
    "    combined_dataframe = pd.DataFrame()\n",
    "    for file in list_of_files:\n",
    "        dataset = xr.open_dataset(file)\n",
    "        for index, row in list_of_stations.iterrows():\n",
    "            selected_rows = dataset.sel(lon = str(row['lon']), lat = str(row['lat']), method='nearest').to_dataframe().reset_index(drop = True)\n",
    "            selected_rows['station_id'] = row['station_id']\n",
    "            combined_dataframe = combined_dataframe.append(selected_rows)\n",
    "    return combined_dataframe"
   ]
  },
  {
   "cell_type": "markdown",
   "metadata": {},
   "source": [
    "### Daily Air temperature"
   ]
  },
  {
   "cell_type": "code",
   "execution_count": 7,
   "metadata": {},
   "outputs": [],
   "source": [
    "files = os.path.join(path_to_data, 'ncer')\n",
    "list_of_air_files = glob.glob(files + '/air*.nc')"
   ]
  },
  {
   "cell_type": "code",
   "execution_count": 8,
   "metadata": {},
   "outputs": [
    {
     "data": {
      "text/plain": [
       "['..//00_data/additional\\\\ncer\\\\air.1985.nc',\n",
       " '..//00_data/additional\\\\ncer\\\\air.1986.nc',\n",
       " '..//00_data/additional\\\\ncer\\\\air.1987.nc',\n",
       " '..//00_data/additional\\\\ncer\\\\air.1988.nc',\n",
       " '..//00_data/additional\\\\ncer\\\\air.1989.nc',\n",
       " '..//00_data/additional\\\\ncer\\\\air.1990.nc',\n",
       " '..//00_data/additional\\\\ncer\\\\air.1991.nc',\n",
       " '..//00_data/additional\\\\ncer\\\\air.1992.nc',\n",
       " '..//00_data/additional\\\\ncer\\\\air.1993.nc',\n",
       " '..//00_data/additional\\\\ncer\\\\air.1994.nc',\n",
       " '..//00_data/additional\\\\ncer\\\\air.1995.nc',\n",
       " '..//00_data/additional\\\\ncer\\\\air.1996.nc',\n",
       " '..//00_data/additional\\\\ncer\\\\air.1997.nc',\n",
       " '..//00_data/additional\\\\ncer\\\\air.1998.nc',\n",
       " '..//00_data/additional\\\\ncer\\\\air.1999.nc',\n",
       " '..//00_data/additional\\\\ncer\\\\air.2000.nc',\n",
       " '..//00_data/additional\\\\ncer\\\\air.2001.nc',\n",
       " '..//00_data/additional\\\\ncer\\\\air.2002.nc',\n",
       " '..//00_data/additional\\\\ncer\\\\air.2003.nc',\n",
       " '..//00_data/additional\\\\ncer\\\\air.2004.nc',\n",
       " '..//00_data/additional\\\\ncer\\\\air.2005.nc',\n",
       " '..//00_data/additional\\\\ncer\\\\air.2006.nc',\n",
       " '..//00_data/additional\\\\ncer\\\\air.2007.nc',\n",
       " '..//00_data/additional\\\\ncer\\\\air.2008.nc',\n",
       " '..//00_data/additional\\\\ncer\\\\air.2009.nc',\n",
       " '..//00_data/additional\\\\ncer\\\\air.2010.nc',\n",
       " '..//00_data/additional\\\\ncer\\\\air.2011.nc',\n",
       " '..//00_data/additional\\\\ncer\\\\air.2012.nc',\n",
       " '..//00_data/additional\\\\ncer\\\\air.2013.nc',\n",
       " '..//00_data/additional\\\\ncer\\\\air.2014.nc',\n",
       " '..//00_data/additional\\\\ncer\\\\air.2015.nc',\n",
       " '..//00_data/additional\\\\ncer\\\\air.2016.nc',\n",
       " '..//00_data/additional\\\\ncer\\\\air.2017.nc',\n",
       " '..//00_data/additional\\\\ncer\\\\air.2018.nc',\n",
       " '..//00_data/additional\\\\ncer\\\\air.2019.nc',\n",
       " '..//00_data/additional\\\\ncer\\\\air.2020.nc',\n",
       " '..//00_data/additional\\\\ncer\\\\air.2021.nc']"
      ]
     },
     "execution_count": 8,
     "metadata": {},
     "output_type": "execute_result"
    }
   ],
   "source": [
    "list_of_air_files"
   ]
  },
  {
   "cell_type": "code",
   "execution_count": 351,
   "metadata": {},
   "outputs": [],
   "source": [
    "#all_air = nc.MFDataset(list_of_air_files)"
   ]
  },
  {
   "cell_type": "code",
   "execution_count": 313,
   "metadata": {},
   "outputs": [],
   "source": [
    "#for dim in ds.dimensions.values():\n",
    "#    print(dim)"
   ]
  },
  {
   "cell_type": "code",
   "execution_count": null,
   "metadata": {},
   "outputs": [],
   "source": [
    "air_data = find_data_by_coordinates(list_of_air_files, hydro_stations_coord)"
   ]
  },
  {
   "cell_type": "code",
   "execution_count": null,
   "metadata": {},
   "outputs": [],
   "source": [
    "air_data.to_pickle(os.path.join(files, 'hydro_to_air.pkl'))"
   ]
  },
  {
   "cell_type": "markdown",
   "metadata": {},
   "source": [
    "## HGT"
   ]
  },
  {
   "cell_type": "code",
   "execution_count": null,
   "metadata": {},
   "outputs": [],
   "source": [
    "list_of_hgt_files = glob.glob(files + '/hgt*.nc')"
   ]
  },
  {
   "cell_type": "code",
   "execution_count": null,
   "metadata": {},
   "outputs": [],
   "source": [
    "hgt_data = find_data_by_coordinates(list_of_hgt_files, hydro_stations_coord)"
   ]
  },
  {
   "cell_type": "code",
   "execution_count": null,
   "metadata": {},
   "outputs": [],
   "source": [
    "hgt_data.to_pickle(os.path.join(files, 'hydro_to_hgt.pkl'))"
   ]
  },
  {
   "cell_type": "markdown",
   "metadata": {},
   "source": [
    "## Omega"
   ]
  },
  {
   "cell_type": "code",
   "execution_count": null,
   "metadata": {},
   "outputs": [],
   "source": [
    "list_of_omega_files = glob.glob(files + '/omega*.nc')"
   ]
  },
  {
   "cell_type": "code",
   "execution_count": null,
   "metadata": {},
   "outputs": [],
   "source": [
    "omega_data = find_data_by_coordinates(list_of_omega_files, hydro_stations_coord)"
   ]
  },
  {
   "cell_type": "code",
   "execution_count": null,
   "metadata": {},
   "outputs": [],
   "source": [
    "omega_data.to_pickle(os.path.join(files, 'hydro_to_omega.pkl'))"
   ]
  },
  {
   "cell_type": "markdown",
   "metadata": {},
   "source": [
    "## RHUM"
   ]
  },
  {
   "cell_type": "code",
   "execution_count": null,
   "metadata": {},
   "outputs": [],
   "source": [
    "list_of_rhum_files = glob.glob(files + '/rhum*.nc')"
   ]
  },
  {
   "cell_type": "code",
   "execution_count": null,
   "metadata": {},
   "outputs": [],
   "source": [
    "rhum_data = find_data_by_coordinates(list_of_rhum_files, hydro_stations_coord)"
   ]
  },
  {
   "cell_type": "code",
   "execution_count": null,
   "metadata": {},
   "outputs": [],
   "source": [
    "rhum_data.to_pickle(os.path.join(files, 'hydro_to_rhum.pkl'))"
   ]
  }
 ],
 "metadata": {
  "kernelspec": {
   "display_name": "Python 3",
   "language": "python",
   "name": "python3"
  },
  "language_info": {
   "codemirror_mode": {
    "name": "ipython",
    "version": 3
   },
   "file_extension": ".py",
   "mimetype": "text/x-python",
   "name": "python",
   "nbconvert_exporter": "python",
   "pygments_lexer": "ipython3",
   "version": "3.7.4"
  }
 },
 "nbformat": 4,
 "nbformat_minor": 2
}
