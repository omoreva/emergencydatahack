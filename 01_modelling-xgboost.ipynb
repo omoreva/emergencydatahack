{
 "cells": [
  {
   "cell_type": "code",
   "execution_count": 1,
   "metadata": {},
   "outputs": [
    {
     "name": "stderr",
     "output_type": "stream",
     "text": [
      "C:\\Users\\omore\\Anaconda3\\lib\\site-packages\\dask\\dataframe\\utils.py:14: FutureWarning: pandas.util.testing is deprecated. Use the functions in the public API at pandas.testing instead.\n",
      "  import pandas.util.testing as tm\n"
     ]
    }
   ],
   "source": [
    "import pandas as pd\n",
    "import numpy as np\n",
    "from sklearn.ensemble import RandomForestClassifier\n",
    "from sklearn.metrics import accuracy_score, recall_score, precision_score, f1_score, roc_auc_score\n",
    "import os\n",
    "from sklearn.metrics import f1_score\n",
    "pd.options.display.max_columns = None\n",
    "import matplotlib.pyplot as plt\n",
    "from sklearn.model_selection import GridSearchCV, TimeSeriesSplit\n",
    "from sklearn import metrics\n",
    "from sklearn.metrics import plot_confusion_matrix\n",
    "from datetime import datetime\n",
    "from xgboost import XGBClassifier\n",
    "from numpy import inf\n",
    "import pickle\n",
    "import random"
   ]
  },
  {
   "cell_type": "code",
   "execution_count": 2,
   "metadata": {},
   "outputs": [
    {
     "name": "stderr",
     "output_type": "stream",
     "text": [
      "C:\\Users\\omore\\Anaconda3\\lib\\site-packages\\IPython\\core\\interactiveshell.py:3058: DtypeWarning: Columns (45,65,122,142,199,430,604,661,681) have mixed types.Specify dtype option on import or set low_memory=False.\n",
      "  interactivity=interactivity, compiler=compiler, result=result)\n",
      "C:\\Users\\omore\\Anaconda3\\lib\\site-packages\\IPython\\core\\interactiveshell.py:3058: DtypeWarning: Columns (45,65,122,142,199,276,604,661,681) have mixed types.Specify dtype option on import or set low_memory=False.\n",
      "  interactivity=interactivity, compiler=compiler, result=result)\n",
      "C:\\Users\\omore\\Anaconda3\\lib\\site-packages\\IPython\\core\\interactiveshell.py:3058: DtypeWarning: Columns (46,66,123,143,200,277,431,605,662,682) have mixed types.Specify dtype option on import or set low_memory=False.\n",
      "  interactivity=interactivity, compiler=compiler, result=result)\n"
     ]
    }
   ],
   "source": [
    "# Путь к директории с данными\n",
    "data_dir = '../00_data/track_1/'\n",
    "sumbit_dir = '../02_submits/'\n",
    "preprocessed_dir = '../03_preprocessed_data/'\n",
    "\n",
    "X_train = pd.read_csv(preprocessed_dir + 'X_train.csv')\n",
    "X_test = pd.read_csv(preprocessed_dir + 'X_test.csv')\n",
    "y_train = pd.read_csv(preprocessed_dir + 'y_train.csv')\n",
    "y_test  = pd.read_csv(preprocessed_dir + 'y_test.csv')\n",
    "X = pd.read_csv(preprocessed_dir + 'X.csv')\n",
    "\n",
    "unused_features = [ 'is_test']\n",
    "cat_col = [x for x in X_train.columns if 'code'  in x]\n",
    "unused_features = unused_features + cat_col\n",
    "\n",
    "use_for_train = ['year', 'station_id', 'day', 'ice_jam_same_day_last_year',\n",
    "       'ice_jam_same_day_last_year_prev_stat', 'ice_jam_same_day_prelast_year',\n",
    "       'is_prelast_year_missing', 'n_jams_last_year',\n",
    "       'n_jams_prelast_year', 'n_jams_last_year_prev_station', 'n_jams_past',\n",
    "       'n_jams_past_prev_stat', 'n_same_days_before',\n",
    "       'n_ice_jams_same_days_before', 'n_ice_jams_same_days_before_ratio', 'station_width']\n",
    "\n",
    "use_for_train = ['year', 'station_id', 'day', \n",
    "       'ice_jam_same_day_last_year', \n",
    "       'ice_jam_same_day_prelast_year', \n",
    "                 'is_last_year_missing',\n",
    "       'is_prelast_year_missing', \n",
    "                 'n_jams_last_year',\n",
    "                 'n_jams_prelast_year',\n",
    "       'n_jams_past',  'n_ice_jams_same_days_before',\n",
    "       'n_ice_jams_same_days_before_ratio',\n",
    "       'distance_from_source', 'drainage_area', 'z_null', \n",
    "       'height_diff_by_dist']\n"
   ]
  },
  {
   "cell_type": "code",
   "execution_count": 3,
   "metadata": {},
   "outputs": [],
   "source": [
    "use_for_train = use_for_train + \\\n",
    "    [x for x in X_train.columns if 'stage_max'  in x] + \\\n",
    "    [x for x in X_train.columns if 'air'  in x] + \\\n",
    "    [x for x in X_train.columns if 'inc'  in x] \n",
    "use_for_train = list(set(use_for_train))"
   ]
  },
  {
   "cell_type": "code",
   "execution_count": 4,
   "metadata": {},
   "outputs": [
    {
     "data": {
      "text/plain": [
       "308"
      ]
     },
     "execution_count": 4,
     "metadata": {},
     "output_type": "execute_result"
    }
   ],
   "source": [
    "drop_summer = [x for x in X_train.columns if '6_'  in x] + \\\n",
    "    [x for x in X_train.columns if '7_'  in x] + \\\n",
    "    [x for x in X_train.columns if '8_'  in x]+ \\\n",
    "    [x for x in X_train.columns if '9_'  in x]\n",
    "\n",
    "len(drop_summer)"
   ]
  },
  {
   "cell_type": "code",
   "execution_count": 5,
   "metadata": {},
   "outputs": [
    {
     "data": {
      "text/plain": [
       "97"
      ]
     },
     "execution_count": 5,
     "metadata": {},
     "output_type": "execute_result"
    }
   ],
   "source": [
    "#use_for_train = [x for x in X_train.columns if x not in (unused_features + ['ice_jam'] + drop_summer )]\n",
    "len(use_for_train)"
   ]
  },
  {
   "cell_type": "code",
   "execution_count": 6,
   "metadata": {},
   "outputs": [
    {
     "data": {
      "text/plain": [
       "['7_stage_inc_monthly',\n",
       " '6_std_air',\n",
       " '11_mean_stage_max',\n",
       " '7_mean_air',\n",
       " '12_std_stage_max',\n",
       " '2_min_stage_max',\n",
       " 'height_diff_by_dist',\n",
       " '10_mean_air',\n",
       " 'drainage_area',\n",
       " '1_std_air',\n",
       " '6_mean_air',\n",
       " '1_std_stage_max',\n",
       " '9_std_stage_max',\n",
       " '1_min_air',\n",
       " '11_max_air',\n",
       " '2_stage_inc_monthly',\n",
       " '12_max_stage_max',\n",
       " '1_min_stage_max',\n",
       " '1_mean_stage_max',\n",
       " '8_min_stage_max',\n",
       " '11_mean_air',\n",
       " '12_min_air',\n",
       " '8_max_stage_max',\n",
       " '9_max_stage_max',\n",
       " '6_max_stage_max',\n",
       " 'is_last_year_missing',\n",
       " '11_stage_inc_monthly',\n",
       " '8_std_stage_max',\n",
       " '6_std_stage_max',\n",
       " '12_std_air',\n",
       " '8_min_air',\n",
       " 'z_null',\n",
       " '9_min_air',\n",
       " '10_mean_stage_max',\n",
       " '11_max_stage_max',\n",
       " '1_stage_inc_monthly',\n",
       " '10_stage_inc_monthly',\n",
       " '10_min_air',\n",
       " '6_mean_stage_max',\n",
       " '1_max_air',\n",
       " '1_mean_air',\n",
       " '7_min_stage_max',\n",
       " 'ice_jam_same_day_last_year',\n",
       " 'distance_from_source',\n",
       " '6_min_stage_max',\n",
       " 'n_jams_past',\n",
       " '1_max_stage_max',\n",
       " 'n_jams_last_year',\n",
       " '8_max_air',\n",
       " '8_std_air',\n",
       " 'ice_jam_same_day_prelast_year',\n",
       " '7_max_stage_max',\n",
       " '2_mean_air',\n",
       " '12_stage_inc_monthly',\n",
       " '9_stage_inc_monthly',\n",
       " '11_min_stage_max',\n",
       " '9_min_stage_max',\n",
       " '7_min_air',\n",
       " '6_min_air',\n",
       " '12_min_stage_max',\n",
       " '10_std_air',\n",
       " '11_std_stage_max',\n",
       " '10_std_stage_max',\n",
       " '8_stage_inc_monthly',\n",
       " '9_std_air',\n",
       " '11_min_air',\n",
       " '12_mean_stage_max',\n",
       " '10_min_stage_max',\n",
       " '8_mean_stage_max',\n",
       " '9_mean_stage_max',\n",
       " '8_mean_air',\n",
       " 'station_id',\n",
       " 'n_ice_jams_same_days_before_ratio',\n",
       " '2_std_air',\n",
       " 'is_prelast_year_missing',\n",
       " '2_max_stage_max',\n",
       " '10_max_air',\n",
       " '7_std_air',\n",
       " '2_std_stage_max',\n",
       " 'n_jams_prelast_year',\n",
       " 'year',\n",
       " '6_max_air',\n",
       " 'n_ice_jams_same_days_before',\n",
       " 'day',\n",
       " '7_mean_stage_max',\n",
       " '2_mean_stage_max',\n",
       " '9_max_air',\n",
       " '11_std_air',\n",
       " '12_mean_air',\n",
       " '6_stage_inc_monthly',\n",
       " '7_max_air',\n",
       " '9_mean_air',\n",
       " '2_max_air',\n",
       " '2_min_air',\n",
       " '12_max_air',\n",
       " '7_std_stage_max',\n",
       " '10_max_stage_max']"
      ]
     },
     "execution_count": 6,
     "metadata": {},
     "output_type": "execute_result"
    }
   ],
   "source": [
    "use_for_train"
   ]
  },
  {
   "cell_type": "code",
   "execution_count": 7,
   "metadata": {},
   "outputs": [],
   "source": [
    "X_train_used = X_train[use_for_train]\n",
    "# X_train_used = X_train[[use_for_train]].drop(unused_features, axis = 1)\n",
    "X_test_used  = X_test[use_for_train]"
   ]
  },
  {
   "cell_type": "markdown",
   "metadata": {},
   "source": [
    "# XGBoost"
   ]
  },
  {
   "cell_type": "code",
   "execution_count": 12,
   "metadata": {},
   "outputs": [
    {
     "name": "stdout",
     "output_type": "stream",
     "text": [
      "[0]\tvalidation_0-error:0.16131\n",
      "Will train until validation_0-error hasn't improved in 2 rounds.\n",
      "[1]\tvalidation_0-error:0.08980\n",
      "[2]\tvalidation_0-error:0.09895\n",
      "[3]\tvalidation_0-error:0.07733\n",
      "[4]\tvalidation_0-error:0.08065\n",
      "[5]\tvalidation_0-error:0.05432\n",
      "[6]\tvalidation_0-error:0.05903\n",
      "[7]\tvalidation_0-error:0.04490\n",
      "[8]\tvalidation_0-error:0.04074\n",
      "[9]\tvalidation_0-error:0.03852\n",
      "[10]\tvalidation_0-error:0.03437\n",
      "[11]\tvalidation_0-error:0.03326\n",
      "[12]\tvalidation_0-error:0.02605\n",
      "[13]\tvalidation_0-error:0.02079\n",
      "[14]\tvalidation_0-error:0.02439\n",
      "[15]\tvalidation_0-error:0.02079\n",
      "Stopping. Best iteration:\n",
      "[13]\tvalidation_0-error:0.02079\n",
      "\n",
      "F1-train: 0.3003952569169961\n",
      "F1-test: 0.05063291139240506\n"
     ]
    },
    {
     "data": {
      "text/plain": [
       "Text(0.5, 0, 'XGBoost Importance')"
      ]
     },
     "execution_count": 12,
     "metadata": {},
     "output_type": "execute_result"
    },
    {
     "data": {
      "image/png": "[encoded data removed]",
      "text/plain": [
       "<Figure size 432x288 with 1 Axes>"
      ]
     },
     "metadata": {
      "needs_background": "light"
     },
     "output_type": "display_data"
    }
   ],
   "source": [
    "random.seed(10)\n",
    "np.random.seed(10)\n",
    "model = XGBClassifier(scale_pos_weight = 50, n_estimators = 500, random_state=1, seed = 1)\n",
    "eval_set =[(X_test_used, y_test)]\n",
    "model.fit(X_train_used, y_train, early_stopping_rounds = 2, \n",
    "                      eval_metric=\"error\",\n",
    "                     eval_set=eval_set , verbose=True)   \n",
    "\n",
    "y_pred = model.predict(X_test_used)\n",
    "y_train_pred = model.predict(X_train_used)\n",
    "\n",
    "print('F1-train: {}'.format(f1_score(y_train, y_train_pred)))\n",
    "print('F1-test: {}'.format(f1_score(y_test, y_pred)))\n",
    "\n",
    "importances = model.feature_importances_\n",
    "feature_names = X_train_used.columns\n",
    "sorted_idx = importances.argsort()[-20:]\n",
    "\n",
    "\n",
    "plt.barh(feature_names[sorted_idx], importances[sorted_idx])\n",
    "plt.xlabel(\"XGBoost Importance\")\n"
   ]
  },
  {
   "cell_type": "code",
   "execution_count": 9,
   "metadata": {},
   "outputs": [],
   "source": [
    "X_used = X[use_for_train + ['is_test', 'ice_jam']  ]\n",
    "all_train = X_used[(X_used['is_test'] == False)].drop('ice_jam', axis = 1).reset_index(drop=True)\n",
    "X_val = X_used[(X_used['is_test'] == True)].drop('ice_jam', axis = 1).reset_index(drop=True)\n",
    "all_y_train =  X_used.loc[(X_used['is_test'] == False),'ice_jam']\n",
    "mod_opt= model.fit(all_train, all_y_train)\n",
    "\n",
    "X_val['ice_jam'] = mod_opt.predict(X_val)\n",
    "now = datetime.now()\n",
    "X_val[['year', 'station_id', 'day', 'ice_jam']].\\\n",
    "    to_csv(sumbit_dir + 'submit-rf' + now.strftime(\"%m-%d-%Y-%H-%M\") + '.csv', index=False)"
   ]
  },
  {
   "cell_type": "markdown",
   "metadata": {},
   "source": [
    "Сохраним модель"
   ]
  },
  {
   "cell_type": "code",
   "execution_count": 10,
   "metadata": {},
   "outputs": [],
   "source": [
    "pickle.dump(model, open(sumbit_dir + 'submit-rf' + now.strftime(\"%m-%d-%Y-%H-%M\") + '.pkl', 'wb'))"
   ]
  }
 ],
 "metadata": {
  "kernelspec": {
   "display_name": "Python 3",
   "language": "python",
   "name": "python3"
  },
  "language_info": {
   "codemirror_mode": {
    "name": "ipython",
    "version": 3
   },
   "file_extension": ".py",
   "mimetype": "text/x-python",
   "name": "python",
   "nbconvert_exporter": "python",
   "pygments_lexer": "ipython3",
   "version": "3.7.4"
  }
 },
 "nbformat": 4,
 "nbformat_minor": 4
}
