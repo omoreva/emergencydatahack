{
 "cells": [
  {
   "cell_type": "code",
   "execution_count": 84,
   "metadata": {},
   "outputs": [],
   "source": [
    "import pandas as pd\n",
    "import numpy as np\n",
    "from sklearn.model_selection import train_test_split\n",
    "from sklearn.ensemble import RandomForestClassifier\n",
    "from sklearn.metrics import accuracy_score, recall_score, precision_score, f1_score, roc_auc_score\n",
    "import os\n",
    "from sklearn.metrics import f1_score\n",
    "pd.options.display.max_columns = None\n",
    "import matplotlib.pyplot as plt\n",
    "from sklearn.model_selection import GridSearchCV, TimeSeriesSplit\n",
    "from sklearn import metrics\n",
    "from sklearn.metrics import plot_confusion_matrix\n",
    "from datetime import datetime\n",
    "from xgboost import XGBClassifier\n",
    "from numpy import inf\n",
    "import pickle"
   ]
  },
  {
   "cell_type": "code",
   "execution_count": 33,
   "metadata": {},
   "outputs": [
    {
     "name": "stderr",
     "output_type": "stream",
     "text": [
      "C:\\Users\\omore\\Anaconda3\\lib\\site-packages\\IPython\\core\\interactiveshell.py:3058: DtypeWarning: Columns (45,65,122,142,199,430,604,661,681) have mixed types.Specify dtype option on import or set low_memory=False.\n",
      "  interactivity=interactivity, compiler=compiler, result=result)\n",
      "C:\\Users\\omore\\Anaconda3\\lib\\site-packages\\IPython\\core\\interactiveshell.py:3058: DtypeWarning: Columns (45,65,122,142,199,276,604,661,681) have mixed types.Specify dtype option on import or set low_memory=False.\n",
      "  interactivity=interactivity, compiler=compiler, result=result)\n",
      "C:\\Users\\omore\\Anaconda3\\lib\\site-packages\\IPython\\core\\interactiveshell.py:3058: DtypeWarning: Columns (46,66,123,143,200,277,431,605,662,682) have mixed types.Specify dtype option on import or set low_memory=False.\n",
      "  interactivity=interactivity, compiler=compiler, result=result)\n"
     ]
    }
   ],
   "source": [
    "# Путь к директории с данными\n",
    "\n",
    "data_dir = '../00_data/track_1/'\n",
    "sumbit_dir = '../02_submits/'\n",
    "preprocessed_dir = '../03_preprocessed_data/'\n",
    "\n",
    "X_train = pd.read_csv(preprocessed_dir + 'X_train.csv')\n",
    "X_test = pd.read_csv(preprocessed_dir + 'X_test.csv')\n",
    "y_train = pd.read_csv(preprocessed_dir + 'y_train.csv')\n",
    "y_test  = pd.read_csv(preprocessed_dir + 'y_test.csv')\n",
    "X = pd.read_csv(preprocessed_dir + 'X.csv')\n",
    "unused_features = [ 'is_test']\n",
    "cat_col = [x for x in X_train.columns if 'code'  in x]\n",
    "unused_features = unused_features + cat_col\n",
    "use_for_train = ['year', 'station_id', 'day', 'ice_jam_same_day_last_year',\n",
    "       'ice_jam_same_day_last_year_prev_stat', 'ice_jam_same_day_prelast_year',\n",
    "       'is_prelast_year_missing', 'n_jams_last_year',\n",
    "       'n_jams_prelast_year', 'n_jams_last_year_prev_station', 'n_jams_past',\n",
    "       'n_jams_past_prev_stat', 'n_same_days_before',\n",
    "       'n_ice_jams_same_days_before', 'n_ice_jams_same_days_before_ratio', 'station_width']\n",
    "#\n",
    "use_for_train = ['year', 'station_id', 'day', \n",
    "       'ice_jam_same_day_last_year', \n",
    "       'ice_jam_same_day_prelast_year', \n",
    "                 'is_last_year_missing',\n",
    "       'is_prelast_year_missing', \n",
    "                 'n_jams_last_year',\n",
    "                 'n_jams_prelast_year',\n",
    "       'n_jams_past',  'n_ice_jams_same_days_before',\n",
    "       'n_ice_jams_same_days_before_ratio',\n",
    "       'distance_from_source', 'drainage_area', 'z_null', \n",
    "       'height_diff_by_dist']\n"
   ]
  },
  {
   "cell_type": "markdown",
   "metadata": {},
   "source": [
    "from sklearn.feature_selection import SelectKBest\n",
    "N_features = 50\n",
    "unused_features = unused_features + cat_col\n",
    "feature_selector = SelectKBest(k = N_features)\n",
    "features = X_train.drop(unused_features, axis = 1).columns\n",
    "feature_selector = feature_selector.fit(X_train.drop(unused_features, axis = 1), y_train)\n",
    "#X_train_new = .fit_transform(X_train.drop(unused_features, axis = 1), y_train)\n",
    "#X_train_new.shape\n",
    "use_for_train = features[feature_selector.get_support()]\n",
    "use_for_train"
   ]
  },
  {
   "cell_type": "code",
   "execution_count": 34,
   "metadata": {},
   "outputs": [],
   "source": [
    "use_for_train = use_for_train + \\\n",
    "    [x for x in X_train.columns if 'stage_max'  in x] + \\\n",
    "    [x for x in X_train.columns if 'air'  in x] + \\\n",
    "    [x for x in X_train.columns if 'inc'  in x] \n",
    "use_for_train = list(set(use_for_train))"
   ]
  },
  {
   "cell_type": "code",
   "execution_count": 35,
   "metadata": {},
   "outputs": [
    {
     "data": {
      "text/plain": [
       "308"
      ]
     },
     "execution_count": 35,
     "metadata": {},
     "output_type": "execute_result"
    }
   ],
   "source": [
    "drop_summer = [x for x in X_train.columns if '6_'  in x] + \\\n",
    "    [x for x in X_train.columns if '7_'  in x] + \\\n",
    "    [x for x in X_train.columns if '8_'  in x]+ \\\n",
    "    [x for x in X_train.columns if '9_'  in x]\n",
    "\n",
    "len(drop_summer)"
   ]
  },
  {
   "cell_type": "code",
   "execution_count": 36,
   "metadata": {},
   "outputs": [
    {
     "data": {
      "text/plain": [
       "97"
      ]
     },
     "execution_count": 36,
     "metadata": {},
     "output_type": "execute_result"
    }
   ],
   "source": [
    "#use_for_train = [x for x in X_train.columns if x not in (unused_features + ['ice_jam'] + drop_summer )]\n",
    "len(use_for_train)"
   ]
  },
  {
   "cell_type": "code",
   "execution_count": 83,
   "metadata": {},
   "outputs": [
    {
     "data": {
      "text/plain": [
       "['10_max_stage_max',\n",
       " '11_stage_inc_monthly',\n",
       " '2_std_air',\n",
       " '9_mean_air',\n",
       " '11_std_stage_max',\n",
       " 'distance_from_source',\n",
       " '7_std_stage_max',\n",
       " 'n_jams_prelast_year',\n",
       " '8_std_stage_max',\n",
       " '1_max_stage_max',\n",
       " '1_mean_stage_max',\n",
       " '8_max_air',\n",
       " '8_mean_stage_max',\n",
       " '10_mean_air',\n",
       " '12_std_air',\n",
       " 'is_prelast_year_missing',\n",
       " '1_mean_air',\n",
       " '12_min_stage_max',\n",
       " 'year',\n",
       " '8_stage_inc_monthly',\n",
       " '7_min_air',\n",
       " '9_std_stage_max',\n",
       " '11_max_air',\n",
       " '6_stage_inc_monthly',\n",
       " '2_max_stage_max',\n",
       " '6_std_stage_max',\n",
       " '2_min_air',\n",
       " '9_max_stage_max',\n",
       " '6_min_air',\n",
       " '10_std_air',\n",
       " '8_max_stage_max',\n",
       " 'n_jams_past',\n",
       " '12_max_stage_max',\n",
       " '10_min_air',\n",
       " '12_min_air',\n",
       " 'is_last_year_missing',\n",
       " '7_max_air',\n",
       " 'station_id',\n",
       " '7_std_air',\n",
       " '6_mean_air',\n",
       " '2_min_stage_max',\n",
       " '12_mean_stage_max',\n",
       " '6_max_air',\n",
       " '11_min_stage_max',\n",
       " '9_min_air',\n",
       " '2_mean_stage_max',\n",
       " '7_min_stage_max',\n",
       " '1_min_air',\n",
       " 'day',\n",
       " '6_std_air',\n",
       " 'ice_jam_same_day_last_year',\n",
       " '2_std_stage_max',\n",
       " '1_std_air',\n",
       " '7_stage_inc_monthly',\n",
       " '11_mean_stage_max',\n",
       " '11_max_stage_max',\n",
       " '9_max_air',\n",
       " 'ice_jam_same_day_prelast_year',\n",
       " '10_max_air',\n",
       " '11_mean_air',\n",
       " '7_mean_stage_max',\n",
       " '11_min_air',\n",
       " '8_min_stage_max',\n",
       " '9_stage_inc_monthly',\n",
       " '1_min_stage_max',\n",
       " '6_mean_stage_max',\n",
       " '6_max_stage_max',\n",
       " '1_max_air',\n",
       " '10_mean_stage_max',\n",
       " '9_mean_stage_max',\n",
       " 'drainage_area',\n",
       " '8_std_air',\n",
       " 'n_jams_last_year',\n",
       " '12_mean_air',\n",
       " '12_std_stage_max',\n",
       " '2_mean_air',\n",
       " 'n_ice_jams_same_days_before',\n",
       " '2_max_air',\n",
       " '10_std_stage_max',\n",
       " '9_min_stage_max',\n",
       " 'height_diff_by_dist',\n",
       " '10_min_stage_max',\n",
       " '12_stage_inc_monthly',\n",
       " '7_mean_air',\n",
       " '1_stage_inc_monthly',\n",
       " '6_min_stage_max',\n",
       " 'n_ice_jams_same_days_before_ratio',\n",
       " '2_stage_inc_monthly',\n",
       " '8_min_air',\n",
       " '7_max_stage_max',\n",
       " '9_std_air',\n",
       " '10_stage_inc_monthly',\n",
       " '11_std_air',\n",
       " 'z_null',\n",
       " '1_std_stage_max',\n",
       " '12_max_air',\n",
       " '8_mean_air']"
      ]
     },
     "execution_count": 83,
     "metadata": {},
     "output_type": "execute_result"
    }
   ],
   "source": [
    "use_for_train"
   ]
  },
  {
   "cell_type": "markdown",
   "metadata": {},
   "source": [
    "# Random Forest"
   ]
  },
  {
   "cell_type": "code",
   "execution_count": 37,
   "metadata": {},
   "outputs": [
    {
     "name": "stderr",
     "output_type": "stream",
     "text": [
      "C:\\Users\\omore\\Anaconda3\\lib\\site-packages\\ipykernel_launcher.py:7: DataConversionWarning: A column-vector y was passed when a 1d array was expected. Please change the shape of y to (n_samples,), for example using ravel().\n",
      "  import sys\n"
     ]
    },
    {
     "name": "stdout",
     "output_type": "stream",
     "text": [
      "F1-train: 1.0\n",
      "F1-test: 0.0\n"
     ]
    }
   ],
   "source": [
    "X_train_used = X_train[use_for_train]\n",
    "# X_train_used = X_train[[use_for_train]].drop(unused_features, axis = 1)\n",
    "X_test_used  = X_test[use_for_train]\n",
    "# X_test_used = X_test[[use_for_train]].drop(unused_features, axis = 1)\n",
    "\n",
    "mod_RF = RandomForestClassifier(class_weight = 'balanced')\n",
    "mod_RF.fit(X_train_used, y_train)        \n",
    "\n",
    "y_pred = mod_RF.predict(X_test_used)\n",
    "y_train_pred = mod_RF.predict(X_train_used)\n",
    "\n",
    "print('F1-train: {}'.format(f1_score(y_train, y_train_pred)))\n",
    "print('F1-test: {}'.format(f1_score(y_test, y_pred)))"
   ]
  },
  {
   "cell_type": "code",
   "execution_count": 38,
   "metadata": {},
   "outputs": [
    {
     "name": "stderr",
     "output_type": "stream",
     "text": [
      "C:\\Users\\omore\\Anaconda3\\lib\\site-packages\\sklearn\\utils\\validation.py:760: DataConversionWarning: A column-vector y was passed when a 1d array was expected. Please change the shape of y to (n_samples, ), for example using ravel().\n",
      "  y = column_or_1d(y, warn=True)\n"
     ]
    },
    {
     "name": "stdout",
     "output_type": "stream",
     "text": [
      "F1-train: 0.06889128094725512\n",
      "F1-test: 0.03387220939183987\n"
     ]
    }
   ],
   "source": [
    "from sklearn.linear_model import LogisticRegression\n",
    "\n",
    "mod_logreg = LogisticRegression(class_weight = 'balanced', max_iter= 10000)\n",
    "mod_logreg.fit(X_train_used, y_train)        \n",
    "\n",
    "y_pred = mod_logreg.predict(X_test_used)\n",
    "y_train_pred = mod_logreg.predict(X_train_used)\n",
    "\n",
    "print('F1-train: {}'.format(f1_score(y_train, y_train_pred)))\n",
    "print('F1-test: {}'.format(f1_score(y_test, y_pred)))"
   ]
  },
  {
   "cell_type": "code",
   "execution_count": 53,
   "metadata": {},
   "outputs": [
    {
     "name": "stdout",
     "output_type": "stream",
     "text": [
      "[0]\tvalidation_0-error:0.16436\n",
      "Will train until validation_0-error hasn't improved in 2 rounds.\n",
      "[1]\tvalidation_0-error:0.09285\n",
      "[2]\tvalidation_0-error:0.09950\n",
      "[3]\tvalidation_0-error:0.07844\n",
      "[4]\tvalidation_0-error:0.08121\n",
      "[5]\tvalidation_0-error:0.05543\n",
      "[6]\tvalidation_0-error:0.05903\n",
      "[7]\tvalidation_0-error:0.04490\n",
      "[8]\tvalidation_0-error:0.04130\n",
      "[9]\tvalidation_0-error:0.03908\n",
      "[10]\tvalidation_0-error:0.03437\n",
      "[11]\tvalidation_0-error:0.03326\n",
      "[12]\tvalidation_0-error:0.02605\n",
      "[13]\tvalidation_0-error:0.02051\n",
      "[14]\tvalidation_0-error:0.02411\n",
      "[15]\tvalidation_0-error:0.02051\n",
      "Stopping. Best iteration:\n",
      "[13]\tvalidation_0-error:0.02051\n",
      "\n",
      "F1-train: 0.3003952569169961\n",
      "F1-test: 0.075\n"
     ]
    }
   ],
   "source": [
    "model = XGBClassifier(scale_pos_weight = 50, n_estimators = 500, random_state=0)\n",
    "eval_set =[(X_test_used, y_test)]\n",
    "model.fit(X_train_used, y_train, early_stopping_rounds = 2, \n",
    "                      eval_metric=\"error\",\n",
    "                     eval_set=eval_set , verbose=True)   \n",
    "\n",
    "y_pred = model.predict(X_test_used)\n",
    "y_train_pred = model.predict(X_train_used)\n",
    "\n",
    "print('F1-train: {}'.format(f1_score(y_train, y_train_pred)))\n",
    "print('F1-test: {}'.format(f1_score(y_test, y_pred)))"
   ]
  },
  {
   "cell_type": "code",
   "execution_count": 17,
   "metadata": {},
   "outputs": [
    {
     "data": {
      "text/plain": [
       "Text(0.5, 0, 'Random Forest Feature Importance')"
      ]
     },
     "execution_count": 17,
     "metadata": {},
     "output_type": "execute_result"
    },
    {
     "data": {
      "image/png": "[encoded data removed]",
      "text/plain": [
       "<Figure size 432x288 with 1 Axes>"
      ]
     },
     "metadata": {
      "needs_background": "light"
     },
     "output_type": "display_data"
    }
   ],
   "source": [
    "importances = mod_RF.feature_importances_\n",
    "feature_names = X_train_used.columns\n",
    "sorted_idx = importances.argsort()[::-1]\n",
    "\n",
    "\n",
    "plt.barh(feature_names[sorted_idx][0:10], importances[sorted_idx][0:10])\n",
    "plt.xlabel(\"Random Forest Feature Importance\")\n"
   ]
  },
  {
   "cell_type": "code",
   "execution_count": 18,
   "metadata": {},
   "outputs": [
    {
     "name": "stdout",
     "output_type": "stream",
     "text": [
      "Fitting 3 folds for each of 480 candidates, totalling 1440 fits\n"
     ]
    },
    {
     "name": "stderr",
     "output_type": "stream",
     "text": [
      "[Parallel(n_jobs=-1)]: Using backend LokyBackend with 8 concurrent workers.\n",
      "[Parallel(n_jobs=-1)]: Done  25 tasks      | elapsed:    7.2s\n",
      "[Parallel(n_jobs=-1)]: Done 146 tasks      | elapsed:   17.2s\n",
      "[Parallel(n_jobs=-1)]: Done 349 tasks      | elapsed:   35.3s\n",
      "[Parallel(n_jobs=-1)]: Done 632 tasks      | elapsed:   59.8s\n",
      "[Parallel(n_jobs=-1)]: Done 997 tasks      | elapsed:  1.5min\n",
      "[Parallel(n_jobs=-1)]: Done 1440 out of 1440 | elapsed:  2.2min finished\n",
      "C:\\Users\\omore\\Anaconda3\\lib\\site-packages\\sklearn\\model_selection\\_search.py:823: FutureWarning: The parameter 'iid' is deprecated in 0.22 and will be removed in 0.24.\n",
      "  \"removed in 0.24.\", FutureWarning\n",
      "C:\\Users\\omore\\Anaconda3\\lib\\site-packages\\sklearn\\model_selection\\_search.py:739: DataConversionWarning: A column-vector y was passed when a 1d array was expected. Please change the shape of y to (n_samples,), for example using ravel().\n",
      "  self.best_estimator_.fit(X, y, **fit_params)\n"
     ]
    },
    {
     "name": "stdout",
     "output_type": "stream",
     "text": [
      "{'bootstrap': True, 'class_weight': 'balanced', 'max_depth': 6, 'max_features': 6, 'min_samples_leaf': 10, 'min_samples_split': 25, 'n_estimators': 20, 'random_state': 29}\n"
     ]
    },
    {
     "name": "stderr",
     "output_type": "stream",
     "text": [
      "C:\\Users\\omore\\Anaconda3\\lib\\site-packages\\ipykernel_launcher.py:27: DataConversionWarning: A column-vector y was passed when a 1d array was expected. Please change the shape of y to (n_samples,), for example using ravel().\n"
     ]
    },
    {
     "name": "stdout",
     "output_type": "stream",
     "text": [
      "F1-train: 0.12830188679245283\n",
      "F1-test: 0.04081632653061225\n"
     ]
    }
   ],
   "source": [
    "mod_RF = RandomForestClassifier() # or GradientBoostingClassifier, or XGBoostClassifier\n",
    "\n",
    "search_grid_RF = {'bootstrap': [True],\n",
    "                  'max_depth': [2, 3, 4, 5, 6],\n",
    "                  'max_features': [3, 4, 5, 6],\n",
    "                  'n_estimators': [5, 10, 20, 50],\n",
    "                  'min_samples_leaf': [10, 25, 50],\n",
    "                  'min_samples_split': [25, 50],\n",
    "                  'random_state': [29],\n",
    "                  'class_weight': ['balanced']\n",
    "                  }\n",
    "\n",
    "param_search_RF = GridSearchCV(estimator=mod_RF, \n",
    "                               param_grid=search_grid_RF, \n",
    "                               scoring=metrics.make_scorer(metrics.f1_score),\n",
    "                               cv=3, \n",
    "                               n_jobs=-1, \n",
    "                               verbose=2, return_train_score=True,\n",
    "                               iid=True)\n",
    "\n",
    "#param_search_RF.fit(X_train[[use_for_train]].drop(unused_features, axis = 1), y_train)        \n",
    "param_search_RF.fit(X_train_used, y_train)        \n",
    "\n",
    "print(param_search_RF.best_params_)\n",
    "\n",
    "mod_opt_RF = RandomForestClassifier(**param_search_RF.best_params_)\n",
    "mod_opt_RF = mod_opt_RF.fit(X_train_used, y_train)\n",
    "\n",
    "y_pred = mod_opt_RF.predict(X_test_used)\n",
    "y_train_pred = mod_opt_RF.predict(X_train_used)\n",
    "\n",
    "threshold_RF = 0.3\n",
    "print('F1-train: {}'.format(f1_score(y_train, y_train_pred)))\n",
    "print('F1-test: {}'.format(f1_score(y_test, y_pred)))"
   ]
  },
  {
   "cell_type": "code",
   "execution_count": null,
   "metadata": {},
   "outputs": [],
   "source": [
    "plot_confusion_matrix(mod_opt_RF, X_test_used, y_test)"
   ]
  },
  {
   "cell_type": "code",
   "execution_count": null,
   "metadata": {},
   "outputs": [],
   "source": [
    "plot_confusion_matrix(mod_opt_RF, X_train_used, y_train)"
   ]
  },
  {
   "cell_type": "code",
   "execution_count": null,
   "metadata": {},
   "outputs": [],
   "source": [
    "importances = mod_opt_RF.feature_importances_\n",
    "feature_names = X_train_used.columns\n",
    "sorted_idx = importances.argsort()[::-1][0:10]\n",
    "\n",
    "\n",
    "\n",
    "plt.barh(feature_names[sorted_idx], importances[sorted_idx])\n",
    "plt.xlabel(\"Random Forest Feature Importance\")\n"
   ]
  },
  {
   "cell_type": "markdown",
   "metadata": {},
   "source": [
    "## Retrain the model on all data"
   ]
  },
  {
   "cell_type": "code",
   "execution_count": 79,
   "metadata": {},
   "outputs": [],
   "source": [
    "X_used = X[X_test_used.columns.to_list() + ['is_test', 'ice_jam']  ]\n",
    "all_train = X_used[(X_used['is_test'] == False)].drop('ice_jam', axis = 1).reset_index(drop=True)\n",
    "X_val = X_used[(X_used['is_test'] == True)].drop('ice_jam', axis = 1).reset_index(drop=True)\n",
    "all_y_train =  X_used.loc[(X_used['is_test'] == False),'ice_jam']\n",
    "unused_features = ['year', 'is_test']\n",
    "mod_opt= model.fit(all_train, all_y_train)\n"
   ]
  },
  {
   "cell_type": "code",
   "execution_count": 80,
   "metadata": {},
   "outputs": [
    {
     "data": {
      "text/plain": [
       "(3906, 98)"
      ]
     },
     "execution_count": 80,
     "metadata": {},
     "output_type": "execute_result"
    }
   ],
   "source": [
    "X_val.shape"
   ]
  },
  {
   "cell_type": "code",
   "execution_count": 81,
   "metadata": {},
   "outputs": [],
   "source": [
    "X_val['ice_jam'] = mod_opt.predict(X_val)"
   ]
  },
  {
   "cell_type": "code",
   "execution_count": 82,
   "metadata": {},
   "outputs": [],
   "source": [
    "now = datetime.now()\n",
    "X_val[['year', 'station_id', 'day', 'ice_jam']].\\\n",
    "    to_csv(sumbit_dir + 'submit-rf' + now.strftime(\"%m-%d-%Y-%H-%M\") + '.csv', index=False)"
   ]
  },
  {
   "cell_type": "markdown",
   "metadata": {},
   "source": [
    "### submit"
   ]
  },
  {
   "cell_type": "code",
   "execution_count": null,
   "metadata": {},
   "outputs": [],
   "source": [
    "X.to_csv(preprocessed_dir + 'X-' + now.strftime(\"%m-%d-%Y-%H-%M\") + '.csv', index=False)"
   ]
  },
  {
   "cell_type": "markdown",
   "metadata": {},
   "source": [
    "# XGBoost"
   ]
  },
  {
   "cell_type": "code",
   "execution_count": null,
   "metadata": {},
   "outputs": [],
   "source": [
    "X_train.shape"
   ]
  },
  {
   "cell_type": "code",
   "execution_count": null,
   "metadata": {},
   "outputs": [],
   "source": [
    "model = XGBClassifier(scale_pos_weight = 50, n_estimators = 500, random_state=0)\n",
    "eval_set =[(X_test.drop(unused_features, axis = 1), y_test)]\n",
    "model.fit(X_train.drop(unused_features, axis = 1),  \n",
    "                     y_train, early_stopping_rounds = 10, \n",
    "                      eval_metric=\"auc\",\n",
    "                     eval_set=eval_set , verbose=True)   \n",
    "\n",
    "y_pred = model.predict(X_test.drop(unused_features, axis = 1))\n",
    "y_train_pred = model.predict(X_train.drop(unused_features, axis = 1))\n",
    "\n",
    "print('F1-train: {}'.format(f1_score(y_train, y_train_pred)))\n",
    "print('F1-test: {}'.format(f1_score(y_test, y_pred)))"
   ]
  },
  {
   "cell_type": "code",
   "execution_count": 91,
   "metadata": {},
   "outputs": [
    {
     "data": {
      "text/plain": [
       "Text(0.5, 0, 'Random Forest Feature Importance')"
      ]
     },
     "execution_count": 91,
     "metadata": {},
     "output_type": "execute_result"
    },
    {
     "data": {
      "image/png": "[encoded data removed]",
      "text/plain": [
       "<Figure size 432x288 with 1 Axes>"
      ]
     },
     "metadata": {
      "needs_background": "light"
     },
     "output_type": "display_data"
    }
   ],
   "source": [
    "importances = model.feature_importances_\n",
    "feature_names = X_train_used.columns\n",
    "sorted_idx = importances.argsort()[-20:]\n",
    "\n",
    "\n",
    "plt.barh(feature_names[sorted_idx], importances[sorted_idx])\n",
    "plt.xlabel(\"Random Forest Feature Importance\")\n"
   ]
  },
  {
   "cell_type": "code",
   "execution_count": 93,
   "metadata": {},
   "outputs": [],
   "source": [
    "pickle.dump(model, open(sumbit_dir + 'submit-rf' + now.strftime(\"%m-%d-%Y-%H-%M\") + '.pkl', 'wb'))"
   ]
  },
  {
   "cell_type": "code",
   "execution_count": null,
   "metadata": {},
   "outputs": [],
   "source": [
    "search_grid_xgb = {'max_depth': [2, 3, 4, 5, 6],\n",
    "                  'max_features': [3, 4, 5, 6],\n",
    "                  'n_estimators': [100, 150, 500],\n",
    "                  'random_state': [29]\n",
    "                  }\n",
    "\n",
    "\n",
    "\n",
    "param_search_xgb = GridSearchCV(estimator=model, \n",
    "                               param_grid=search_grid_xgb, \n",
    "                               scoring=metrics.make_scorer(metrics.f1_score),\n",
    "                               cv=3, \n",
    "                               n_jobs=-1, \n",
    "                               verbose=2, return_train_score=True,\n",
    "                               iid=True)\n",
    "param_search_xgb.fit(X_train_used, \n",
    "                     y_train, early_stopping_rounds=10, \n",
    "                     eval_set=[(X_test_used, y_test)] , verbose=True)        \n",
    "\n",
    "print(param_search_xgb.best_params_)\n",
    "mod_opt_xgb = XGBClassifier(**param_search_xgb.best_params_)\n",
    "mod_opt_xgb = mod_opt_xgb.fit(X_train_used, y_train)\n",
    "\n",
    "y_pred = mod_opt_xgb.predict(X_test_used)\n",
    "y_train_pred = mod_opt_xgb.predict(X_train_used)\n",
    "\n",
    "threshold_RF = 0.3\n",
    "print('F1-train: {}'.format(f1_score(y_train, y_train_pred)))\n",
    "print('F1-test: {}'.format(f1_score(y_test, y_pred)))"
   ]
  }
 ],
 "metadata": {
  "kernelspec": {
   "display_name": "Python 3",
   "language": "python",
   "name": "python3"
  },
  "language_info": {
   "codemirror_mode": {
    "name": "ipython",
    "version": 3
   },
   "file_extension": ".py",
   "mimetype": "text/x-python",
   "name": "python",
   "nbconvert_exporter": "python",
   "pygments_lexer": "ipython3",
   "version": "3.7.4"
  }
 },
 "nbformat": 4,
 "nbformat_minor": 4
}
