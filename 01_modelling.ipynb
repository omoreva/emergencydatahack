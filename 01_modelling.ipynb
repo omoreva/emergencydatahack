{
 "cells": [
  {
   "cell_type": "code",
   "execution_count": 1,
   "metadata": {},
   "outputs": [
    {
     "name": "stderr",
     "output_type": "stream",
     "text": [
      "C:\\Users\\omore\\Anaconda3\\lib\\site-packages\\dask\\dataframe\\utils.py:14: FutureWarning: pandas.util.testing is deprecated. Use the functions in the public API at pandas.testing instead.\n",
      "  import pandas.util.testing as tm\n"
     ]
    }
   ],
   "source": [
    "import pandas as pd\n",
    "import numpy as np\n",
    "from sklearn.model_selection import train_test_split\n",
    "from sklearn.ensemble import RandomForestClassifier\n",
    "from sklearn.metrics import accuracy_score, recall_score, precision_score, f1_score, roc_auc_score\n",
    "import os\n",
    "from sklearn.metrics import f1_score\n",
    "pd.options.display.max_columns = None\n",
    "import matplotlib.pyplot as plt\n",
    "from sklearn.model_selection import GridSearchCV, TimeSeriesSplit\n",
    "from sklearn import metrics\n",
    "from sklearn.metrics import plot_confusion_matrix\n",
    "from datetime import datetime\n",
    "from xgboost import XGBClassifier\n",
    "from numpy import inf\n",
    "import pickle"
   ]
  },
  {
   "cell_type": "code",
   "execution_count": 2,
   "metadata": {},
   "outputs": [
    {
     "name": "stderr",
     "output_type": "stream",
     "text": [
      "C:\\Users\\omore\\Anaconda3\\lib\\site-packages\\IPython\\core\\interactiveshell.py:3058: DtypeWarning: Columns (45,65,122,142,199,430,604,661,681) have mixed types.Specify dtype option on import or set low_memory=False.\n",
      "  interactivity=interactivity, compiler=compiler, result=result)\n",
      "C:\\Users\\omore\\Anaconda3\\lib\\site-packages\\IPython\\core\\interactiveshell.py:3058: DtypeWarning: Columns (45,65,122,142,199,276,604,661,681) have mixed types.Specify dtype option on import or set low_memory=False.\n",
      "  interactivity=interactivity, compiler=compiler, result=result)\n",
      "C:\\Users\\omore\\Anaconda3\\lib\\site-packages\\IPython\\core\\interactiveshell.py:3058: DtypeWarning: Columns (46,66,123,143,200,277,431,605,662,682) have mixed types.Specify dtype option on import or set low_memory=False.\n",
      "  interactivity=interactivity, compiler=compiler, result=result)\n"
     ]
    }
   ],
   "source": [
    "# Путь к директории с данными\n",
    "\n",
    "data_dir = '../00_data/track_1/'\n",
    "sumbit_dir = '../02_submits/'\n",
    "preprocessed_dir = '../03_preprocessed_data/'\n",
    "\n",
    "X_train = pd.read_csv(preprocessed_dir + 'X_train.csv')\n",
    "X_test = pd.read_csv(preprocessed_dir + 'X_test.csv')\n",
    "y_train = pd.read_csv(preprocessed_dir + 'y_train.csv')\n",
    "y_test  = pd.read_csv(preprocessed_dir + 'y_test.csv')\n",
    "X = pd.read_csv(preprocessed_dir + 'X.csv')\n",
    "unused_features = [ 'is_test']\n",
    "cat_col = [x for x in X_train.columns if 'code'  in x]\n",
    "unused_features = unused_features + cat_col\n",
    "use_for_train = ['year', 'station_id', 'day', 'ice_jam_same_day_last_year',\n",
    "       'ice_jam_same_day_last_year_prev_stat', 'ice_jam_same_day_prelast_year',\n",
    "       'is_prelast_year_missing', 'n_jams_last_year',\n",
    "       'n_jams_prelast_year', 'n_jams_last_year_prev_station', 'n_jams_past',\n",
    "       'n_jams_past_prev_stat', 'n_same_days_before',\n",
    "       'n_ice_jams_same_days_before', 'n_ice_jams_same_days_before_ratio', 'station_width']\n",
    "#\n",
    "use_for_train = ['year', 'station_id', 'day', \n",
    "       'ice_jam_same_day_last_year', \n",
    "       'ice_jam_same_day_prelast_year', \n",
    "                 'is_last_year_missing',\n",
    "       'is_prelast_year_missing', \n",
    "                 'n_jams_last_year',\n",
    "                 'n_jams_prelast_year',\n",
    "       'n_jams_past',  'n_ice_jams_same_days_before',\n",
    "       'n_ice_jams_same_days_before_ratio',\n",
    "       'distance_from_source', 'drainage_area', 'z_null', \n",
    "       'height_diff_by_dist']\n"
   ]
  },
  {
   "cell_type": "markdown",
   "metadata": {},
   "source": [
    "from sklearn.feature_selection import SelectKBest\n",
    "N_features = 50\n",
    "unused_features = unused_features + cat_col\n",
    "feature_selector = SelectKBest(k = N_features)\n",
    "features = X_train.drop(unused_features, axis = 1).columns\n",
    "feature_selector = feature_selector.fit(X_train.drop(unused_features, axis = 1), y_train)\n",
    "#X_train_new = .fit_transform(X_train.drop(unused_features, axis = 1), y_train)\n",
    "#X_train_new.shape\n",
    "use_for_train = features[feature_selector.get_support()]\n",
    "use_for_train"
   ]
  },
  {
   "cell_type": "code",
   "execution_count": 3,
   "metadata": {},
   "outputs": [],
   "source": [
    "use_for_train = use_for_train + \\\n",
    "    [x for x in X_train.columns if 'stage_max'  in x] + \\\n",
    "    [x for x in X_train.columns if 'air'  in x] + \\\n",
    "    [x for x in X_train.columns if 'inc'  in x] \n",
    "use_for_train = list(set(use_for_train))"
   ]
  },
  {
   "cell_type": "code",
   "execution_count": 4,
   "metadata": {},
   "outputs": [
    {
     "data": {
      "text/plain": [
       "308"
      ]
     },
     "execution_count": 4,
     "metadata": {},
     "output_type": "execute_result"
    }
   ],
   "source": [
    "drop_summer = [x for x in X_train.columns if '6_'  in x] + \\\n",
    "    [x for x in X_train.columns if '7_'  in x] + \\\n",
    "    [x for x in X_train.columns if '8_'  in x]+ \\\n",
    "    [x for x in X_train.columns if '9_'  in x]\n",
    "\n",
    "len(drop_summer)"
   ]
  },
  {
   "cell_type": "code",
   "execution_count": 5,
   "metadata": {},
   "outputs": [
    {
     "data": {
      "text/plain": [
       "97"
      ]
     },
     "execution_count": 5,
     "metadata": {},
     "output_type": "execute_result"
    }
   ],
   "source": [
    "#use_for_train = [x for x in X_train.columns if x not in (unused_features + ['ice_jam'] + drop_summer )]\n",
    "len(use_for_train)"
   ]
  },
  {
   "cell_type": "code",
   "execution_count": 6,
   "metadata": {},
   "outputs": [
    {
     "data": {
      "text/plain": [
       "['9_min_air',\n",
       " '9_max_stage_max',\n",
       " '11_mean_stage_max',\n",
       " '7_mean_stage_max',\n",
       " '9_max_air',\n",
       " '1_std_stage_max',\n",
       " '9_std_air',\n",
       " '12_max_stage_max',\n",
       " '2_std_stage_max',\n",
       " '12_std_stage_max',\n",
       " '11_std_air',\n",
       " '12_mean_stage_max',\n",
       " 'n_jams_past',\n",
       " 'is_prelast_year_missing',\n",
       " 'year',\n",
       " '10_max_stage_max',\n",
       " '12_mean_air',\n",
       " '12_stage_inc_monthly',\n",
       " '10_max_air',\n",
       " '11_std_stage_max',\n",
       " '2_min_stage_max',\n",
       " 'ice_jam_same_day_last_year',\n",
       " '1_min_air',\n",
       " '8_std_air',\n",
       " '11_stage_inc_monthly',\n",
       " '6_min_stage_max',\n",
       " 'drainage_area',\n",
       " '6_std_stage_max',\n",
       " '6_mean_stage_max',\n",
       " 'n_ice_jams_same_days_before',\n",
       " '8_min_stage_max',\n",
       " '7_min_stage_max',\n",
       " '7_mean_air',\n",
       " 'station_id',\n",
       " '6_min_air',\n",
       " '1_mean_stage_max',\n",
       " '2_mean_air',\n",
       " '1_min_stage_max',\n",
       " '8_stage_inc_monthly',\n",
       " '10_mean_air',\n",
       " '11_min_air',\n",
       " 'n_jams_prelast_year',\n",
       " '2_std_air',\n",
       " '6_mean_air',\n",
       " '6_std_air',\n",
       " '12_min_stage_max',\n",
       " '9_stage_inc_monthly',\n",
       " '7_min_air',\n",
       " 'n_jams_last_year',\n",
       " '10_min_air',\n",
       " '7_max_stage_max',\n",
       " '9_mean_air',\n",
       " '8_mean_air',\n",
       " '11_mean_air',\n",
       " '9_std_stage_max',\n",
       " '12_max_air',\n",
       " '8_max_stage_max',\n",
       " 'ice_jam_same_day_prelast_year',\n",
       " '8_mean_stage_max',\n",
       " '2_max_air',\n",
       " '8_min_air',\n",
       " '6_stage_inc_monthly',\n",
       " '10_std_air',\n",
       " '7_std_air',\n",
       " '7_stage_inc_monthly',\n",
       " 'n_ice_jams_same_days_before_ratio',\n",
       " '1_mean_air',\n",
       " '10_min_stage_max',\n",
       " '10_mean_stage_max',\n",
       " 'day',\n",
       " 'height_diff_by_dist',\n",
       " 'is_last_year_missing',\n",
       " '9_mean_stage_max',\n",
       " '12_min_air',\n",
       " '9_min_stage_max',\n",
       " 'z_null',\n",
       " '11_max_air',\n",
       " 'distance_from_source',\n",
       " '1_max_stage_max',\n",
       " '2_mean_stage_max',\n",
       " '2_max_stage_max',\n",
       " '12_std_air',\n",
       " '8_std_stage_max',\n",
       " '10_std_stage_max',\n",
       " '1_max_air',\n",
       " '7_std_stage_max',\n",
       " '7_max_air',\n",
       " '11_min_stage_max',\n",
       " '1_stage_inc_monthly',\n",
       " '10_stage_inc_monthly',\n",
       " '6_max_air',\n",
       " '2_min_air',\n",
       " '6_max_stage_max',\n",
       " '11_max_stage_max',\n",
       " '2_stage_inc_monthly',\n",
       " '1_std_air',\n",
       " '8_max_air']"
      ]
     },
     "execution_count": 6,
     "metadata": {},
     "output_type": "execute_result"
    }
   ],
   "source": [
    "use_for_train"
   ]
  },
  {
   "cell_type": "code",
   "execution_count": 9,
   "metadata": {},
   "outputs": [],
   "source": [
    "X_train_used = X_train[use_for_train]\n",
    "# X_train_used = X_train[[use_for_train]].drop(unused_features, axis = 1)\n",
    "X_test_used  = X_test[use_for_train]"
   ]
  },
  {
   "cell_type": "markdown",
   "metadata": {},
   "source": [
    "# XGBoost"
   ]
  },
  {
   "cell_type": "code",
   "execution_count": 11,
   "metadata": {},
   "outputs": [
    {
     "name": "stdout",
     "output_type": "stream",
     "text": [
      "[0]\tvalidation_0-error:0.16935\n",
      "Will train until validation_0-error hasn't improved in 2 rounds.\n",
      "[1]\tvalidation_0-error:0.10006\n",
      "[2]\tvalidation_0-error:0.10255\n",
      "[3]\tvalidation_0-error:0.08481\n",
      "[4]\tvalidation_0-error:0.09867\n",
      "[5]\tvalidation_0-error:0.07650\n",
      "[6]\tvalidation_0-error:0.06901\n",
      "[7]\tvalidation_0-error:0.05405\n",
      "[8]\tvalidation_0-error:0.05405\n",
      "[9]\tvalidation_0-error:0.05432\n",
      "Stopping. Best iteration:\n",
      "[7]\tvalidation_0-error:0.05405\n",
      "\n",
      "F1-train: 0.2512396694214876\n",
      "F1-test: 0.05797101449275362\n"
     ]
    },
    {
     "data": {
      "text/plain": [
       "Text(0.5, 0, 'Random Forest Feature Importance')"
      ]
     },
     "execution_count": 11,
     "metadata": {},
     "output_type": "execute_result"
    },
    {
     "data": {
      "image/png": "[encoded data removed]",
      "text/plain": [
       "<Figure size 432x288 with 1 Axes>"
      ]
     },
     "metadata": {
      "needs_background": "light"
     },
     "output_type": "display_data"
    }
   ],
   "source": [
    "model = XGBClassifier(scale_pos_weight = 50, n_estimators = 500, random_state=0)\n",
    "eval_set =[(X_test_used, y_test)]\n",
    "model.fit(X_train_used, y_train, early_stopping_rounds = 2, \n",
    "                      eval_metric=\"error\",\n",
    "                     eval_set=eval_set , verbose=True)   \n",
    "\n",
    "y_pred = model.predict(X_test_used)\n",
    "y_train_pred = model.predict(X_train_used)\n",
    "\n",
    "print('F1-train: {}'.format(f1_score(y_train, y_train_pred)))\n",
    "print('F1-test: {}'.format(f1_score(y_test, y_pred)))\n",
    "\n",
    "importances = model.feature_importances_\n",
    "feature_names = X_train_used.columns\n",
    "sorted_idx = importances.argsort()[-20:]\n",
    "\n",
    "\n",
    "plt.barh(feature_names[sorted_idx], importances[sorted_idx])\n",
    "plt.xlabel(\"Random Forest Feature Importance\")\n"
   ]
  },
  {
   "cell_type": "code",
   "execution_count": null,
   "metadata": {},
   "outputs": [],
   "source": [
    "X_used = X[X_test_used.columns.to_list() + ['is_test', 'ice_jam']  ]\n",
    "all_train = X_used[(X_used['is_test'] == False)].drop('ice_jam', axis = 1).reset_index(drop=True)\n",
    "X_val = X_used[(X_used['is_test'] == True)].drop('ice_jam', axis = 1).reset_index(drop=True)\n",
    "all_y_train =  X_used.loc[(X_used['is_test'] == False),'ice_jam']\n",
    "unused_features = ['year', 'is_test']\n",
    "mod_opt= model.fit(all_train, all_y_train)\n",
    "X_val['ice_jam'] = mod_opt.predict(X_val)\n",
    "now = datetime.now()\n",
    "X_val[['year', 'station_id', 'day', 'ice_jam']].\\\n",
    "    to_csv(sumbit_dir + 'submit-rf' + now.strftime(\"%m-%d-%Y-%H-%M\") + '.csv', index=False)"
   ]
  },
  {
   "cell_type": "markdown",
   "metadata": {},
   "source": [
    "# Random Forest"
   ]
  },
  {
   "cell_type": "code",
   "execution_count": null,
   "metadata": {},
   "outputs": [],
   "source": [
    "X_train_used = X_train[use_for_train]\n",
    "# X_train_used = X_train[[use_for_train]].drop(unused_features, axis = 1)\n",
    "X_test_used  = X_test[use_for_train]\n",
    "# X_test_used = X_test[[use_for_train]].drop(unused_features, axis = 1)\n",
    "\n",
    "mod_RF = RandomForestClassifier(class_weight = 'balanced')\n",
    "mod_RF.fit(X_train_used, y_train)        \n",
    "\n",
    "y_pred = mod_RF.predict(X_test_used)\n",
    "y_train_pred = mod_RF.predict(X_train_used)\n",
    "\n",
    "print('F1-train: {}'.format(f1_score(y_train, y_train_pred)))\n",
    "print('F1-test: {}'.format(f1_score(y_test, y_pred)))"
   ]
  },
  {
   "cell_type": "code",
   "execution_count": null,
   "metadata": {},
   "outputs": [],
   "source": [
    "from sklearn.linear_model import LogisticRegression\n",
    "\n",
    "mod_logreg = LogisticRegression(class_weight = 'balanced', max_iter= 10000)\n",
    "mod_logreg.fit(X_train_used, y_train)        \n",
    "\n",
    "y_pred = mod_logreg.predict(X_test_used)\n",
    "y_train_pred = mod_logreg.predict(X_train_used)\n",
    "\n",
    "print('F1-train: {}'.format(f1_score(y_train, y_train_pred)))\n",
    "print('F1-test: {}'.format(f1_score(y_test, y_pred)))"
   ]
  },
  {
   "cell_type": "code",
   "execution_count": null,
   "metadata": {},
   "outputs": [],
   "source": [
    "model = XGBClassifier(scale_pos_weight = 50, n_estimators = 500, random_state=0)\n",
    "eval_set =[(X_test_used, y_test)]\n",
    "model.fit(X_train_used, y_train, early_stopping_rounds = 2, \n",
    "                      eval_metric=\"error\",\n",
    "                     eval_set=eval_set , verbose=True)   \n",
    "\n",
    "y_pred = model.predict(X_test_used)\n",
    "y_train_pred = model.predict(X_train_used)\n",
    "\n",
    "print('F1-train: {}'.format(f1_score(y_train, y_train_pred)))\n",
    "print('F1-test: {}'.format(f1_score(y_test, y_pred)))"
   ]
  },
  {
   "cell_type": "code",
   "execution_count": null,
   "metadata": {},
   "outputs": [],
   "source": [
    "importances = mod_RF.feature_importances_\n",
    "feature_names = X_train_used.columns\n",
    "sorted_idx = importances.argsort()[::-1]\n",
    "\n",
    "\n",
    "plt.barh(feature_names[sorted_idx][0:10], importances[sorted_idx][0:10])\n",
    "plt.xlabel(\"Random Forest Feature Importance\")\n"
   ]
  },
  {
   "cell_type": "code",
   "execution_count": null,
   "metadata": {},
   "outputs": [],
   "source": [
    "mod_RF = RandomForestClassifier() # or GradientBoostingClassifier, or XGBoostClassifier\n",
    "\n",
    "search_grid_RF = {'bootstrap': [True],\n",
    "                  'max_depth': [2, 3, 4, 5, 6],\n",
    "                  'max_features': [3, 4, 5, 6],\n",
    "                  'n_estimators': [5, 10, 20, 50],\n",
    "                  'min_samples_leaf': [10, 25, 50],\n",
    "                  'min_samples_split': [25, 50],\n",
    "                  'random_state': [29],\n",
    "                  'class_weight': ['balanced']\n",
    "                  }\n",
    "\n",
    "param_search_RF = GridSearchCV(estimator=mod_RF, \n",
    "                               param_grid=search_grid_RF, \n",
    "                               scoring=metrics.make_scorer(metrics.f1_score),\n",
    "                               cv=3, \n",
    "                               n_jobs=-1, \n",
    "                               verbose=2, return_train_score=True,\n",
    "                               iid=True)\n",
    "\n",
    "#param_search_RF.fit(X_train[[use_for_train]].drop(unused_features, axis = 1), y_train)        \n",
    "param_search_RF.fit(X_train_used, y_train)        \n",
    "\n",
    "print(param_search_RF.best_params_)\n",
    "\n",
    "mod_opt_RF = RandomForestClassifier(**param_search_RF.best_params_)\n",
    "mod_opt_RF = mod_opt_RF.fit(X_train_used, y_train)\n",
    "\n",
    "y_pred = mod_opt_RF.predict(X_test_used)\n",
    "y_train_pred = mod_opt_RF.predict(X_train_used)\n",
    "\n",
    "threshold_RF = 0.3\n",
    "print('F1-train: {}'.format(f1_score(y_train, y_train_pred)))\n",
    "print('F1-test: {}'.format(f1_score(y_test, y_pred)))"
   ]
  },
  {
   "cell_type": "code",
   "execution_count": null,
   "metadata": {},
   "outputs": [],
   "source": [
    "plot_confusion_matrix(mod_opt_RF, X_test_used, y_test)"
   ]
  },
  {
   "cell_type": "code",
   "execution_count": null,
   "metadata": {},
   "outputs": [],
   "source": [
    "plot_confusion_matrix(mod_opt_RF, X_train_used, y_train)"
   ]
  },
  {
   "cell_type": "code",
   "execution_count": null,
   "metadata": {},
   "outputs": [],
   "source": [
    "importances = mod_opt_RF.feature_importances_\n",
    "feature_names = X_train_used.columns\n",
    "sorted_idx = importances.argsort()[::-1][0:10]\n",
    "\n",
    "\n",
    "\n",
    "plt.barh(feature_names[sorted_idx], importances[sorted_idx])\n",
    "plt.xlabel(\"Random Forest Feature Importance\")\n"
   ]
  },
  {
   "cell_type": "markdown",
   "metadata": {},
   "source": [
    "## Retrain the model on all data"
   ]
  },
  {
   "cell_type": "code",
   "execution_count": 12,
   "metadata": {},
   "outputs": [
    {
     "ename": "KeyboardInterrupt",
     "evalue": "",
     "output_type": "error",
     "traceback": [
      "\u001b[1;31m---------------------------------------------------------------------------\u001b[0m",
      "\u001b[1;31mKeyboardInterrupt\u001b[0m                         Traceback (most recent call last)",
      "\u001b[1;32m<ipython-input-12-2293ce880b6c>\u001b[0m in \u001b[0;36m<module>\u001b[1;34m\u001b[0m\n\u001b[0;32m      4\u001b[0m \u001b[0mall_y_train\u001b[0m \u001b[1;33m=\u001b[0m  \u001b[0mX_used\u001b[0m\u001b[1;33m.\u001b[0m\u001b[0mloc\u001b[0m\u001b[1;33m[\u001b[0m\u001b[1;33m(\u001b[0m\u001b[0mX_used\u001b[0m\u001b[1;33m[\u001b[0m\u001b[1;34m'is_test'\u001b[0m\u001b[1;33m]\u001b[0m \u001b[1;33m==\u001b[0m \u001b[1;32mFalse\u001b[0m\u001b[1;33m)\u001b[0m\u001b[1;33m,\u001b[0m\u001b[1;34m'ice_jam'\u001b[0m\u001b[1;33m]\u001b[0m\u001b[1;33m\u001b[0m\u001b[1;33m\u001b[0m\u001b[0m\n\u001b[0;32m      5\u001b[0m \u001b[0munused_features\u001b[0m \u001b[1;33m=\u001b[0m \u001b[1;33m[\u001b[0m\u001b[1;34m'year'\u001b[0m\u001b[1;33m,\u001b[0m \u001b[1;34m'is_test'\u001b[0m\u001b[1;33m]\u001b[0m\u001b[1;33m\u001b[0m\u001b[1;33m\u001b[0m\u001b[0m\n\u001b[1;32m----> 6\u001b[1;33m \u001b[0mmod_opt\u001b[0m\u001b[1;33m=\u001b[0m \u001b[0mmodel\u001b[0m\u001b[1;33m.\u001b[0m\u001b[0mfit\u001b[0m\u001b[1;33m(\u001b[0m\u001b[0mall_train\u001b[0m\u001b[1;33m,\u001b[0m \u001b[0mall_y_train\u001b[0m\u001b[1;33m)\u001b[0m\u001b[1;33m\u001b[0m\u001b[1;33m\u001b[0m\u001b[0m\n\u001b[0m",
      "\u001b[1;32m~\\Anaconda3\\lib\\site-packages\\xgboost\\sklearn.py\u001b[0m in \u001b[0;36mfit\u001b[1;34m(self, X, y, sample_weight, base_margin, eval_set, eval_metric, early_stopping_rounds, verbose, xgb_model, sample_weight_eval_set, callbacks)\u001b[0m\n\u001b[0;32m    821\u001b[0m                               \u001b[0mevals_result\u001b[0m\u001b[1;33m=\u001b[0m\u001b[0mevals_result\u001b[0m\u001b[1;33m,\u001b[0m \u001b[0mobj\u001b[0m\u001b[1;33m=\u001b[0m\u001b[0mobj\u001b[0m\u001b[1;33m,\u001b[0m \u001b[0mfeval\u001b[0m\u001b[1;33m=\u001b[0m\u001b[0mfeval\u001b[0m\u001b[1;33m,\u001b[0m\u001b[1;33m\u001b[0m\u001b[1;33m\u001b[0m\u001b[0m\n\u001b[0;32m    822\u001b[0m                               \u001b[0mverbose_eval\u001b[0m\u001b[1;33m=\u001b[0m\u001b[0mverbose\u001b[0m\u001b[1;33m,\u001b[0m \u001b[0mxgb_model\u001b[0m\u001b[1;33m=\u001b[0m\u001b[0mxgb_model\u001b[0m\u001b[1;33m,\u001b[0m\u001b[1;33m\u001b[0m\u001b[1;33m\u001b[0m\u001b[0m\n\u001b[1;32m--> 823\u001b[1;33m                               callbacks=callbacks)\n\u001b[0m\u001b[0;32m    824\u001b[0m \u001b[1;33m\u001b[0m\u001b[0m\n\u001b[0;32m    825\u001b[0m         \u001b[0mself\u001b[0m\u001b[1;33m.\u001b[0m\u001b[0mobjective\u001b[0m \u001b[1;33m=\u001b[0m \u001b[0mxgb_options\u001b[0m\u001b[1;33m[\u001b[0m\u001b[1;34m\"objective\"\u001b[0m\u001b[1;33m]\u001b[0m\u001b[1;33m\u001b[0m\u001b[1;33m\u001b[0m\u001b[0m\n",
      "\u001b[1;32m~\\Anaconda3\\lib\\site-packages\\xgboost\\training.py\u001b[0m in \u001b[0;36mtrain\u001b[1;34m(params, dtrain, num_boost_round, evals, obj, feval, maximize, early_stopping_rounds, evals_result, verbose_eval, xgb_model, callbacks)\u001b[0m\n\u001b[0;32m    207\u001b[0m                            \u001b[0mevals\u001b[0m\u001b[1;33m=\u001b[0m\u001b[0mevals\u001b[0m\u001b[1;33m,\u001b[0m\u001b[1;33m\u001b[0m\u001b[1;33m\u001b[0m\u001b[0m\n\u001b[0;32m    208\u001b[0m                            \u001b[0mobj\u001b[0m\u001b[1;33m=\u001b[0m\u001b[0mobj\u001b[0m\u001b[1;33m,\u001b[0m \u001b[0mfeval\u001b[0m\u001b[1;33m=\u001b[0m\u001b[0mfeval\u001b[0m\u001b[1;33m,\u001b[0m\u001b[1;33m\u001b[0m\u001b[1;33m\u001b[0m\u001b[0m\n\u001b[1;32m--> 209\u001b[1;33m                            xgb_model=xgb_model, callbacks=callbacks)\n\u001b[0m\u001b[0;32m    210\u001b[0m \u001b[1;33m\u001b[0m\u001b[0m\n\u001b[0;32m    211\u001b[0m \u001b[1;33m\u001b[0m\u001b[0m\n",
      "\u001b[1;32m~\\Anaconda3\\lib\\site-packages\\xgboost\\training.py\u001b[0m in \u001b[0;36m_train_internal\u001b[1;34m(params, dtrain, num_boost_round, evals, obj, feval, xgb_model, callbacks)\u001b[0m\n\u001b[0;32m     72\u001b[0m         \u001b[1;31m# Skip the first update if it is a recovery step.\u001b[0m\u001b[1;33m\u001b[0m\u001b[1;33m\u001b[0m\u001b[1;33m\u001b[0m\u001b[0m\n\u001b[0;32m     73\u001b[0m         \u001b[1;32mif\u001b[0m \u001b[0mversion\u001b[0m \u001b[1;33m%\u001b[0m \u001b[1;36m2\u001b[0m \u001b[1;33m==\u001b[0m \u001b[1;36m0\u001b[0m\u001b[1;33m:\u001b[0m\u001b[1;33m\u001b[0m\u001b[1;33m\u001b[0m\u001b[0m\n\u001b[1;32m---> 74\u001b[1;33m             \u001b[0mbst\u001b[0m\u001b[1;33m.\u001b[0m\u001b[0mupdate\u001b[0m\u001b[1;33m(\u001b[0m\u001b[0mdtrain\u001b[0m\u001b[1;33m,\u001b[0m \u001b[0mi\u001b[0m\u001b[1;33m,\u001b[0m \u001b[0mobj\u001b[0m\u001b[1;33m)\u001b[0m\u001b[1;33m\u001b[0m\u001b[1;33m\u001b[0m\u001b[0m\n\u001b[0m\u001b[0;32m     75\u001b[0m             \u001b[0mbst\u001b[0m\u001b[1;33m.\u001b[0m\u001b[0msave_rabit_checkpoint\u001b[0m\u001b[1;33m(\u001b[0m\u001b[1;33m)\u001b[0m\u001b[1;33m\u001b[0m\u001b[1;33m\u001b[0m\u001b[0m\n\u001b[0;32m     76\u001b[0m             \u001b[0mversion\u001b[0m \u001b[1;33m+=\u001b[0m \u001b[1;36m1\u001b[0m\u001b[1;33m\u001b[0m\u001b[1;33m\u001b[0m\u001b[0m\n",
      "\u001b[1;32m~\\Anaconda3\\lib\\site-packages\\xgboost\\core.py\u001b[0m in \u001b[0;36mupdate\u001b[1;34m(self, dtrain, iteration, fobj)\u001b[0m\n\u001b[0;32m   1247\u001b[0m             _check_call(_LIB.XGBoosterUpdateOneIter(self.handle,\n\u001b[0;32m   1248\u001b[0m                                                     \u001b[0mctypes\u001b[0m\u001b[1;33m.\u001b[0m\u001b[0mc_int\u001b[0m\u001b[1;33m(\u001b[0m\u001b[0miteration\u001b[0m\u001b[1;33m)\u001b[0m\u001b[1;33m,\u001b[0m\u001b[1;33m\u001b[0m\u001b[1;33m\u001b[0m\u001b[0m\n\u001b[1;32m-> 1249\u001b[1;33m                                                     dtrain.handle))\n\u001b[0m\u001b[0;32m   1250\u001b[0m         \u001b[1;32melse\u001b[0m\u001b[1;33m:\u001b[0m\u001b[1;33m\u001b[0m\u001b[1;33m\u001b[0m\u001b[0m\n\u001b[0;32m   1251\u001b[0m             \u001b[0mpred\u001b[0m \u001b[1;33m=\u001b[0m \u001b[0mself\u001b[0m\u001b[1;33m.\u001b[0m\u001b[0mpredict\u001b[0m\u001b[1;33m(\u001b[0m\u001b[0mdtrain\u001b[0m\u001b[1;33m,\u001b[0m \u001b[0mtraining\u001b[0m\u001b[1;33m=\u001b[0m\u001b[1;32mTrue\u001b[0m\u001b[1;33m)\u001b[0m\u001b[1;33m\u001b[0m\u001b[1;33m\u001b[0m\u001b[0m\n",
      "\u001b[1;31mKeyboardInterrupt\u001b[0m: "
     ]
    }
   ],
   "source": []
  },
  {
   "cell_type": "code",
   "execution_count": null,
   "metadata": {},
   "outputs": [],
   "source": []
  },
  {
   "cell_type": "code",
   "execution_count": null,
   "metadata": {},
   "outputs": [],
   "source": []
  },
  {
   "cell_type": "markdown",
   "metadata": {},
   "source": [
    "### submit"
   ]
  },
  {
   "cell_type": "code",
   "execution_count": null,
   "metadata": {},
   "outputs": [],
   "source": [
    "X.to_csv(preprocessed_dir + 'X-' + now.strftime(\"%m-%d-%Y-%H-%M\") + '.csv', index=False)"
   ]
  },
  {
   "cell_type": "markdown",
   "metadata": {},
   "source": [
    "# XGBoost"
   ]
  },
  {
   "cell_type": "code",
   "execution_count": null,
   "metadata": {},
   "outputs": [],
   "source": [
    "X_train.shape"
   ]
  },
  {
   "cell_type": "code",
   "execution_count": null,
   "metadata": {},
   "outputs": [],
   "source": []
  },
  {
   "cell_type": "code",
   "execution_count": null,
   "metadata": {},
   "outputs": [],
   "source": []
  },
  {
   "cell_type": "code",
   "execution_count": null,
   "metadata": {},
   "outputs": [],
   "source": [
    "pickle.dump(model, open(sumbit_dir + 'submit-rf' + now.strftime(\"%m-%d-%Y-%H-%M\") + '.pkl', 'wb'))"
   ]
  },
  {
   "cell_type": "code",
   "execution_count": null,
   "metadata": {},
   "outputs": [],
   "source": [
    "search_grid_xgb = {'max_depth': [2, 3, 4, 5, 6],\n",
    "                  'max_features': [3, 4, 5, 6],\n",
    "                  'n_estimators': [100, 150, 500],\n",
    "                  'random_state': [29]\n",
    "                  }\n",
    "\n",
    "\n",
    "\n",
    "param_search_xgb = GridSearchCV(estimator=model, \n",
    "                               param_grid=search_grid_xgb, \n",
    "                               scoring=metrics.make_scorer(metrics.f1_score),\n",
    "                               cv=3, \n",
    "                               n_jobs=-1, \n",
    "                               verbose=2, return_train_score=True,\n",
    "                               iid=True)\n",
    "param_search_xgb.fit(X_train_used, \n",
    "                     y_train, early_stopping_rounds=10, \n",
    "                     eval_set=[(X_test_used, y_test)] , verbose=True)        \n",
    "\n",
    "print(param_search_xgb.best_params_)\n",
    "mod_opt_xgb = XGBClassifier(**param_search_xgb.best_params_)\n",
    "mod_opt_xgb = mod_opt_xgb.fit(X_train_used, y_train)\n",
    "\n",
    "y_pred = mod_opt_xgb.predict(X_test_used)\n",
    "y_train_pred = mod_opt_xgb.predict(X_train_used)\n",
    "\n",
    "threshold_RF = 0.3\n",
    "print('F1-train: {}'.format(f1_score(y_train, y_train_pred)))\n",
    "print('F1-test: {}'.format(f1_score(y_test, y_pred)))"
   ]
  }
 ],
 "metadata": {
  "kernelspec": {
   "display_name": "Python 3",
   "language": "python",
   "name": "python3"
  },
  "language_info": {
   "codemirror_mode": {
    "name": "ipython",
    "version": 3
   },
   "file_extension": ".py",
   "mimetype": "text/x-python",
   "name": "python",
   "nbconvert_exporter": "python",
   "pygments_lexer": "ipython3",
   "version": "3.7.4"
  }
 },
 "nbformat": 4,
 "nbformat_minor": 4
}
