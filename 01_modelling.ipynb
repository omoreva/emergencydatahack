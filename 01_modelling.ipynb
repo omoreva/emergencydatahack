{
 "cells": [
  {
   "cell_type": "code",
   "execution_count": 161,
   "metadata": {},
   "outputs": [],
   "source": [
    "import pandas as pd\n",
    "import numpy as np\n",
    "from sklearn.model_selection import train_test_split\n",
    "from sklearn.ensemble import RandomForestClassifier\n",
    "from sklearn.metrics import accuracy_score, recall_score, precision_score, f1_score, roc_auc_score\n",
    "import os\n",
    "from sklearn.metrics import f1_score\n",
    "pd.options.display.max_columns = None\n",
    "import matplotlib.pyplot as plt\n",
    "from sklearn.model_selection import GridSearchCV, TimeSeriesSplit\n",
    "from sklearn import metrics\n",
    "from sklearn.metrics import plot_confusion_matrix\n",
    "from datetime import datetime\n",
    "from xgboost import XGBClassifier"
   ]
  },
  {
   "cell_type": "code",
   "execution_count": 172,
   "metadata": {},
   "outputs": [
    {
     "name": "stderr",
     "output_type": "stream",
     "text": [
      "C:\\Users\\omore\\Anaconda3\\lib\\site-packages\\IPython\\core\\interactiveshell.py:3058: DtypeWarning: Columns (40,58,110,128,180,390,548,600,618) have mixed types.Specify dtype option on import or set low_memory=False.\n",
      "  interactivity=interactivity, compiler=compiler, result=result)\n",
      "C:\\Users\\omore\\Anaconda3\\lib\\site-packages\\IPython\\core\\interactiveshell.py:3058: DtypeWarning: Columns (40,58,110,128,180,250,548,600,618) have mixed types.Specify dtype option on import or set low_memory=False.\n",
      "  interactivity=interactivity, compiler=compiler, result=result)\n"
     ]
    }
   ],
   "source": [
    "# Путь к директории с данными\n",
    "\n",
    "data_dir = '../00_data/track_1/'\n",
    "sumbit_dir = '../02_submits/'\n",
    "preprocessed_dir = '../03_preprocessed_data/'\n",
    "\n",
    "X_train = pd.read_csv(preprocessed_dir + 'X_train.csv')\n",
    "X_test = pd.read_csv(preprocessed_dir + 'X_test.csv')\n",
    "y_train = pd.read_csv(preprocessed_dir + 'y_train.csv')\n",
    "y_test  = pd.read_csv(preprocessed_dir + 'y_test.csv')\n",
    "unused_features = [ 'is_test']\n",
    "cat_col = ['1_max_water_code', \n",
    "           '2_max_water_code',\n",
    "           '6_max_water_code',\n",
    "           '7_max_water_code',\n",
    "           '9_max_water_code',\n",
    "           '10_max_water_code',\n",
    "           '11_max_water_code',\n",
    "           '12_max_water_code',\n",
    "           '1_min_water_code',\n",
    "           '2_min_water_code',\n",
    "           '6_min_water_code',\n",
    "           '7_max_water_code',\n",
    "           '9_min_water_code',\n",
    "           '10_min_water_code',\n",
    "           '11_min_water_code',\n",
    "           '12_min_water_code'\n",
    "          ]\n",
    "unused_features = unused_features + cat_col"
   ]
  },
  {
   "cell_type": "markdown",
   "metadata": {},
   "source": [
    "# Random Forest"
   ]
  },
  {
   "cell_type": "code",
   "execution_count": 174,
   "metadata": {},
   "outputs": [
    {
     "name": "stderr",
     "output_type": "stream",
     "text": [
      "C:\\Users\\omore\\Anaconda3\\lib\\site-packages\\ipykernel_launcher.py:2: DataConversionWarning: A column-vector y was passed when a 1d array was expected. Please change the shape of y to (n_samples,), for example using ravel().\n",
      "  \n"
     ]
    },
    {
     "name": "stdout",
     "output_type": "stream",
     "text": [
      "F1-train: 1.0\n",
      "F1-test: 0.0\n"
     ]
    }
   ],
   "source": [
    "mod_RF = RandomForestClassifier(class_weight = 'balanced')\n",
    "mod_RF.fit(X_train.drop(unused_features, axis = 1), y_train)        \n",
    "\n",
    "y_pred = mod_RF.predict(X_test.drop(unused_features, axis = 1))\n",
    "y_train_pred = mod_RF.predict(X_train.drop(unused_features, axis = 1))\n",
    "\n",
    "print('F1-train: {}'.format(f1_score(y_train, y_train_pred)))\n",
    "print('F1-test: {}'.format(f1_score(y_test, y_pred)))"
   ]
  },
  {
   "cell_type": "code",
   "execution_count": 175,
   "metadata": {},
   "outputs": [
    {
     "data": {
      "text/plain": [
       "Text(0.5, 0, 'Random Forest Feature Importance')"
      ]
     },
     "execution_count": 175,
     "metadata": {},
     "output_type": "execute_result"
    },
    {
     "data": {
      "image/png": "[encoded data removed]",
      "text/plain": [
       "<Figure size 432x288 with 1 Axes>"
      ]
     },
     "metadata": {
      "needs_background": "light"
     },
     "output_type": "display_data"
    }
   ],
   "source": [
    "importances = mod_RF.feature_importances_\n",
    "feature_names = X_train.drop(unused_features, axis = 1).columns\n",
    "sorted_idx = importances.argsort()[::-1]\n",
    "\n",
    "\n",
    "plt.barh(feature_names[sorted_idx][0:10], importances[sorted_idx][0:10])\n",
    "plt.xlabel(\"Random Forest Feature Importance\")\n"
   ]
  },
  {
   "cell_type": "code",
   "execution_count": 176,
   "metadata": {},
   "outputs": [
    {
     "name": "stdout",
     "output_type": "stream",
     "text": [
      "Fitting 3 folds for each of 480 candidates, totalling 1440 fits\n"
     ]
    },
    {
     "name": "stderr",
     "output_type": "stream",
     "text": [
      "[Parallel(n_jobs=-1)]: Using backend LokyBackend with 8 concurrent workers.\n",
      "[Parallel(n_jobs=-1)]: Done  25 tasks      | elapsed:   13.3s\n",
      "[Parallel(n_jobs=-1)]: Done 146 tasks      | elapsed:   51.0s\n",
      "[Parallel(n_jobs=-1)]: Done 349 tasks      | elapsed:  1.8min\n",
      "[Parallel(n_jobs=-1)]: Done 632 tasks      | elapsed:  3.3min\n",
      "[Parallel(n_jobs=-1)]: Done 997 tasks      | elapsed:  5.2min\n",
      "[Parallel(n_jobs=-1)]: Done 1440 out of 1440 | elapsed:  7.4min finished\n",
      "C:\\Users\\omore\\Anaconda3\\lib\\site-packages\\sklearn\\model_selection\\_search.py:823: FutureWarning: The parameter 'iid' is deprecated in 0.22 and will be removed in 0.24.\n",
      "  \"removed in 0.24.\", FutureWarning\n",
      "C:\\Users\\omore\\Anaconda3\\lib\\site-packages\\sklearn\\model_selection\\_search.py:739: DataConversionWarning: A column-vector y was passed when a 1d array was expected. Please change the shape of y to (n_samples,), for example using ravel().\n",
      "  self.best_estimator_.fit(X, y, **fit_params)\n"
     ]
    },
    {
     "name": "stdout",
     "output_type": "stream",
     "text": [
      "{'bootstrap': True, 'class_weight': 'balanced', 'max_depth': 3, 'max_features': 5, 'min_samples_leaf': 10, 'min_samples_split': 25, 'n_estimators': 20, 'random_state': 29}\n"
     ]
    },
    {
     "name": "stderr",
     "output_type": "stream",
     "text": [
      "C:\\Users\\omore\\Anaconda3\\lib\\site-packages\\ipykernel_launcher.py:26: DataConversionWarning: A column-vector y was passed when a 1d array was expected. Please change the shape of y to (n_samples,), for example using ravel().\n"
     ]
    },
    {
     "name": "stdout",
     "output_type": "stream",
     "text": [
      "F1-train: 0.10915818686401481\n",
      "F1-test: 0.0\n"
     ]
    }
   ],
   "source": [
    "mod_RF = RandomForestClassifier() # or GradientBoostingClassifier, or XGBoostClassifier\n",
    "\n",
    "search_grid_RF = {'bootstrap': [True],\n",
    "                  'max_depth': [2, 3, 4, 5, 6],\n",
    "                  'max_features': [3, 4, 5, 6],\n",
    "                  'n_estimators': [5, 10, 20, 50],\n",
    "                  'min_samples_leaf': [10, 25, 50],\n",
    "                  'min_samples_split': [25, 50],\n",
    "                  'random_state': [29],\n",
    "                  'class_weight': ['balanced']\n",
    "                  }\n",
    "\n",
    "param_search_RF = GridSearchCV(estimator=mod_RF, \n",
    "                               param_grid=search_grid_RF, \n",
    "                               scoring=metrics.make_scorer(metrics.f1_score),\n",
    "                               cv=3, \n",
    "                               n_jobs=-1, \n",
    "                               verbose=2, return_train_score=True,\n",
    "                               iid=True)\n",
    "\n",
    "param_search_RF.fit(X_train.drop(unused_features, axis = 1), y_train)        \n",
    "\n",
    "print(param_search_RF.best_params_)\n",
    "\n",
    "mod_opt_RF = RandomForestClassifier(**param_search_RF.best_params_)\n",
    "mod_opt_RF = mod_opt_RF.fit(X_train.drop(unused_features, axis = 1), y_train)\n",
    "\n",
    "y_pred = mod_opt_RF.predict(X_test.drop(unused_features, axis = 1))\n",
    "y_train_pred = mod_opt_RF.predict(X_train.drop(unused_features, axis = 1))\n",
    "\n",
    "threshold_RF = 0.3\n",
    "print('F1-train: {}'.format(f1_score(y_train, y_train_pred)))\n",
    "print('F1-test: {}'.format(f1_score(y_test, y_pred)))"
   ]
  },
  {
   "cell_type": "code",
   "execution_count": null,
   "metadata": {},
   "outputs": [],
   "source": [
    "plot_confusion_matrix(mod_opt_RF, X_test.drop(unused_features, axis = 1), y_test)"
   ]
  },
  {
   "cell_type": "code",
   "execution_count": null,
   "metadata": {},
   "outputs": [],
   "source": [
    "plot_confusion_matrix(mod_opt_RF, X_train.drop(unused_features, axis = 1), y_train)"
   ]
  },
  {
   "cell_type": "code",
   "execution_count": null,
   "metadata": {},
   "outputs": [],
   "source": [
    "importances = mod_opt_RF.feature_importances_\n",
    "feature_names = X_train.drop(unused_features, axis = 1).columns\n",
    "sorted_idx = importances.argsort()[::-1][0:10]\n",
    "\n",
    "\n",
    "plt.barh(feature_names[sorted_idx], importances[sorted_idx])\n",
    "plt.xlabel(\"Random Forest Feature Importance\")\n"
   ]
  },
  {
   "cell_type": "markdown",
   "metadata": {},
   "source": [
    "## Retrain the model on all data"
   ]
  },
  {
   "cell_type": "code",
   "execution_count": null,
   "metadata": {},
   "outputs": [],
   "source": [
    "all_train = X[(X['is_test'] == False)].drop('ice_jam', axis = 1).reset_index(drop=True).dropna()\n",
    "X_val = X[(X['is_test'] == True)].drop('ice_jam', axis = 1).reset_index(drop=True).dropna()\n",
    "all_y_train =  X.loc[(X['is_test'] == False),'ice_jam']\n",
    "unused_features = ['year', 'is_test']\n",
    "mod_opt_RF = mod_opt_RF.fit(all_train.drop(unused_features, axis = 1), all_y_train)\n"
   ]
  },
  {
   "cell_type": "code",
   "execution_count": null,
   "metadata": {},
   "outputs": [],
   "source": [
    "X_val['ice_jam'] = mod_opt_RF.predict(X_val.drop(unused_features, axis = 1))"
   ]
  },
  {
   "cell_type": "code",
   "execution_count": null,
   "metadata": {},
   "outputs": [],
   "source": [
    "now = datetime.now()\n",
    "X_val[['year', 'station_id', 'day', 'ice_jam']].\\\n",
    "    to_csv(sumbit_dir + 'submit-rf' + now.strftime(\"%m-%d-%Y-%H-%M\") + '.csv', index=False)"
   ]
  },
  {
   "cell_type": "markdown",
   "metadata": {},
   "source": [
    "### submit"
   ]
  },
  {
   "cell_type": "code",
   "execution_count": null,
   "metadata": {},
   "outputs": [],
   "source": [
    "X.to_csv(preprocessed_dir + 'X-' + now.strftime(\"%m-%d-%Y-%H-%M\") + '.csv', index=False)"
   ]
  },
  {
   "cell_type": "markdown",
   "metadata": {},
   "source": [
    "# XGBoost"
   ]
  },
  {
   "cell_type": "code",
   "execution_count": 33,
   "metadata": {},
   "outputs": [
    {
     "name": "stderr",
     "output_type": "stream",
     "text": [
      "C:\\Users\\omore\\Anaconda3\\lib\\site-packages\\sklearn\\preprocessing\\_label.py:235: DataConversionWarning: A column-vector y was passed when a 1d array was expected. Please change the shape of y to (n_samples, ), for example using ravel().\n",
      "  y = column_or_1d(y, warn=True)\n",
      "C:\\Users\\omore\\Anaconda3\\lib\\site-packages\\sklearn\\preprocessing\\_label.py:268: DataConversionWarning: A column-vector y was passed when a 1d array was expected. Please change the shape of y to (n_samples, ), for example using ravel().\n",
      "  y = column_or_1d(y, warn=True)\n"
     ]
    },
    {
     "name": "stdout",
     "output_type": "stream",
     "text": [
      "[0]\tvalidation_0-error:0.01053\n",
      "[1]\tvalidation_0-error:0.01053\n",
      "[2]\tvalidation_0-error:0.01053\n",
      "[3]\tvalidation_0-error:0.01053\n",
      "[4]\tvalidation_0-error:0.01053\n",
      "[5]\tvalidation_0-error:0.01053\n",
      "[6]\tvalidation_0-error:0.01053\n",
      "[7]\tvalidation_0-error:0.01053\n",
      "[8]\tvalidation_0-error:0.01053\n",
      "[9]\tvalidation_0-error:0.01053\n",
      "[10]\tvalidation_0-error:0.01053\n",
      "[11]\tvalidation_0-error:0.01053\n",
      "[12]\tvalidation_0-error:0.01053\n",
      "[13]\tvalidation_0-error:0.01053\n",
      "[14]\tvalidation_0-error:0.01053\n",
      "[15]\tvalidation_0-error:0.01053\n",
      "[16]\tvalidation_0-error:0.01053\n",
      "[17]\tvalidation_0-error:0.01053\n",
      "[18]\tvalidation_0-error:0.01053\n",
      "[19]\tvalidation_0-error:0.01053\n",
      "[20]\tvalidation_0-error:0.01053\n",
      "[21]\tvalidation_0-error:0.01053\n",
      "[22]\tvalidation_0-error:0.01053\n",
      "[23]\tvalidation_0-error:0.01053\n",
      "[24]\tvalidation_0-error:0.01053\n",
      "[25]\tvalidation_0-error:0.01053\n",
      "[26]\tvalidation_0-error:0.01053\n",
      "[27]\tvalidation_0-error:0.01053\n",
      "[28]\tvalidation_0-error:0.01053\n",
      "[29]\tvalidation_0-error:0.01053\n",
      "[30]\tvalidation_0-error:0.01053\n",
      "[31]\tvalidation_0-error:0.01053\n",
      "[32]\tvalidation_0-error:0.01053\n",
      "[33]\tvalidation_0-error:0.01053\n",
      "[34]\tvalidation_0-error:0.01053\n",
      "[35]\tvalidation_0-error:0.01053\n",
      "[36]\tvalidation_0-error:0.01053\n",
      "[37]\tvalidation_0-error:0.01053\n",
      "[38]\tvalidation_0-error:0.01053\n",
      "[39]\tvalidation_0-error:0.01053\n",
      "[40]\tvalidation_0-error:0.01053\n",
      "[41]\tvalidation_0-error:0.01053\n",
      "[42]\tvalidation_0-error:0.01053\n",
      "[43]\tvalidation_0-error:0.01053\n",
      "[44]\tvalidation_0-error:0.01053\n",
      "[45]\tvalidation_0-error:0.01053\n",
      "[46]\tvalidation_0-error:0.01053\n",
      "[47]\tvalidation_0-error:0.01053\n",
      "[48]\tvalidation_0-error:0.01053\n",
      "[49]\tvalidation_0-error:0.01053\n",
      "[50]\tvalidation_0-error:0.01053\n",
      "[51]\tvalidation_0-error:0.01053\n",
      "[52]\tvalidation_0-error:0.01053\n",
      "[53]\tvalidation_0-error:0.01053\n",
      "[54]\tvalidation_0-error:0.01053\n",
      "[55]\tvalidation_0-error:0.01053\n",
      "[56]\tvalidation_0-error:0.01053\n",
      "[57]\tvalidation_0-error:0.01053\n",
      "[58]\tvalidation_0-error:0.01053\n",
      "[59]\tvalidation_0-error:0.01053\n",
      "[60]\tvalidation_0-error:0.01053\n",
      "[61]\tvalidation_0-error:0.01053\n",
      "[62]\tvalidation_0-error:0.01053\n",
      "[63]\tvalidation_0-error:0.01053\n",
      "[64]\tvalidation_0-error:0.01053\n",
      "[65]\tvalidation_0-error:0.01053\n",
      "[66]\tvalidation_0-error:0.01053\n",
      "[67]\tvalidation_0-error:0.01053\n",
      "[68]\tvalidation_0-error:0.01053\n",
      "[69]\tvalidation_0-error:0.01053\n",
      "[70]\tvalidation_0-error:0.01053\n",
      "[71]\tvalidation_0-error:0.01053\n",
      "[72]\tvalidation_0-error:0.01053\n",
      "[73]\tvalidation_0-error:0.01053\n",
      "[74]\tvalidation_0-error:0.01053\n",
      "[75]\tvalidation_0-error:0.01053\n",
      "[76]\tvalidation_0-error:0.01053\n",
      "[77]\tvalidation_0-error:0.01053\n",
      "[78]\tvalidation_0-error:0.01053\n",
      "[79]\tvalidation_0-error:0.01053\n",
      "[80]\tvalidation_0-error:0.01053\n",
      "[81]\tvalidation_0-error:0.01053\n",
      "[82]\tvalidation_0-error:0.01053\n",
      "[83]\tvalidation_0-error:0.01053\n",
      "[84]\tvalidation_0-error:0.01053\n",
      "[85]\tvalidation_0-error:0.01053\n",
      "[86]\tvalidation_0-error:0.01053\n",
      "[87]\tvalidation_0-error:0.01053\n",
      "[88]\tvalidation_0-error:0.01053\n",
      "[89]\tvalidation_0-error:0.01053\n",
      "[90]\tvalidation_0-error:0.01053\n",
      "[91]\tvalidation_0-error:0.01053\n",
      "[92]\tvalidation_0-error:0.01053\n",
      "[93]\tvalidation_0-error:0.01053\n",
      "[94]\tvalidation_0-error:0.01053\n",
      "[95]\tvalidation_0-error:0.01053\n",
      "[96]\tvalidation_0-error:0.01053\n",
      "[97]\tvalidation_0-error:0.01053\n",
      "[98]\tvalidation_0-error:0.01053\n",
      "[99]\tvalidation_0-error:0.01053\n",
      "F1-train: 0.2553191489361702\n",
      "F1-test: 0.0\n"
     ]
    }
   ],
   "source": [
    "model = XGBClassifier()\n",
    "eval_set =[(X_test.drop(unused_features, axis = 1), y_test)]\n",
    "model.fit(X_train.drop(unused_features, axis = 1), \n",
    "                     y_train,  eval_metric=\"error\",\n",
    "                     eval_set=eval_set , verbose=True)   \n",
    "\n",
    "y_pred = model.predict(X_test.drop(unused_features, axis = 1))\n",
    "y_train_pred = model.predict(X_train.drop(unused_features, axis = 1))\n",
    "\n",
    "print('F1-train: {}'.format(f1_score(y_train, y_train_pred)))\n",
    "print('F1-test: {}'.format(f1_score(y_test, y_pred)))"
   ]
  },
  {
   "cell_type": "code",
   "execution_count": null,
   "metadata": {},
   "outputs": [],
   "source": [
    "model.get_params()"
   ]
  },
  {
   "cell_type": "code",
   "execution_count": 64,
   "metadata": {},
   "outputs": [
    {
     "name": "stdout",
     "output_type": "stream",
     "text": [
      "Fitting 3 folds for each of 80 candidates, totalling 240 fits\n"
     ]
    },
    {
     "name": "stderr",
     "output_type": "stream",
     "text": [
      "[Parallel(n_jobs=-1)]: Using backend LokyBackend with 8 concurrent workers.\n",
      "[Parallel(n_jobs=-1)]: Done  25 tasks      | elapsed:    8.6s\n",
      "[Parallel(n_jobs=-1)]: Done 146 tasks      | elapsed:   15.2s\n"
     ]
    },
    {
     "name": "stdout",
     "output_type": "stream",
     "text": [
      "[0]\tvalidation_0-error:0.01073\n",
      "Will train until validation_0-error hasn't improved in 10 rounds.\n",
      "[1]\tvalidation_0-error:0.01073\n",
      "[2]\tvalidation_0-error:0.01073\n",
      "[3]\tvalidation_0-error:0.01073\n",
      "[4]\tvalidation_0-error:0.01073\n",
      "[5]\tvalidation_0-error:0.01073\n",
      "[6]\tvalidation_0-error:0.01073\n",
      "[7]\tvalidation_0-error:0.01073\n",
      "[8]\tvalidation_0-error:0.01073\n",
      "[9]\tvalidation_0-error:0.01073\n",
      "[10]\tvalidation_0-error:0.01073\n",
      "Stopping. Best iteration:\n",
      "[0]\tvalidation_0-error:0.01073\n",
      "\n"
     ]
    },
    {
     "name": "stderr",
     "output_type": "stream",
     "text": [
      "[Parallel(n_jobs=-1)]: Done 240 out of 240 | elapsed:   20.8s finished\n",
      "C:\\Users\\omore\\Anaconda3\\lib\\site-packages\\sklearn\\model_selection\\_search.py:823: FutureWarning: The parameter 'iid' is deprecated in 0.22 and will be removed in 0.24.\n",
      "  \"removed in 0.24.\", FutureWarning\n"
     ]
    },
    {
     "name": "stdout",
     "output_type": "stream",
     "text": [
      "{'max_depth': 2, 'max_features': 3, 'n_estimators': 20, 'random_state': 29}\n",
      "F1-train: 0.0\n",
      "F1-test: 0.0\n"
     ]
    }
   ],
   "source": [
    "search_grid_RF = {'max_depth': [2, 3, 4, 5, 6],\n",
    "                  'max_features': [3, 4, 5, 6],\n",
    "                  'n_estimators': [20, 50, 100, 150],\n",
    "                  'random_state': [29]\n",
    "                  }\n",
    "\n",
    "\n",
    "\n",
    "param_search_xgb = GridSearchCV(estimator=model, \n",
    "                               param_grid=search_grid_RF, \n",
    "                               scoring=metrics.make_scorer(metrics.f1_score),\n",
    "                               cv=3, \n",
    "                               n_jobs=-1, \n",
    "                               verbose=2, return_train_score=True,\n",
    "                               iid=True)\n",
    "param_search_xgb.fit(X_train.drop(unused_features, axis = 1), \n",
    "                     y_train, early_stopping_rounds=10, \n",
    "                     eval_set=[(X_test.drop(unused_features, axis = 1),)] , verbose=True)        \n",
    "\n",
    "print(param_search_xgb.best_params_)\n",
    "mod_opt_xgb = XGBClassifier(**param_search_xgb.best_params_)\n",
    "mod_opt_xgb = mod_opt_xgb.fit(X_train.drop(unused_features, axis = 1), y_train)\n",
    "\n",
    "y_pred = mod_opt_xgb.predict(X_test.drop(unused_features, axis = 1))\n",
    "y_train_pred = mod_opt_xgb.predict(X_train.drop(unused_features, axis = 1))\n",
    "\n",
    "threshold_RF = 0.3\n",
    "print('F1-train: {}'.format(f1_score(y_train, y_train_pred)))\n",
    "print('F1-test: {}'.format(f1_score(y_test, y_pred)))"
   ]
  },
  {
   "cell_type": "markdown",
   "metadata": {},
   "source": [
    "# I stopped here"
   ]
  },
  {
   "cell_type": "markdown",
   "metadata": {},
   "source": [
    "### Соберем фичи из гидроданных"
   ]
  },
  {
   "cell_type": "markdown",
   "metadata": {},
   "source": [
    "<div class=\"alert alert-block alert-warning\">\n",
    "Мы не можем использовать данные из будущего: всё, что происходит после заторного периода, относится уже к следующему году.\n",
    "</div>"
   ]
  },
  {
   "cell_type": "code",
   "execution_count": 75,
   "metadata": {},
   "outputs": [
    {
     "data": {
      "text/html": [
       "<div>\n",
       "<style scoped>\n",
       "    .dataframe tbody tr th:only-of-type {\n",
       "        vertical-align: middle;\n",
       "    }\n",
       "\n",
       "    .dataframe tbody tr th {\n",
       "        vertical-align: top;\n",
       "    }\n",
       "\n",
       "    .dataframe thead th {\n",
       "        text-align: right;\n",
       "    }\n",
       "</style>\n",
       "<table border=\"1\" class=\"dataframe\">\n",
       "  <thead>\n",
       "    <tr style=\"text-align: right;\">\n",
       "      <th></th>\n",
       "      <th>year</th>\n",
       "      <th>station_id</th>\n",
       "      <th>month</th>\n",
       "      <th>day</th>\n",
       "      <th>date</th>\n",
       "      <th>stage_avg</th>\n",
       "      <th>stage_min</th>\n",
       "      <th>stage_max</th>\n",
       "      <th>temp</th>\n",
       "      <th>water_code</th>\n",
       "      <th>ice_thickness</th>\n",
       "      <th>snow_height</th>\n",
       "      <th>place</th>\n",
       "      <th>discharge</th>\n",
       "    </tr>\n",
       "  </thead>\n",
       "  <tbody>\n",
       "    <tr>\n",
       "      <th>0</th>\n",
       "      <td>2000</td>\n",
       "      <td>3019</td>\n",
       "      <td>1</td>\n",
       "      <td>1</td>\n",
       "      <td>2000-01-01</td>\n",
       "      <td>74.0</td>\n",
       "      <td>74.0</td>\n",
       "      <td>74.0</td>\n",
       "      <td>NaN</td>\n",
       "      <td>46</td>\n",
       "      <td>NaN</td>\n",
       "      <td>NaN</td>\n",
       "      <td>NaN</td>\n",
       "      <td>NaN</td>\n",
       "    </tr>\n",
       "  </tbody>\n",
       "</table>\n",
       "</div>"
      ],
      "text/plain": [
       "   year  station_id  month  day       date  stage_avg  stage_min  stage_max  \\\n",
       "0  2000        3019      1    1 2000-01-01       74.0       74.0       74.0   \n",
       "\n",
       "   temp water_code  ice_thickness  snow_height  place  discharge  \n",
       "0   NaN         46            NaN          NaN    NaN        NaN  "
      ]
     },
     "execution_count": 75,
     "metadata": {},
     "output_type": "execute_result"
    }
   ],
   "source": [
    "# Внесем не темпоральные данные\n",
    "X = pd.merge(X, hc[['station_id', \n",
    "                                'distance_from_source', \n",
    "                                'drainage_area', \n",
    "                                'z_null']], on='station_id', how='left')\n",
    "\n",
    "# Возьмем также данные из ежедневных наблюдений\n",
    "hld = pd.read_csv(data_dir + 'hydro_1day.csv',\n",
    "                   parse_dates=['date'])\n",
    "hld.head(1)"
   ]
  },
  {
   "cell_type": "code",
   "execution_count": 76,
   "metadata": {},
   "outputs": [
    {
     "data": {
      "text/html": [
       "<div>\n",
       "<style scoped>\n",
       "    .dataframe tbody tr th:only-of-type {\n",
       "        vertical-align: middle;\n",
       "    }\n",
       "\n",
       "    .dataframe tbody tr th {\n",
       "        vertical-align: top;\n",
       "    }\n",
       "\n",
       "    .dataframe thead th {\n",
       "        text-align: right;\n",
       "    }\n",
       "</style>\n",
       "<table border=\"1\" class=\"dataframe\">\n",
       "  <thead>\n",
       "    <tr style=\"text-align: right;\">\n",
       "      <th></th>\n",
       "      <th>year</th>\n",
       "      <th>station_id</th>\n",
       "      <th>day</th>\n",
       "      <th>ice_jam</th>\n",
       "      <th>is_test</th>\n",
       "      <th>ice_jam_same_day_last_year</th>\n",
       "      <th>ice_jam_same_day_prelast_year</th>\n",
       "      <th>is_last_year_missing</th>\n",
       "      <th>is_prelast_year_missing</th>\n",
       "      <th>n_jams_last_year</th>\n",
       "      <th>n_jams_prelast_year</th>\n",
       "      <th>n_jams_past</th>\n",
       "      <th>n_same_days_before</th>\n",
       "      <th>n_ice_jams_same_days_before</th>\n",
       "      <th>n_ice_jams_same_days_before_ratio</th>\n",
       "      <th>distance_from_source</th>\n",
       "      <th>drainage_area</th>\n",
       "      <th>z_null</th>\n",
       "    </tr>\n",
       "  </thead>\n",
       "  <tbody>\n",
       "    <tr>\n",
       "      <th>0</th>\n",
       "      <td>2000</td>\n",
       "      <td>3019</td>\n",
       "      <td>1</td>\n",
       "      <td>0.0</td>\n",
       "      <td>False</td>\n",
       "      <td>0.0</td>\n",
       "      <td>0.0</td>\n",
       "      <td>False</td>\n",
       "      <td>True</td>\n",
       "      <td>0.0</td>\n",
       "      <td>0.0</td>\n",
       "      <td>0.0</td>\n",
       "      <td>14</td>\n",
       "      <td>0.0</td>\n",
       "      <td>0.0</td>\n",
       "      <td>1140.0</td>\n",
       "      <td>92200</td>\n",
       "      <td>249.38</td>\n",
       "    </tr>\n",
       "    <tr>\n",
       "      <th>1</th>\n",
       "      <td>2000</td>\n",
       "      <td>3019</td>\n",
       "      <td>2</td>\n",
       "      <td>0.0</td>\n",
       "      <td>False</td>\n",
       "      <td>0.0</td>\n",
       "      <td>0.0</td>\n",
       "      <td>False</td>\n",
       "      <td>True</td>\n",
       "      <td>0.0</td>\n",
       "      <td>0.0</td>\n",
       "      <td>0.0</td>\n",
       "      <td>14</td>\n",
       "      <td>0.0</td>\n",
       "      <td>0.0</td>\n",
       "      <td>1140.0</td>\n",
       "      <td>92200</td>\n",
       "      <td>249.38</td>\n",
       "    </tr>\n",
       "    <tr>\n",
       "      <th>2</th>\n",
       "      <td>2000</td>\n",
       "      <td>3019</td>\n",
       "      <td>3</td>\n",
       "      <td>0.0</td>\n",
       "      <td>False</td>\n",
       "      <td>0.0</td>\n",
       "      <td>0.0</td>\n",
       "      <td>False</td>\n",
       "      <td>True</td>\n",
       "      <td>0.0</td>\n",
       "      <td>0.0</td>\n",
       "      <td>0.0</td>\n",
       "      <td>14</td>\n",
       "      <td>0.0</td>\n",
       "      <td>0.0</td>\n",
       "      <td>1140.0</td>\n",
       "      <td>92200</td>\n",
       "      <td>249.38</td>\n",
       "    </tr>\n",
       "    <tr>\n",
       "      <th>3</th>\n",
       "      <td>2000</td>\n",
       "      <td>3019</td>\n",
       "      <td>4</td>\n",
       "      <td>0.0</td>\n",
       "      <td>False</td>\n",
       "      <td>0.0</td>\n",
       "      <td>0.0</td>\n",
       "      <td>False</td>\n",
       "      <td>True</td>\n",
       "      <td>0.0</td>\n",
       "      <td>0.0</td>\n",
       "      <td>0.0</td>\n",
       "      <td>14</td>\n",
       "      <td>0.0</td>\n",
       "      <td>0.0</td>\n",
       "      <td>1140.0</td>\n",
       "      <td>92200</td>\n",
       "      <td>249.38</td>\n",
       "    </tr>\n",
       "    <tr>\n",
       "      <th>4</th>\n",
       "      <td>2000</td>\n",
       "      <td>3019</td>\n",
       "      <td>5</td>\n",
       "      <td>0.0</td>\n",
       "      <td>False</td>\n",
       "      <td>0.0</td>\n",
       "      <td>0.0</td>\n",
       "      <td>False</td>\n",
       "      <td>True</td>\n",
       "      <td>0.0</td>\n",
       "      <td>0.0</td>\n",
       "      <td>0.0</td>\n",
       "      <td>14</td>\n",
       "      <td>0.0</td>\n",
       "      <td>0.0</td>\n",
       "      <td>1140.0</td>\n",
       "      <td>92200</td>\n",
       "      <td>249.38</td>\n",
       "    </tr>\n",
       "  </tbody>\n",
       "</table>\n",
       "</div>"
      ],
      "text/plain": [
       "   year  station_id  day  ice_jam  is_test  ice_jam_same_day_last_year  \\\n",
       "0  2000        3019    1      0.0    False                         0.0   \n",
       "1  2000        3019    2      0.0    False                         0.0   \n",
       "2  2000        3019    3      0.0    False                         0.0   \n",
       "3  2000        3019    4      0.0    False                         0.0   \n",
       "4  2000        3019    5      0.0    False                         0.0   \n",
       "\n",
       "   ice_jam_same_day_prelast_year  is_last_year_missing  \\\n",
       "0                            0.0                 False   \n",
       "1                            0.0                 False   \n",
       "2                            0.0                 False   \n",
       "3                            0.0                 False   \n",
       "4                            0.0                 False   \n",
       "\n",
       "   is_prelast_year_missing  n_jams_last_year  n_jams_prelast_year  \\\n",
       "0                     True               0.0                  0.0   \n",
       "1                     True               0.0                  0.0   \n",
       "2                     True               0.0                  0.0   \n",
       "3                     True               0.0                  0.0   \n",
       "4                     True               0.0                  0.0   \n",
       "\n",
       "   n_jams_past  n_same_days_before  n_ice_jams_same_days_before  \\\n",
       "0          0.0                  14                          0.0   \n",
       "1          0.0                  14                          0.0   \n",
       "2          0.0                  14                          0.0   \n",
       "3          0.0                  14                          0.0   \n",
       "4          0.0                  14                          0.0   \n",
       "\n",
       "   n_ice_jams_same_days_before_ratio  distance_from_source  drainage_area  \\\n",
       "0                                0.0                1140.0          92200   \n",
       "1                                0.0                1140.0          92200   \n",
       "2                                0.0                1140.0          92200   \n",
       "3                                0.0                1140.0          92200   \n",
       "4                                0.0                1140.0          92200   \n",
       "\n",
       "   z_null  \n",
       "0  249.38  \n",
       "1  249.38  \n",
       "2  249.38  \n",
       "3  249.38  \n",
       "4  249.38  "
      ]
     },
     "execution_count": 76,
     "metadata": {},
     "output_type": "execute_result"
    }
   ],
   "source": [
    "X.head()"
   ]
  },
  {
   "cell_type": "code",
   "execution_count": null,
   "metadata": {},
   "outputs": [],
   "source": [
    "hld['station_id'] = hld.station_id.astype(int)\n",
    "mld['station_id'] = mld['station_id'].astype(int)"
   ]
  },
  {
   "cell_type": "code",
   "execution_count": null,
   "metadata": {},
   "outputs": [],
   "source": [
    "hld.head()"
   ]
  },
  {
   "cell_type": "code",
   "execution_count": null,
   "metadata": {},
   "outputs": [],
   "source": [
    "mld.head()"
   ]
  },
  {
   "cell_type": "code",
   "execution_count": null,
   "metadata": {},
   "outputs": [],
   "source": [
    "hld = hld.merge(mld, on=['station_id', 'year', 'month', 'day'], how='inner')\n",
    "hld = hld.fillna(0)\n",
    "hld.head()"
   ]
  },
  {
   "cell_type": "markdown",
   "metadata": {},
   "source": [
    "### Скорректируем год, в который доступно наблюдение"
   ]
  },
  {
   "cell_type": "code",
   "execution_count": null,
   "metadata": {},
   "outputs": [],
   "source": [
    "hld.head()"
   ]
  },
  {
   "cell_type": "code",
   "execution_count": null,
   "metadata": {},
   "outputs": [],
   "source": [
    "# Определим для наблюдения год, в который оно доступно\n",
    "\n",
    "# Маска-окно между заторным периодом и концом года\n",
    "# true if after jam\n",
    "# false otherwise\n",
    "def after_jam_window(row, local=False):\n",
    "    if local:\n",
    "        month = row.month_local\n",
    "        day = row.date_local.day\n",
    "    else:\n",
    "        month = row.month\n",
    "        day = row.date.day\n",
    "    return (((month == 6) and (day > 3))\n",
    "            or (month in [7, 8, 9, 10, 11, 12]))\n",
    "\n",
    "# Год относительно бизнес-логики\n",
    "def target_year(row, local=False):\n",
    "    if local:\n",
    "        year = row.year_local\n",
    "    else:\n",
    "        year = row.year\n",
    "    if after_jam_window(row):\n",
    "        return year + 1\n",
    "    else:\n",
    "        return year\n",
    "    \n",
    "hld['target_year'] = hld.apply(target_year, axis=1)\n",
    "\n",
    "# Календарный год и день больше не нужны\n",
    "hld.drop(columns=['year', 'date', 'day'], axis=1, inplace=True)"
   ]
  },
  {
   "cell_type": "code",
   "execution_count": null,
   "metadata": {},
   "outputs": [],
   "source": [
    "hld.head()"
   ]
  },
  {
   "cell_type": "code",
   "execution_count": null,
   "metadata": {},
   "outputs": [],
   "source": [
    "# Гидро – сделаем ресэмплинг по месяцу\n",
    "\n",
    "index = ['station_id', 'month', 'target_year']\n",
    "\n",
    "hld_mean = hld.groupby(index).mean().add_prefix('mean_').reset_index()\n",
    "hld_max = hld.groupby(index).max().add_prefix('max_').reset_index()\n",
    "hld_min = hld.groupby(index).min().add_prefix('min_').reset_index()\n",
    "hld_std = hld.groupby(index).std().add_prefix('std_').reset_index()\n",
    "data_frames = [hld_mean, hld_max, hld_min, hld_std]\n",
    "\n",
    "hydro_monthly = pd.concat(data_frames, axis=1)\n",
    "hydro_monthly = hydro_monthly.loc[:,~hydro_monthly.columns.duplicated()]\n",
    "hydro_monthly.sort_values(index).head()"
   ]
  },
  {
   "cell_type": "code",
   "execution_count": null,
   "metadata": {},
   "outputs": [],
   "source": [
    "def make_features(df):\n",
    "    station, target_year = df.name\n",
    "    result = pd.DataFrame()\n",
    "    for month, mdf in df.groupby('month'):\n",
    "        m_feats = mdf[df.columns[4:]].add_prefix(str(month) + '_').reset_index(drop=True)\n",
    "        result = pd.concat([result, m_feats], axis=1)\n",
    "    return result.reset_index(drop=True)\n",
    "        \n",
    "hydro_features = hydro_monthly.groupby(['station_id', 'target_year']).apply(make_features)\n",
    "hydro_features = hydro_features.reset_index(level=2, drop=True).reset_index()\n",
    "hydro_features.dropna(how='all', axis=1, inplace=True)\n",
    "hydro_features"
   ]
  },
  {
   "cell_type": "markdown",
   "metadata": {},
   "source": [
    "### Соберем фичи в основной датасет\n",
    "\n",
    "<div class=\"alert alert-block alert-success\">\n",
    "Важно: merge делаем по target_year.\n",
    "</div>"
   ]
  },
  {
   "cell_type": "code",
   "execution_count": null,
   "metadata": {},
   "outputs": [],
   "source": [
    "main_df = pd.merge(main_df, hydro_features, left_on=['year', 'station_id'],\n",
    "                   right_on=['target_year', 'station_id'],\n",
    "                   how='left')\n",
    "cols = main_df.columns.to_list()\n",
    "main_df = main_df[cols[:3] + [cols[7]] + cols[5:7] + cols[8:] + [cols[3]]]\n",
    "main_df.dropna(how='any',inplace=True)\n",
    "main_df.head(2)"
   ]
  },
  {
   "cell_type": "markdown",
   "metadata": {},
   "source": [
    "### Нормируем фичи"
   ]
  },
  {
   "cell_type": "code",
   "execution_count": null,
   "metadata": {},
   "outputs": [],
   "source": [
    "from sklearn.preprocessing import StandardScaler\n",
    "\n",
    "ids, data, target = main_df[main_df.columns[:4]], main_df[main_df.columns[4:-1]], main_df[main_df.columns[-1]]\n",
    "\n",
    "scaler = StandardScaler()\n",
    "scaler.fit(data)\n",
    "transformed_data = scaler.transform(data)\n",
    "norm_df = pd.concat([ids, pd.DataFrame(transformed_data, columns = main_df.columns[4:-1]), target], axis=1)\n",
    "norm_df"
   ]
  },
  {
   "cell_type": "code",
   "execution_count": null,
   "metadata": {},
   "outputs": [],
   "source": [
    "# Разделим на трейн и тест исходя из target_year\n",
    "\n",
    "test = norm_df[~norm_df.target_year.isin(X_train.year.to_list())].reset_index(drop=True).dropna()\n",
    "train = norm_df[norm_df.target_year.isin(X_train.year.to_list())].reset_index(drop=True).dropna()\n",
    "\n",
    "# target_year больше не нужна\n",
    "\n",
    "test.drop(columns=['target_year'], inplace=True)\n",
    "train.drop(columns=['target_year'], inplace=True)"
   ]
  },
  {
   "cell_type": "code",
   "execution_count": null,
   "metadata": {},
   "outputs": [],
   "source": [
    "# Поделим данные на предикторы и таргет\n",
    "\n",
    "X_train, y_train = train.iloc[:, :-1], train.ice_jam\n",
    "X_test, y_test = test.iloc[:, :-1], test.ice_jam"
   ]
  },
  {
   "cell_type": "code",
   "execution_count": null,
   "metadata": {},
   "outputs": [],
   "source": [
    "X_train"
   ]
  },
  {
   "cell_type": "markdown",
   "metadata": {},
   "source": [
    "### Обучим простой классификатор"
   ]
  },
  {
   "cell_type": "code",
   "execution_count": null,
   "metadata": {},
   "outputs": [],
   "source": [
    "from sklearn.svm import SVC\n",
    "from sklearn.feature_selection import RFE\n",
    "from sklearn.linear_model import LogisticRegression\n",
    "from sklearn.decomposition import PCA\n",
    "from sklearn.model_selection import GridSearchCV\n",
    "from sklearn.pipeline import Pipeline"
   ]
  },
  {
   "cell_type": "code",
   "execution_count": null,
   "metadata": {},
   "outputs": [],
   "source": [
    "from sklearn.svm import LinearSVC\n",
    "from sklearn.feature_selection import RFE\n",
    "from sklearn.linear_model import LogisticRegression\n",
    "#lsvc = SVC(C=0.01, penalty=\"l1\", dual=False).fit(X_train, y_train)\n",
    "selector = RFE(LogisticRegression(max_iter=5000),\n",
    "               n_features_to_select=200, step=10).fit(X_train, y_train)\n",
    "X_reduced = selector.transform(X_train)\n",
    "X_reduced_test = selector.transform(X_test)\n",
    "X_reduced.shape"
   ]
  },
  {
   "cell_type": "code",
   "execution_count": null,
   "metadata": {},
   "outputs": [],
   "source": [
    "pca = PCA()\n",
    "parameters = {'pca__n_components': list(range(10,50,5)), 'svc__kernel':('linear', 'rbf'), 'svc__C':[1,10]}\n",
    "clf = Pipeline([('pca', pca), ('svc', SVC(class_weight='balanced'))])\n",
    "GS = GridSearchCV(clf, parameters, scoring='f1_macro')\n",
    "GS.fit(X_train, y_train)\n",
    "print(GS.cv_results_)\n",
    "print(GS.best_params_)"
   ]
  },
  {
   "cell_type": "code",
   "execution_count": null,
   "metadata": {},
   "outputs": [],
   "source": [
    "prediction = GS.predict(X_test)\n",
    "recall_score(y_test, prediction), \\\n",
    "    precision_score(y_test, prediction), f1_score(y_test, prediction)"
   ]
  },
  {
   "cell_type": "code",
   "execution_count": null,
   "metadata": {},
   "outputs": [],
   "source": [
    "test = pd.read_csv(data_dir + 'test.csv')\n",
    "test_real = pd.read_csv(data_dir + '../test_SECRET.csv')"
   ]
  },
  {
   "cell_type": "code",
   "execution_count": null,
   "metadata": {},
   "outputs": [],
   "source": [
    "test_real.head()"
   ]
  },
  {
   "cell_type": "code",
   "execution_count": null,
   "metadata": {},
   "outputs": [],
   "source": [
    "test_X = pd.merge(test_real, hc[['station_id', \n",
    "                                'distance_from_source', \n",
    "                                'drainage_area', \n",
    "                                'z_null']], on='station_id', how='left')"
   ]
  },
  {
   "cell_type": "code",
   "execution_count": null,
   "metadata": {},
   "outputs": [],
   "source": [
    "'year' in hydro_features.columns"
   ]
  },
  {
   "cell_type": "code",
   "execution_count": null,
   "metadata": {},
   "outputs": [],
   "source": [
    "test_X = pd.merge(test_X, hydro_features, left_on=['year', 'station_id'],\n",
    "                   right_on=['target_year', 'station_id'],\n",
    "                   how='left')\n",
    "cols = test_X.columns.to_list()\n",
    "test_X = test_X[cols[:3] + [cols[7]] + cols[5:7] + cols[8:] + [cols[3]]]"
   ]
  },
  {
   "cell_type": "code",
   "execution_count": null,
   "metadata": {},
   "outputs": [],
   "source": [
    "ids, data, target = test_X[test_X.columns[:4]], test_X[test_X.columns[4:-1]], test_X[test_X.columns[-1]]\n",
    "\n",
    "transformed_data = scaler.transform(data)\n",
    "test_X = pd.concat([ids, pd.DataFrame(transformed_data, columns = main_df.columns[4:-1]), target], axis=1)\n",
    "X_test_real, y_test_real = test_X.iloc[:, :-1], test_X.ice_jam"
   ]
  },
  {
   "cell_type": "code",
   "execution_count": null,
   "metadata": {},
   "outputs": [],
   "source": [
    "X_test_real.drop('target_year',inplace=True,axis=1)\n",
    "X_test_real = X_test_real.fillna(0)"
   ]
  },
  {
   "cell_type": "code",
   "execution_count": null,
   "metadata": {},
   "outputs": [],
   "source": [
    "#X_test_real_reduced = selector.transform(X_test_real)\n",
    "prediction =  GS.predict(X_test_real)\n",
    "accuracy_score(y_test_real, prediction), recall_score(y_test_real, prediction), \\\n",
    "    precision_score(y_test_real, prediction), f1_score(y_test_real, prediction)"
   ]
  }
 ],
 "metadata": {
  "kernelspec": {
   "display_name": "Python 3",
   "language": "python",
   "name": "python3"
  },
  "language_info": {
   "codemirror_mode": {
    "name": "ipython",
    "version": 3
   },
   "file_extension": ".py",
   "mimetype": "text/x-python",
   "name": "python",
   "nbconvert_exporter": "python",
   "pygments_lexer": "ipython3",
   "version": "3.7.4"
  }
 },
 "nbformat": 4,
 "nbformat_minor": 4
}
