{
 "cells": [
  {
   "cell_type": "code",
   "execution_count": 1,
   "metadata": {},
   "outputs": [],
   "source": [
    "import pandas as pd\n",
    "import os\n",
    "import glob\n",
    "import re\n",
    "import numpy as np"
   ]
  },
  {
   "cell_type": "code",
   "execution_count": 91,
   "metadata": {},
   "outputs": [],
   "source": [
    "path_to_data = '..//00_data/train_test_data'"
   ]
  },
  {
   "cell_type": "code",
   "execution_count": 92,
   "metadata": {},
   "outputs": [],
   "source": [
    "X_train = pd.read_csv(os.path.join(path_to_data, 'X_train.csv'))"
   ]
  },
  {
   "cell_type": "code",
   "execution_count": 51,
   "metadata": {},
   "outputs": [],
   "source": [
    "# Средний уклон русла: разницу по высоте / расстояние между пунками\n",
    "# Удалить инвариантные колонки\n",
    "# Значения, в которых не уверены? (Threshold)"
   ]
  },
  {
   "cell_type": "markdown",
   "metadata": {},
   "source": [
    "## Cleaning"
   ]
  },
  {
   "cell_type": "code",
   "execution_count": 99,
   "metadata": {},
   "outputs": [],
   "source": [
    "def drop_mostly_empty_columns(dataframe, missing_frac_threshold, to_keep):\n",
    "    frac_missing = pd.isna(dataframe).mean()\n",
    "    mostly_empty_columns = frac_missing[frac_missing > missing_frac_threshold].index\n",
    "\n",
    "    mostly_empty_columns = [col for col in mostly_empty_columns if col not in to_keep]\n",
    "\n",
    "    print('Dropping {} columns: {}'.format(len(mostly_empty_columns), mostly_empty_columns))\n",
    "    dataframe = dataframe.drop(mostly_empty_columns, axis=1)\n",
    "    return dataframe"
   ]
  },
  {
   "cell_type": "code",
   "execution_count": 104,
   "metadata": {},
   "outputs": [
    {
     "name": "stdout",
     "output_type": "stream",
     "text": [
      "Dropping 0 columns: []\n"
     ]
    }
   ],
   "source": [
    "X_train = drop_mostly_empty_columns(X_train, 0.1, [])"
   ]
  },
  {
   "cell_type": "code",
   "execution_count": 89,
   "metadata": {},
   "outputs": [],
   "source": [
    "def drop_columns_with_low_variance(dataframe, threshold):\n",
    "    print('Dropped columns with variance low than {}'.format(threshold))\n",
    "    dataframe.drop(dataframe.std()[dataframe.std() < threshold].index.values, axis=1, inplace = True)\n",
    "    return dataframe"
   ]
  },
  {
   "cell_type": "code",
   "execution_count": 94,
   "metadata": {},
   "outputs": [
    {
     "name": "stdout",
     "output_type": "stream",
     "text": [
      "Dropped columns with variance low than 0.3\n"
     ]
    }
   ],
   "source": [
    "X_train = drop_columns_with_low_variance(X_train, 0.3)"
   ]
  },
  {
   "cell_type": "code",
   "execution_count": 141,
   "metadata": {},
   "outputs": [],
   "source": [
    "def drop_highly_correlated_columns(dataframe, threshold):\n",
    "    col_corr = set() # Set of all the names of deleted columns\n",
    "    corr_matrix = dataframe.corr()\n",
    "    for i in range(len(corr_matrix.columns)):\n",
    "        for j in range(i):\n",
    "            if (corr_matrix.iloc[i, j] >= threshold) and (corr_matrix.columns[j] not in col_corr):\n",
    "                colname = corr_matrix.columns[i] # getting the name of column\n",
    "                col_corr.add(colname)\n",
    "                if colname in dataframe.columns:\n",
    "                    del dataset[colname] # deleting the column from the dataset\n",
    "    return dataset"
   ]
  },
  {
   "cell_type": "code",
   "execution_count": 143,
   "metadata": {},
   "outputs": [
    {
     "ename": "NameError",
     "evalue": "name 'dataset' is not defined",
     "output_type": "error",
     "traceback": [
      "\u001b[1;31m---------------------------------------------------------------------------\u001b[0m",
      "\u001b[1;31mNameError\u001b[0m                                 Traceback (most recent call last)",
      "\u001b[1;32m<ipython-input-143-e30276da45de>\u001b[0m in \u001b[0;36m<module>\u001b[1;34m\u001b[0m\n\u001b[1;32m----> 1\u001b[1;33m \u001b[0mX_train\u001b[0m \u001b[1;33m=\u001b[0m \u001b[0mdrop_highly_correlated_columns\u001b[0m\u001b[1;33m(\u001b[0m\u001b[0mX_train\u001b[0m\u001b[1;33m,\u001b[0m \u001b[1;36m0.9\u001b[0m\u001b[1;33m)\u001b[0m\u001b[1;33m\u001b[0m\u001b[1;33m\u001b[0m\u001b[0m\n\u001b[0m",
      "\u001b[1;32m<ipython-input-141-61d00eb980c6>\u001b[0m in \u001b[0;36mdrop_highly_correlated_columns\u001b[1;34m(dataframe, threshold)\u001b[0m\n\u001b[0;32m      8\u001b[0m                 \u001b[0mcol_corr\u001b[0m\u001b[1;33m.\u001b[0m\u001b[0madd\u001b[0m\u001b[1;33m(\u001b[0m\u001b[0mcolname\u001b[0m\u001b[1;33m)\u001b[0m\u001b[1;33m\u001b[0m\u001b[1;33m\u001b[0m\u001b[0m\n\u001b[0;32m      9\u001b[0m                 \u001b[1;32mif\u001b[0m \u001b[0mcolname\u001b[0m \u001b[1;32min\u001b[0m \u001b[0mdataframe\u001b[0m\u001b[1;33m.\u001b[0m\u001b[0mcolumns\u001b[0m\u001b[1;33m:\u001b[0m\u001b[1;33m\u001b[0m\u001b[1;33m\u001b[0m\u001b[0m\n\u001b[1;32m---> 10\u001b[1;33m                     \u001b[1;32mdel\u001b[0m \u001b[0mdataset\u001b[0m\u001b[1;33m[\u001b[0m\u001b[0mcolname\u001b[0m\u001b[1;33m]\u001b[0m \u001b[1;31m# deleting the column from the dataset\u001b[0m\u001b[1;33m\u001b[0m\u001b[1;33m\u001b[0m\u001b[0m\n\u001b[0m\u001b[0;32m     11\u001b[0m     \u001b[1;32mreturn\u001b[0m \u001b[0mdataset\u001b[0m\u001b[1;33m\u001b[0m\u001b[1;33m\u001b[0m\u001b[0m\n",
      "\u001b[1;31mNameError\u001b[0m: name 'dataset' is not defined"
     ]
    }
   ],
   "source": [
    "X_train = drop_highly_correlated_columns(X_train, 0.9)"
   ]
  },
  {
   "cell_type": "code",
   "execution_count": null,
   "metadata": {},
   "outputs": [],
   "source": [
    "X_train.head()"
   ]
  },
  {
   "cell_type": "code",
   "execution_count": null,
   "metadata": {},
   "outputs": [],
   "source": [
    "# One-hot-encoding for categorical values (define categorical)\n",
    "X_train = pd.get_dummies(data, columns=[''], drop_first=False)"
   ]
  },
  {
   "cell_type": "markdown",
   "metadata": {},
   "source": [
    "## Feature engineering"
   ]
  },
  {
   "cell_type": "code",
   "execution_count": 116,
   "metadata": {},
   "outputs": [],
   "source": [
    "path_to_data = '..//00_data/track_1'"
   ]
  },
  {
   "cell_type": "code",
   "execution_count": 118,
   "metadata": {},
   "outputs": [],
   "source": [
    "hydro_coord = pd.read_csv(os.path.join(path_to_data, 'hydro_coord.csv'))"
   ]
  },
  {
   "cell_type": "code",
   "execution_count": 128,
   "metadata": {},
   "outputs": [],
   "source": [
    "# calculate_height_difference\n",
    "# distance_from_source - расстояние от истока\n",
    "# z_null - высотная отметка нуля графика на гидропосте\n",
    "hydro_coord=hydro_coord.sort_values(by = 'distance_from_source')\n",
    "hydro_coord['height_difference'] = hydro_coord['z_null'] - hydro_coord['z_null'].shift(1) \n",
    "hydro_coord['distance_to_previous'] = hydro_coord['distance_from_source'] - hydro_coord['distance_from_source'].shift(1)\n",
    "hydro_coord['height_diff_by_dist'] = hydro_coord['height_difference']/hydro_coord['distance_from_source']\n",
    "hydro_coord.fillna(0, inplace = True)"
   ]
  },
  {
   "cell_type": "code",
   "execution_count": 137,
   "metadata": {},
   "outputs": [
    {
     "data": {
      "text/html": [
       "<div>\n",
       "<style scoped>\n",
       "    .dataframe tbody tr th:only-of-type {\n",
       "        vertical-align: middle;\n",
       "    }\n",
       "\n",
       "    .dataframe tbody tr th {\n",
       "        vertical-align: top;\n",
       "    }\n",
       "\n",
       "    .dataframe thead th {\n",
       "        text-align: right;\n",
       "    }\n",
       "</style>\n",
       "<table border=\"1\" class=\"dataframe\">\n",
       "  <thead>\n",
       "    <tr style=\"text-align: right;\">\n",
       "      <th></th>\n",
       "      <th>station_id</th>\n",
       "      <th>name</th>\n",
       "      <th>lat</th>\n",
       "      <th>lon</th>\n",
       "      <th>distance_from_source</th>\n",
       "      <th>drainage_area</th>\n",
       "      <th>z_null</th>\n",
       "      <th>height_difference</th>\n",
       "      <th>distance_to_previous</th>\n",
       "      <th>height_diff_by_dist</th>\n",
       "    </tr>\n",
       "  </thead>\n",
       "  <tbody>\n",
       "    <tr>\n",
       "      <th>25</th>\n",
       "      <td>3554</td>\n",
       "      <td>ЧУЯ - Р.ЧУЯ</td>\n",
       "      <td>59.26</td>\n",
       "      <td>112.41</td>\n",
       "      <td>509.9</td>\n",
       "      <td>18400</td>\n",
       "      <td>179.00</td>\n",
       "      <td>0.00</td>\n",
       "      <td>0.0</td>\n",
       "      <td>0.000000</td>\n",
       "    </tr>\n",
       "    <tr>\n",
       "      <th>19</th>\n",
       "      <td>3087</td>\n",
       "      <td>ШОРОХОВА - Р.КИРЕНГА</td>\n",
       "      <td>57.63</td>\n",
       "      <td>108.11</td>\n",
       "      <td>728.0</td>\n",
       "      <td>46500</td>\n",
       "      <td>254.24</td>\n",
       "      <td>75.24</td>\n",
       "      <td>218.1</td>\n",
       "      <td>0.103352</td>\n",
       "    </tr>\n",
       "    <tr>\n",
       "      <th>22</th>\n",
       "      <td>3180</td>\n",
       "      <td>ТОККО - Р.ЧАРА</td>\n",
       "      <td>60.00</td>\n",
       "      <td>119.88</td>\n",
       "      <td>730.0</td>\n",
       "      <td>62500</td>\n",
       "      <td>143.80</td>\n",
       "      <td>-110.44</td>\n",
       "      <td>2.0</td>\n",
       "      <td>-0.151288</td>\n",
       "    </tr>\n",
       "    <tr>\n",
       "      <th>0</th>\n",
       "      <td>3019</td>\n",
       "      <td>КИРЕНСК - Р.ЛЕНА</td>\n",
       "      <td>57.77</td>\n",
       "      <td>108.07</td>\n",
       "      <td>1140.0</td>\n",
       "      <td>92200</td>\n",
       "      <td>249.38</td>\n",
       "      <td>105.58</td>\n",
       "      <td>410.0</td>\n",
       "      <td>0.092614</td>\n",
       "    </tr>\n",
       "    <tr>\n",
       "      <th>1</th>\n",
       "      <td>3021</td>\n",
       "      <td>ЗМЕИНОВО - Р.ЛЕНА</td>\n",
       "      <td>57.78</td>\n",
       "      <td>108.32</td>\n",
       "      <td>1157.0</td>\n",
       "      <td>140000</td>\n",
       "      <td>245.25</td>\n",
       "      <td>-4.13</td>\n",
       "      <td>17.0</td>\n",
       "      <td>-0.003570</td>\n",
       "    </tr>\n",
       "  </tbody>\n",
       "</table>\n",
       "</div>"
      ],
      "text/plain": [
       "    station_id                  name    lat     lon  distance_from_source  \\\n",
       "25        3554           ЧУЯ - Р.ЧУЯ  59.26  112.41                 509.9   \n",
       "19        3087  ШОРОХОВА - Р.КИРЕНГА  57.63  108.11                 728.0   \n",
       "22        3180        ТОККО - Р.ЧАРА  60.00  119.88                 730.0   \n",
       "0         3019      КИРЕНСК - Р.ЛЕНА  57.77  108.07                1140.0   \n",
       "1         3021     ЗМЕИНОВО - Р.ЛЕНА  57.78  108.32                1157.0   \n",
       "\n",
       "    drainage_area  z_null  height_difference  distance_to_previous  \\\n",
       "25          18400  179.00               0.00                   0.0   \n",
       "19          46500  254.24              75.24                 218.1   \n",
       "22          62500  143.80            -110.44                   2.0   \n",
       "0           92200  249.38             105.58                 410.0   \n",
       "1          140000  245.25              -4.13                  17.0   \n",
       "\n",
       "    height_diff_by_dist  \n",
       "25             0.000000  \n",
       "19             0.103352  \n",
       "22            -0.151288  \n",
       "0              0.092614  \n",
       "1             -0.003570  "
      ]
     },
     "execution_count": 137,
     "metadata": {},
     "output_type": "execute_result"
    }
   ],
   "source": [
    "hydro_coord.head()"
   ]
  },
  {
   "cell_type": "code",
   "execution_count": 139,
   "metadata": {},
   "outputs": [
    {
     "data": {
      "text/plain": [
       "station_id  distance_from_source\n",
       "3019        1140.0                  1\n",
       "3021        1157.0                  1\n",
       "3024        1456.0                  1\n",
       "3027        1575.0                  1\n",
       "3028        1601.0                  1\n",
       "3029        1639.0                  1\n",
       "3030        1786.0                  1\n",
       "3031        1870.0                  1\n",
       "3032        1981.0                  1\n",
       "3035        2191.0                  1\n",
       "3036        2216.0                  1\n",
       "3037        2343.0                  1\n",
       "3038        2409.0                  1\n",
       "3041        2720.0                  1\n",
       "3042        2767.0                  1\n",
       "3045        2803.0                  1\n",
       "3047        2837.0                  1\n",
       "3048        2891.0                  1\n",
       "3050        3117.0                  1\n",
       "3087        728.0                   1\n",
       "3106        1543.0                  1\n",
       "3169        1280.0                  1\n",
       "3180        730.0                   1\n",
       "3229        2122.0                  1\n",
       "3230        2272.0                  1\n",
       "3554        509.9                   1\n",
       "3555        1668.0                  1\n",
       "Name: distance_from_source, dtype: int64"
      ]
     },
     "execution_count": 139,
     "metadata": {},
     "output_type": "execute_result"
    }
   ],
   "source": [
    "hydro_coord.groupby(['station_id'])['distance_from_source'].value_counts(dropna = False)"
   ]
  },
  {
   "cell_type": "code",
   "execution_count": 112,
   "metadata": {
    "scrolled": false
   },
   "outputs": [],
   "source": [
    "# Print dropped\n",
    "#list(X_train.loc[:,X_train.apply(pd.Series.nunique) == 1].columns)"
   ]
  },
  {
   "cell_type": "code",
   "execution_count": 31,
   "metadata": {},
   "outputs": [],
   "source": [
    "X_train = X_train.loc[:,X_train.apply(pd.Series.nunique) != 1]"
   ]
  },
  {
   "cell_type": "code",
   "execution_count": 32,
   "metadata": {
    "scrolled": true
   },
   "outputs": [
    {
     "data": {
      "text/html": [
       "<div>\n",
       "<style scoped>\n",
       "    .dataframe tbody tr th:only-of-type {\n",
       "        vertical-align: middle;\n",
       "    }\n",
       "\n",
       "    .dataframe tbody tr th {\n",
       "        vertical-align: top;\n",
       "    }\n",
       "\n",
       "    .dataframe thead th {\n",
       "        text-align: right;\n",
       "    }\n",
       "</style>\n",
       "<table border=\"1\" class=\"dataframe\">\n",
       "  <thead>\n",
       "    <tr style=\"text-align: right;\">\n",
       "      <th></th>\n",
       "      <th>Unnamed: 0</th>\n",
       "      <th>year</th>\n",
       "      <th>station_id</th>\n",
       "      <th>day</th>\n",
       "      <th>drainage_area</th>\n",
       "      <th>z_null</th>\n",
       "      <th>1_mean_stage_min</th>\n",
       "      <th>1_mean_stage_max</th>\n",
       "      <th>1_mean_ice_thickness</th>\n",
       "      <th>1_mean_snow_height_x</th>\n",
       "      <th>...</th>\n",
       "      <th>12_std_temperature_20cm</th>\n",
       "      <th>12_std_temperature_40cm</th>\n",
       "      <th>12_std_temperature_40cm_qual</th>\n",
       "      <th>12_std_temperature_80cm</th>\n",
       "      <th>12_std_temperature_80cm_qual</th>\n",
       "      <th>12_std_temperature_120cm</th>\n",
       "      <th>12_std_temperature_160cm</th>\n",
       "      <th>12_std_temperature_160cm_qual</th>\n",
       "      <th>12_std_temperature_240cm</th>\n",
       "      <th>12_std_temperature_320cm</th>\n",
       "    </tr>\n",
       "  </thead>\n",
       "  <tbody>\n",
       "    <tr>\n",
       "      <th>count</th>\n",
       "      <td>6116.000000</td>\n",
       "      <td>6116.000000</td>\n",
       "      <td>6116.000000</td>\n",
       "      <td>6116.000000</td>\n",
       "      <td>6116.000000</td>\n",
       "      <td>6116.000000</td>\n",
       "      <td>6116.000000</td>\n",
       "      <td>6116.000000</td>\n",
       "      <td>6116.000000</td>\n",
       "      <td>6116.000000</td>\n",
       "      <td>...</td>\n",
       "      <td>6116.000000</td>\n",
       "      <td>6116.000000</td>\n",
       "      <td>6116.000000</td>\n",
       "      <td>6116.000000</td>\n",
       "      <td>6116.000000</td>\n",
       "      <td>6116.000000</td>\n",
       "      <td>6116.000000</td>\n",
       "      <td>6116.000000</td>\n",
       "      <td>6116.000000</td>\n",
       "      <td>6116.000000</td>\n",
       "    </tr>\n",
       "    <tr>\n",
       "      <th>mean</th>\n",
       "      <td>3057.500000</td>\n",
       "      <td>2001.122302</td>\n",
       "      <td>3047.525180</td>\n",
       "      <td>21.794964</td>\n",
       "      <td>-0.018848</td>\n",
       "      <td>0.057178</td>\n",
       "      <td>-0.054110</td>\n",
       "      <td>-0.054099</td>\n",
       "      <td>0.014485</td>\n",
       "      <td>0.006891</td>\n",
       "      <td>...</td>\n",
       "      <td>0.051831</td>\n",
       "      <td>0.073598</td>\n",
       "      <td>0.072362</td>\n",
       "      <td>-0.001914</td>\n",
       "      <td>0.000635</td>\n",
       "      <td>0.041738</td>\n",
       "      <td>-0.016915</td>\n",
       "      <td>-0.009645</td>\n",
       "      <td>0.094630</td>\n",
       "      <td>0.063792</td>\n",
       "    </tr>\n",
       "    <tr>\n",
       "      <th>std</th>\n",
       "      <td>1765.681455</td>\n",
       "      <td>11.235795</td>\n",
       "      <td>48.903739</td>\n",
       "      <td>12.707650</td>\n",
       "      <td>1.024864</td>\n",
       "      <td>0.990888</td>\n",
       "      <td>0.964532</td>\n",
       "      <td>0.964525</td>\n",
       "      <td>0.996678</td>\n",
       "      <td>0.888984</td>\n",
       "      <td>...</td>\n",
       "      <td>1.094583</td>\n",
       "      <td>1.273186</td>\n",
       "      <td>1.272645</td>\n",
       "      <td>0.975180</td>\n",
       "      <td>0.977450</td>\n",
       "      <td>1.070226</td>\n",
       "      <td>0.803811</td>\n",
       "      <td>0.813019</td>\n",
       "      <td>1.155316</td>\n",
       "      <td>1.073874</td>\n",
       "    </tr>\n",
       "    <tr>\n",
       "      <th>min</th>\n",
       "      <td>0.000000</td>\n",
       "      <td>1986.000000</td>\n",
       "      <td>3019.000000</td>\n",
       "      <td>0.000000</td>\n",
       "      <td>-1.250208</td>\n",
       "      <td>-1.391692</td>\n",
       "      <td>-3.049477</td>\n",
       "      <td>-3.049866</td>\n",
       "      <td>-1.665515</td>\n",
       "      <td>-1.407120</td>\n",
       "      <td>...</td>\n",
       "      <td>-0.519018</td>\n",
       "      <td>-0.120256</td>\n",
       "      <td>-0.119836</td>\n",
       "      <td>-0.098347</td>\n",
       "      <td>-0.104139</td>\n",
       "      <td>-0.351941</td>\n",
       "      <td>-0.092165</td>\n",
       "      <td>-0.101222</td>\n",
       "      <td>-0.298322</td>\n",
       "      <td>-0.352030</td>\n",
       "    </tr>\n",
       "    <tr>\n",
       "      <th>25%</th>\n",
       "      <td>1528.750000</td>\n",
       "      <td>1990.000000</td>\n",
       "      <td>3029.000000</td>\n",
       "      <td>11.000000</td>\n",
       "      <td>-0.485736</td>\n",
       "      <td>-0.828790</td>\n",
       "      <td>-0.366726</td>\n",
       "      <td>-0.366981</td>\n",
       "      <td>-0.744286</td>\n",
       "      <td>-0.686197</td>\n",
       "      <td>...</td>\n",
       "      <td>-0.519018</td>\n",
       "      <td>-0.120256</td>\n",
       "      <td>-0.119836</td>\n",
       "      <td>-0.098347</td>\n",
       "      <td>-0.104139</td>\n",
       "      <td>-0.351941</td>\n",
       "      <td>-0.092165</td>\n",
       "      <td>-0.101222</td>\n",
       "      <td>-0.298322</td>\n",
       "      <td>-0.352030</td>\n",
       "    </tr>\n",
       "    <tr>\n",
       "      <th>50%</th>\n",
       "      <td>3057.500000</td>\n",
       "      <td>2000.000000</td>\n",
       "      <td>3035.000000</td>\n",
       "      <td>22.000000</td>\n",
       "      <td>-0.428309</td>\n",
       "      <td>0.302352</td>\n",
       "      <td>0.052202</td>\n",
       "      <td>0.051968</td>\n",
       "      <td>-0.098230</td>\n",
       "      <td>-0.089571</td>\n",
       "      <td>...</td>\n",
       "      <td>-0.519018</td>\n",
       "      <td>-0.120256</td>\n",
       "      <td>-0.119836</td>\n",
       "      <td>-0.098347</td>\n",
       "      <td>-0.104139</td>\n",
       "      <td>-0.351941</td>\n",
       "      <td>-0.092165</td>\n",
       "      <td>-0.101222</td>\n",
       "      <td>-0.298322</td>\n",
       "      <td>-0.352030</td>\n",
       "    </tr>\n",
       "    <tr>\n",
       "      <th>75%</th>\n",
       "      <td>4586.250000</td>\n",
       "      <td>2010.000000</td>\n",
       "      <td>3045.000000</td>\n",
       "      <td>33.000000</td>\n",
       "      <td>0.587005</td>\n",
       "      <td>0.637459</td>\n",
       "      <td>0.518892</td>\n",
       "      <td>0.518681</td>\n",
       "      <td>0.631575</td>\n",
       "      <td>0.432476</td>\n",
       "      <td>...</td>\n",
       "      <td>0.376591</td>\n",
       "      <td>-0.111126</td>\n",
       "      <td>-0.119836</td>\n",
       "      <td>-0.095026</td>\n",
       "      <td>-0.104139</td>\n",
       "      <td>-0.351941</td>\n",
       "      <td>-0.090351</td>\n",
       "      <td>-0.101222</td>\n",
       "      <td>-0.298322</td>\n",
       "      <td>-0.352030</td>\n",
       "    </tr>\n",
       "    <tr>\n",
       "      <th>max</th>\n",
       "      <td>6115.000000</td>\n",
       "      <td>2019.000000</td>\n",
       "      <td>3230.000000</td>\n",
       "      <td>44.000000</td>\n",
       "      <td>2.397112</td>\n",
       "      <td>2.027005</td>\n",
       "      <td>1.870338</td>\n",
       "      <td>1.870194</td>\n",
       "      <td>4.220777</td>\n",
       "      <td>3.142151</td>\n",
       "      <td>...</td>\n",
       "      <td>5.766657</td>\n",
       "      <td>9.194273</td>\n",
       "      <td>9.181381</td>\n",
       "      <td>11.045442</td>\n",
       "      <td>10.919234</td>\n",
       "      <td>8.259717</td>\n",
       "      <td>13.299272</td>\n",
       "      <td>13.190900</td>\n",
       "      <td>5.496598</td>\n",
       "      <td>4.183021</td>\n",
       "    </tr>\n",
       "  </tbody>\n",
       "</table>\n",
       "<p>8 rows × 1254 columns</p>\n",
       "</div>"
      ],
      "text/plain": [
       "        Unnamed: 0         year   station_id          day  drainage_area  \\\n",
       "count  6116.000000  6116.000000  6116.000000  6116.000000    6116.000000   \n",
       "mean   3057.500000  2001.122302  3047.525180    21.794964      -0.018848   \n",
       "std    1765.681455    11.235795    48.903739    12.707650       1.024864   \n",
       "min       0.000000  1986.000000  3019.000000     0.000000      -1.250208   \n",
       "25%    1528.750000  1990.000000  3029.000000    11.000000      -0.485736   \n",
       "50%    3057.500000  2000.000000  3035.000000    22.000000      -0.428309   \n",
       "75%    4586.250000  2010.000000  3045.000000    33.000000       0.587005   \n",
       "max    6115.000000  2019.000000  3230.000000    44.000000       2.397112   \n",
       "\n",
       "            z_null  1_mean_stage_min  1_mean_stage_max  1_mean_ice_thickness  \\\n",
       "count  6116.000000       6116.000000       6116.000000           6116.000000   \n",
       "mean      0.057178         -0.054110         -0.054099              0.014485   \n",
       "std       0.990888          0.964532          0.964525              0.996678   \n",
       "min      -1.391692         -3.049477         -3.049866             -1.665515   \n",
       "25%      -0.828790         -0.366726         -0.366981             -0.744286   \n",
       "50%       0.302352          0.052202          0.051968             -0.098230   \n",
       "75%       0.637459          0.518892          0.518681              0.631575   \n",
       "max       2.027005          1.870338          1.870194              4.220777   \n",
       "\n",
       "       1_mean_snow_height_x  ...  12_std_temperature_20cm  \\\n",
       "count           6116.000000  ...              6116.000000   \n",
       "mean               0.006891  ...                 0.051831   \n",
       "std                0.888984  ...                 1.094583   \n",
       "min               -1.407120  ...                -0.519018   \n",
       "25%               -0.686197  ...                -0.519018   \n",
       "50%               -0.089571  ...                -0.519018   \n",
       "75%                0.432476  ...                 0.376591   \n",
       "max                3.142151  ...                 5.766657   \n",
       "\n",
       "       12_std_temperature_40cm  12_std_temperature_40cm_qual  \\\n",
       "count              6116.000000                   6116.000000   \n",
       "mean                  0.073598                      0.072362   \n",
       "std                   1.273186                      1.272645   \n",
       "min                  -0.120256                     -0.119836   \n",
       "25%                  -0.120256                     -0.119836   \n",
       "50%                  -0.120256                     -0.119836   \n",
       "75%                  -0.111126                     -0.119836   \n",
       "max                   9.194273                      9.181381   \n",
       "\n",
       "       12_std_temperature_80cm  12_std_temperature_80cm_qual  \\\n",
       "count              6116.000000                   6116.000000   \n",
       "mean                 -0.001914                      0.000635   \n",
       "std                   0.975180                      0.977450   \n",
       "min                  -0.098347                     -0.104139   \n",
       "25%                  -0.098347                     -0.104139   \n",
       "50%                  -0.098347                     -0.104139   \n",
       "75%                  -0.095026                     -0.104139   \n",
       "max                  11.045442                     10.919234   \n",
       "\n",
       "       12_std_temperature_120cm  12_std_temperature_160cm  \\\n",
       "count               6116.000000               6116.000000   \n",
       "mean                   0.041738                 -0.016915   \n",
       "std                    1.070226                  0.803811   \n",
       "min                   -0.351941                 -0.092165   \n",
       "25%                   -0.351941                 -0.092165   \n",
       "50%                   -0.351941                 -0.092165   \n",
       "75%                   -0.351941                 -0.090351   \n",
       "max                    8.259717                 13.299272   \n",
       "\n",
       "       12_std_temperature_160cm_qual  12_std_temperature_240cm  \\\n",
       "count                    6116.000000               6116.000000   \n",
       "mean                       -0.009645                  0.094630   \n",
       "std                         0.813019                  1.155316   \n",
       "min                        -0.101222                 -0.298322   \n",
       "25%                        -0.101222                 -0.298322   \n",
       "50%                        -0.101222                 -0.298322   \n",
       "75%                        -0.101222                 -0.298322   \n",
       "max                        13.190900                  5.496598   \n",
       "\n",
       "       12_std_temperature_320cm  \n",
       "count               6116.000000  \n",
       "mean                   0.063792  \n",
       "std                    1.073874  \n",
       "min                   -0.352030  \n",
       "25%                   -0.352030  \n",
       "50%                   -0.352030  \n",
       "75%                   -0.352030  \n",
       "max                    4.183021  \n",
       "\n",
       "[8 rows x 1254 columns]"
      ]
     },
     "execution_count": 32,
     "metadata": {},
     "output_type": "execute_result"
    }
   ],
   "source": [
    "X_train.describe()"
   ]
  },
  {
   "cell_type": "code",
   "execution_count": 36,
   "metadata": {},
   "outputs": [],
   "source": [
    "# Drop duplicated columns"
   ]
  },
  {
   "cell_type": "code",
   "execution_count": 43,
   "metadata": {},
   "outputs": [
    {
     "ename": "KeyError",
     "evalue": "'temperature_20cm_qual'",
     "output_type": "error",
     "traceback": [
      "\u001b[1;31m---------------------------------------------------------------------------\u001b[0m",
      "\u001b[1;31mKeyError\u001b[0m                                  Traceback (most recent call last)",
      "\u001b[1;32m~\\Anaconda3\\lib\\site-packages\\pandas\\core\\indexes\\base.py\u001b[0m in \u001b[0;36mget_loc\u001b[1;34m(self, key, method, tolerance)\u001b[0m\n\u001b[0;32m   3079\u001b[0m             \u001b[1;32mtry\u001b[0m\u001b[1;33m:\u001b[0m\u001b[1;33m\u001b[0m\u001b[1;33m\u001b[0m\u001b[0m\n\u001b[1;32m-> 3080\u001b[1;33m                 \u001b[1;32mreturn\u001b[0m \u001b[0mself\u001b[0m\u001b[1;33m.\u001b[0m\u001b[0m_engine\u001b[0m\u001b[1;33m.\u001b[0m\u001b[0mget_loc\u001b[0m\u001b[1;33m(\u001b[0m\u001b[0mcasted_key\u001b[0m\u001b[1;33m)\u001b[0m\u001b[1;33m\u001b[0m\u001b[1;33m\u001b[0m\u001b[0m\n\u001b[0m\u001b[0;32m   3081\u001b[0m             \u001b[1;32mexcept\u001b[0m \u001b[0mKeyError\u001b[0m \u001b[1;32mas\u001b[0m \u001b[0merr\u001b[0m\u001b[1;33m:\u001b[0m\u001b[1;33m\u001b[0m\u001b[1;33m\u001b[0m\u001b[0m\n",
      "\u001b[1;32mpandas\\_libs\\index.pyx\u001b[0m in \u001b[0;36mpandas._libs.index.IndexEngine.get_loc\u001b[1;34m()\u001b[0m\n",
      "\u001b[1;32mpandas\\_libs\\index.pyx\u001b[0m in \u001b[0;36mpandas._libs.index.IndexEngine.get_loc\u001b[1;34m()\u001b[0m\n",
      "\u001b[1;32mpandas\\_libs\\hashtable_class_helper.pxi\u001b[0m in \u001b[0;36mpandas._libs.hashtable.PyObjectHashTable.get_item\u001b[1;34m()\u001b[0m\n",
      "\u001b[1;32mpandas\\_libs\\hashtable_class_helper.pxi\u001b[0m in \u001b[0;36mpandas._libs.hashtable.PyObjectHashTable.get_item\u001b[1;34m()\u001b[0m\n",
      "\u001b[1;31mKeyError\u001b[0m: 'temperature_20cm_qual'",
      "\nThe above exception was the direct cause of the following exception:\n",
      "\u001b[1;31mKeyError\u001b[0m                                  Traceback (most recent call last)",
      "\u001b[1;32m<ipython-input-43-2f755f0eaccf>\u001b[0m in \u001b[0;36m<module>\u001b[1;34m\u001b[0m\n\u001b[1;32m----> 1\u001b[1;33m \u001b[0mX_train\u001b[0m\u001b[1;33m[\u001b[0m\u001b[1;34m'temperature_20cm_qual'\u001b[0m\u001b[1;33m]\u001b[0m\u001b[1;33m.\u001b[0m\u001b[0mvalue_counts\u001b[0m\u001b[1;33m(\u001b[0m\u001b[1;33m)\u001b[0m\u001b[1;33m\u001b[0m\u001b[1;33m\u001b[0m\u001b[0m\n\u001b[0m",
      "\u001b[1;32m~\\Anaconda3\\lib\\site-packages\\pandas\\core\\frame.py\u001b[0m in \u001b[0;36m__getitem__\u001b[1;34m(self, key)\u001b[0m\n\u001b[0;32m   3022\u001b[0m             \u001b[1;32mif\u001b[0m \u001b[0mself\u001b[0m\u001b[1;33m.\u001b[0m\u001b[0mcolumns\u001b[0m\u001b[1;33m.\u001b[0m\u001b[0mnlevels\u001b[0m \u001b[1;33m>\u001b[0m \u001b[1;36m1\u001b[0m\u001b[1;33m:\u001b[0m\u001b[1;33m\u001b[0m\u001b[1;33m\u001b[0m\u001b[0m\n\u001b[0;32m   3023\u001b[0m                 \u001b[1;32mreturn\u001b[0m \u001b[0mself\u001b[0m\u001b[1;33m.\u001b[0m\u001b[0m_getitem_multilevel\u001b[0m\u001b[1;33m(\u001b[0m\u001b[0mkey\u001b[0m\u001b[1;33m)\u001b[0m\u001b[1;33m\u001b[0m\u001b[1;33m\u001b[0m\u001b[0m\n\u001b[1;32m-> 3024\u001b[1;33m             \u001b[0mindexer\u001b[0m \u001b[1;33m=\u001b[0m \u001b[0mself\u001b[0m\u001b[1;33m.\u001b[0m\u001b[0mcolumns\u001b[0m\u001b[1;33m.\u001b[0m\u001b[0mget_loc\u001b[0m\u001b[1;33m(\u001b[0m\u001b[0mkey\u001b[0m\u001b[1;33m)\u001b[0m\u001b[1;33m\u001b[0m\u001b[1;33m\u001b[0m\u001b[0m\n\u001b[0m\u001b[0;32m   3025\u001b[0m             \u001b[1;32mif\u001b[0m \u001b[0mis_integer\u001b[0m\u001b[1;33m(\u001b[0m\u001b[0mindexer\u001b[0m\u001b[1;33m)\u001b[0m\u001b[1;33m:\u001b[0m\u001b[1;33m\u001b[0m\u001b[1;33m\u001b[0m\u001b[0m\n\u001b[0;32m   3026\u001b[0m                 \u001b[0mindexer\u001b[0m \u001b[1;33m=\u001b[0m \u001b[1;33m[\u001b[0m\u001b[0mindexer\u001b[0m\u001b[1;33m]\u001b[0m\u001b[1;33m\u001b[0m\u001b[1;33m\u001b[0m\u001b[0m\n",
      "\u001b[1;32m~\\Anaconda3\\lib\\site-packages\\pandas\\core\\indexes\\base.py\u001b[0m in \u001b[0;36mget_loc\u001b[1;34m(self, key, method, tolerance)\u001b[0m\n\u001b[0;32m   3080\u001b[0m                 \u001b[1;32mreturn\u001b[0m \u001b[0mself\u001b[0m\u001b[1;33m.\u001b[0m\u001b[0m_engine\u001b[0m\u001b[1;33m.\u001b[0m\u001b[0mget_loc\u001b[0m\u001b[1;33m(\u001b[0m\u001b[0mcasted_key\u001b[0m\u001b[1;33m)\u001b[0m\u001b[1;33m\u001b[0m\u001b[1;33m\u001b[0m\u001b[0m\n\u001b[0;32m   3081\u001b[0m             \u001b[1;32mexcept\u001b[0m \u001b[0mKeyError\u001b[0m \u001b[1;32mas\u001b[0m \u001b[0merr\u001b[0m\u001b[1;33m:\u001b[0m\u001b[1;33m\u001b[0m\u001b[1;33m\u001b[0m\u001b[0m\n\u001b[1;32m-> 3082\u001b[1;33m                 \u001b[1;32mraise\u001b[0m \u001b[0mKeyError\u001b[0m\u001b[1;33m(\u001b[0m\u001b[0mkey\u001b[0m\u001b[1;33m)\u001b[0m \u001b[1;32mfrom\u001b[0m \u001b[0merr\u001b[0m\u001b[1;33m\u001b[0m\u001b[1;33m\u001b[0m\u001b[0m\n\u001b[0m\u001b[0;32m   3083\u001b[0m \u001b[1;33m\u001b[0m\u001b[0m\n\u001b[0;32m   3084\u001b[0m         \u001b[1;32mif\u001b[0m \u001b[0mtolerance\u001b[0m \u001b[1;32mis\u001b[0m \u001b[1;32mnot\u001b[0m \u001b[1;32mNone\u001b[0m\u001b[1;33m:\u001b[0m\u001b[1;33m\u001b[0m\u001b[1;33m\u001b[0m\u001b[0m\n",
      "\u001b[1;31mKeyError\u001b[0m: 'temperature_20cm_qual'"
     ]
    }
   ],
   "source": [
    "X_train['temperature_20cm_qual'].value_counts()"
   ]
  },
  {
   "cell_type": "code",
   "execution_count": 45,
   "metadata": {},
   "outputs": [],
   "source": [
    "temp = list(X_train.columns)"
   ]
  },
  {
   "cell_type": "code",
   "execution_count": 49,
   "metadata": {},
   "outputs": [
    {
     "ename": "KeyError",
     "evalue": "'water_in_snow'",
     "output_type": "error",
     "traceback": [
      "\u001b[1;31m---------------------------------------------------------------------------\u001b[0m",
      "\u001b[1;31mKeyError\u001b[0m                                  Traceback (most recent call last)",
      "\u001b[1;32m~\\Anaconda3\\lib\\site-packages\\pandas\\core\\indexes\\base.py\u001b[0m in \u001b[0;36mget_loc\u001b[1;34m(self, key, method, tolerance)\u001b[0m\n\u001b[0;32m   3079\u001b[0m             \u001b[1;32mtry\u001b[0m\u001b[1;33m:\u001b[0m\u001b[1;33m\u001b[0m\u001b[1;33m\u001b[0m\u001b[0m\n\u001b[1;32m-> 3080\u001b[1;33m                 \u001b[1;32mreturn\u001b[0m \u001b[0mself\u001b[0m\u001b[1;33m.\u001b[0m\u001b[0m_engine\u001b[0m\u001b[1;33m.\u001b[0m\u001b[0mget_loc\u001b[0m\u001b[1;33m(\u001b[0m\u001b[0mcasted_key\u001b[0m\u001b[1;33m)\u001b[0m\u001b[1;33m\u001b[0m\u001b[1;33m\u001b[0m\u001b[0m\n\u001b[0m\u001b[0;32m   3081\u001b[0m             \u001b[1;32mexcept\u001b[0m \u001b[0mKeyError\u001b[0m \u001b[1;32mas\u001b[0m \u001b[0merr\u001b[0m\u001b[1;33m:\u001b[0m\u001b[1;33m\u001b[0m\u001b[1;33m\u001b[0m\u001b[0m\n",
      "\u001b[1;32mpandas\\_libs\\index.pyx\u001b[0m in \u001b[0;36mpandas._libs.index.IndexEngine.get_loc\u001b[1;34m()\u001b[0m\n",
      "\u001b[1;32mpandas\\_libs\\index.pyx\u001b[0m in \u001b[0;36mpandas._libs.index.IndexEngine.get_loc\u001b[1;34m()\u001b[0m\n",
      "\u001b[1;32mpandas\\_libs\\hashtable_class_helper.pxi\u001b[0m in \u001b[0;36mpandas._libs.hashtable.PyObjectHashTable.get_item\u001b[1;34m()\u001b[0m\n",
      "\u001b[1;32mpandas\\_libs\\hashtable_class_helper.pxi\u001b[0m in \u001b[0;36mpandas._libs.hashtable.PyObjectHashTable.get_item\u001b[1;34m()\u001b[0m\n",
      "\u001b[1;31mKeyError\u001b[0m: 'water_in_snow'",
      "\nThe above exception was the direct cause of the following exception:\n",
      "\u001b[1;31mKeyError\u001b[0m                                  Traceback (most recent call last)",
      "\u001b[1;32m<ipython-input-49-912e8637efa0>\u001b[0m in \u001b[0;36m<module>\u001b[1;34m\u001b[0m\n\u001b[1;32m----> 1\u001b[1;33m \u001b[0mX_train\u001b[0m\u001b[1;33m[\u001b[0m\u001b[1;34m'water_in_snow'\u001b[0m\u001b[1;33m]\u001b[0m\u001b[1;33m\u001b[0m\u001b[1;33m\u001b[0m\u001b[0m\n\u001b[0m",
      "\u001b[1;32m~\\Anaconda3\\lib\\site-packages\\pandas\\core\\frame.py\u001b[0m in \u001b[0;36m__getitem__\u001b[1;34m(self, key)\u001b[0m\n\u001b[0;32m   3022\u001b[0m             \u001b[1;32mif\u001b[0m \u001b[0mself\u001b[0m\u001b[1;33m.\u001b[0m\u001b[0mcolumns\u001b[0m\u001b[1;33m.\u001b[0m\u001b[0mnlevels\u001b[0m \u001b[1;33m>\u001b[0m \u001b[1;36m1\u001b[0m\u001b[1;33m:\u001b[0m\u001b[1;33m\u001b[0m\u001b[1;33m\u001b[0m\u001b[0m\n\u001b[0;32m   3023\u001b[0m                 \u001b[1;32mreturn\u001b[0m \u001b[0mself\u001b[0m\u001b[1;33m.\u001b[0m\u001b[0m_getitem_multilevel\u001b[0m\u001b[1;33m(\u001b[0m\u001b[0mkey\u001b[0m\u001b[1;33m)\u001b[0m\u001b[1;33m\u001b[0m\u001b[1;33m\u001b[0m\u001b[0m\n\u001b[1;32m-> 3024\u001b[1;33m             \u001b[0mindexer\u001b[0m \u001b[1;33m=\u001b[0m \u001b[0mself\u001b[0m\u001b[1;33m.\u001b[0m\u001b[0mcolumns\u001b[0m\u001b[1;33m.\u001b[0m\u001b[0mget_loc\u001b[0m\u001b[1;33m(\u001b[0m\u001b[0mkey\u001b[0m\u001b[1;33m)\u001b[0m\u001b[1;33m\u001b[0m\u001b[1;33m\u001b[0m\u001b[0m\n\u001b[0m\u001b[0;32m   3025\u001b[0m             \u001b[1;32mif\u001b[0m \u001b[0mis_integer\u001b[0m\u001b[1;33m(\u001b[0m\u001b[0mindexer\u001b[0m\u001b[1;33m)\u001b[0m\u001b[1;33m:\u001b[0m\u001b[1;33m\u001b[0m\u001b[1;33m\u001b[0m\u001b[0m\n\u001b[0;32m   3026\u001b[0m                 \u001b[0mindexer\u001b[0m \u001b[1;33m=\u001b[0m \u001b[1;33m[\u001b[0m\u001b[0mindexer\u001b[0m\u001b[1;33m]\u001b[0m\u001b[1;33m\u001b[0m\u001b[1;33m\u001b[0m\u001b[0m\n",
      "\u001b[1;32m~\\Anaconda3\\lib\\site-packages\\pandas\\core\\indexes\\base.py\u001b[0m in \u001b[0;36mget_loc\u001b[1;34m(self, key, method, tolerance)\u001b[0m\n\u001b[0;32m   3080\u001b[0m                 \u001b[1;32mreturn\u001b[0m \u001b[0mself\u001b[0m\u001b[1;33m.\u001b[0m\u001b[0m_engine\u001b[0m\u001b[1;33m.\u001b[0m\u001b[0mget_loc\u001b[0m\u001b[1;33m(\u001b[0m\u001b[0mcasted_key\u001b[0m\u001b[1;33m)\u001b[0m\u001b[1;33m\u001b[0m\u001b[1;33m\u001b[0m\u001b[0m\n\u001b[0;32m   3081\u001b[0m             \u001b[1;32mexcept\u001b[0m \u001b[0mKeyError\u001b[0m \u001b[1;32mas\u001b[0m \u001b[0merr\u001b[0m\u001b[1;33m:\u001b[0m\u001b[1;33m\u001b[0m\u001b[1;33m\u001b[0m\u001b[0m\n\u001b[1;32m-> 3082\u001b[1;33m                 \u001b[1;32mraise\u001b[0m \u001b[0mKeyError\u001b[0m\u001b[1;33m(\u001b[0m\u001b[0mkey\u001b[0m\u001b[1;33m)\u001b[0m \u001b[1;32mfrom\u001b[0m \u001b[0merr\u001b[0m\u001b[1;33m\u001b[0m\u001b[1;33m\u001b[0m\u001b[0m\n\u001b[0m\u001b[0;32m   3083\u001b[0m \u001b[1;33m\u001b[0m\u001b[0m\n\u001b[0;32m   3084\u001b[0m         \u001b[1;32mif\u001b[0m \u001b[0mtolerance\u001b[0m \u001b[1;32mis\u001b[0m \u001b[1;32mnot\u001b[0m \u001b[1;32mNone\u001b[0m\u001b[1;33m:\u001b[0m\u001b[1;33m\u001b[0m\u001b[1;33m\u001b[0m\u001b[0m\n",
      "\u001b[1;31mKeyError\u001b[0m: 'water_in_snow'"
     ]
    }
   ],
   "source": [
    "X_train['water_in_snow']"
   ]
  },
  {
   "cell_type": "code",
   "execution_count": 50,
   "metadata": {},
   "outputs": [
    {
     "ename": "FileNotFoundError",
     "evalue": "[Errno 2] No such file or directory: '..//00_data/train_test_data\\\\track_1/meteo_1day'",
     "output_type": "error",
     "traceback": [
      "\u001b[1;31m---------------------------------------------------------------------------\u001b[0m",
      "\u001b[1;31mFileNotFoundError\u001b[0m                         Traceback (most recent call last)",
      "\u001b[1;32m<ipython-input-50-274e1bcb2aa7>\u001b[0m in \u001b[0;36m<module>\u001b[1;34m\u001b[0m\n\u001b[1;32m----> 1\u001b[1;33m \u001b[0mmeteo\u001b[0m \u001b[1;33m=\u001b[0m \u001b[0mpd\u001b[0m\u001b[1;33m.\u001b[0m\u001b[0mread_csv\u001b[0m\u001b[1;33m(\u001b[0m\u001b[0mos\u001b[0m\u001b[1;33m.\u001b[0m\u001b[0mpath\u001b[0m\u001b[1;33m.\u001b[0m\u001b[0mjoin\u001b[0m\u001b[1;33m(\u001b[0m\u001b[0mpath_to_data\u001b[0m\u001b[1;33m,\u001b[0m \u001b[1;34m'track_1/meteo_1day'\u001b[0m\u001b[1;33m)\u001b[0m\u001b[1;33m)\u001b[0m\u001b[1;33m\u001b[0m\u001b[1;33m\u001b[0m\u001b[0m\n\u001b[0m",
      "\u001b[1;32m~\\Anaconda3\\lib\\site-packages\\pandas\\io\\parsers.py\u001b[0m in \u001b[0;36mread_csv\u001b[1;34m(filepath_or_buffer, sep, delimiter, header, names, index_col, usecols, squeeze, prefix, mangle_dupe_cols, dtype, engine, converters, true_values, false_values, skipinitialspace, skiprows, skipfooter, nrows, na_values, keep_default_na, na_filter, verbose, skip_blank_lines, parse_dates, infer_datetime_format, keep_date_col, date_parser, dayfirst, cache_dates, iterator, chunksize, compression, thousands, decimal, lineterminator, quotechar, quoting, doublequote, escapechar, comment, encoding, dialect, error_bad_lines, warn_bad_lines, delim_whitespace, low_memory, memory_map, float_precision, storage_options)\u001b[0m\n\u001b[0;32m    608\u001b[0m     \u001b[0mkwds\u001b[0m\u001b[1;33m.\u001b[0m\u001b[0mupdate\u001b[0m\u001b[1;33m(\u001b[0m\u001b[0mkwds_defaults\u001b[0m\u001b[1;33m)\u001b[0m\u001b[1;33m\u001b[0m\u001b[1;33m\u001b[0m\u001b[0m\n\u001b[0;32m    609\u001b[0m \u001b[1;33m\u001b[0m\u001b[0m\n\u001b[1;32m--> 610\u001b[1;33m     \u001b[1;32mreturn\u001b[0m \u001b[0m_read\u001b[0m\u001b[1;33m(\u001b[0m\u001b[0mfilepath_or_buffer\u001b[0m\u001b[1;33m,\u001b[0m \u001b[0mkwds\u001b[0m\u001b[1;33m)\u001b[0m\u001b[1;33m\u001b[0m\u001b[1;33m\u001b[0m\u001b[0m\n\u001b[0m\u001b[0;32m    611\u001b[0m \u001b[1;33m\u001b[0m\u001b[0m\n\u001b[0;32m    612\u001b[0m \u001b[1;33m\u001b[0m\u001b[0m\n",
      "\u001b[1;32m~\\Anaconda3\\lib\\site-packages\\pandas\\io\\parsers.py\u001b[0m in \u001b[0;36m_read\u001b[1;34m(filepath_or_buffer, kwds)\u001b[0m\n\u001b[0;32m    460\u001b[0m \u001b[1;33m\u001b[0m\u001b[0m\n\u001b[0;32m    461\u001b[0m     \u001b[1;31m# Create the parser.\u001b[0m\u001b[1;33m\u001b[0m\u001b[1;33m\u001b[0m\u001b[1;33m\u001b[0m\u001b[0m\n\u001b[1;32m--> 462\u001b[1;33m     \u001b[0mparser\u001b[0m \u001b[1;33m=\u001b[0m \u001b[0mTextFileReader\u001b[0m\u001b[1;33m(\u001b[0m\u001b[0mfilepath_or_buffer\u001b[0m\u001b[1;33m,\u001b[0m \u001b[1;33m**\u001b[0m\u001b[0mkwds\u001b[0m\u001b[1;33m)\u001b[0m\u001b[1;33m\u001b[0m\u001b[1;33m\u001b[0m\u001b[0m\n\u001b[0m\u001b[0;32m    463\u001b[0m \u001b[1;33m\u001b[0m\u001b[0m\n\u001b[0;32m    464\u001b[0m     \u001b[1;32mif\u001b[0m \u001b[0mchunksize\u001b[0m \u001b[1;32mor\u001b[0m \u001b[0miterator\u001b[0m\u001b[1;33m:\u001b[0m\u001b[1;33m\u001b[0m\u001b[1;33m\u001b[0m\u001b[0m\n",
      "\u001b[1;32m~\\Anaconda3\\lib\\site-packages\\pandas\\io\\parsers.py\u001b[0m in \u001b[0;36m__init__\u001b[1;34m(self, f, engine, **kwds)\u001b[0m\n\u001b[0;32m    817\u001b[0m             \u001b[0mself\u001b[0m\u001b[1;33m.\u001b[0m\u001b[0moptions\u001b[0m\u001b[1;33m[\u001b[0m\u001b[1;34m\"has_index_names\"\u001b[0m\u001b[1;33m]\u001b[0m \u001b[1;33m=\u001b[0m \u001b[0mkwds\u001b[0m\u001b[1;33m[\u001b[0m\u001b[1;34m\"has_index_names\"\u001b[0m\u001b[1;33m]\u001b[0m\u001b[1;33m\u001b[0m\u001b[1;33m\u001b[0m\u001b[0m\n\u001b[0;32m    818\u001b[0m \u001b[1;33m\u001b[0m\u001b[0m\n\u001b[1;32m--> 819\u001b[1;33m         \u001b[0mself\u001b[0m\u001b[1;33m.\u001b[0m\u001b[0m_engine\u001b[0m \u001b[1;33m=\u001b[0m \u001b[0mself\u001b[0m\u001b[1;33m.\u001b[0m\u001b[0m_make_engine\u001b[0m\u001b[1;33m(\u001b[0m\u001b[0mself\u001b[0m\u001b[1;33m.\u001b[0m\u001b[0mengine\u001b[0m\u001b[1;33m)\u001b[0m\u001b[1;33m\u001b[0m\u001b[1;33m\u001b[0m\u001b[0m\n\u001b[0m\u001b[0;32m    820\u001b[0m \u001b[1;33m\u001b[0m\u001b[0m\n\u001b[0;32m    821\u001b[0m     \u001b[1;32mdef\u001b[0m \u001b[0mclose\u001b[0m\u001b[1;33m(\u001b[0m\u001b[0mself\u001b[0m\u001b[1;33m)\u001b[0m\u001b[1;33m:\u001b[0m\u001b[1;33m\u001b[0m\u001b[1;33m\u001b[0m\u001b[0m\n",
      "\u001b[1;32m~\\Anaconda3\\lib\\site-packages\\pandas\\io\\parsers.py\u001b[0m in \u001b[0;36m_make_engine\u001b[1;34m(self, engine)\u001b[0m\n\u001b[0;32m   1048\u001b[0m             )\n\u001b[0;32m   1049\u001b[0m         \u001b[1;31m# error: Too many arguments for \"ParserBase\"\u001b[0m\u001b[1;33m\u001b[0m\u001b[1;33m\u001b[0m\u001b[1;33m\u001b[0m\u001b[0m\n\u001b[1;32m-> 1050\u001b[1;33m         \u001b[1;32mreturn\u001b[0m \u001b[0mmapping\u001b[0m\u001b[1;33m[\u001b[0m\u001b[0mengine\u001b[0m\u001b[1;33m]\u001b[0m\u001b[1;33m(\u001b[0m\u001b[0mself\u001b[0m\u001b[1;33m.\u001b[0m\u001b[0mf\u001b[0m\u001b[1;33m,\u001b[0m \u001b[1;33m**\u001b[0m\u001b[0mself\u001b[0m\u001b[1;33m.\u001b[0m\u001b[0moptions\u001b[0m\u001b[1;33m)\u001b[0m  \u001b[1;31m# type: ignore[call-arg]\u001b[0m\u001b[1;33m\u001b[0m\u001b[1;33m\u001b[0m\u001b[0m\n\u001b[0m\u001b[0;32m   1051\u001b[0m \u001b[1;33m\u001b[0m\u001b[0m\n\u001b[0;32m   1052\u001b[0m     \u001b[1;32mdef\u001b[0m \u001b[0m_failover_to_python\u001b[0m\u001b[1;33m(\u001b[0m\u001b[0mself\u001b[0m\u001b[1;33m)\u001b[0m\u001b[1;33m:\u001b[0m\u001b[1;33m\u001b[0m\u001b[1;33m\u001b[0m\u001b[0m\n",
      "\u001b[1;32m~\\Anaconda3\\lib\\site-packages\\pandas\\io\\parsers.py\u001b[0m in \u001b[0;36m__init__\u001b[1;34m(self, src, **kwds)\u001b[0m\n\u001b[0;32m   1865\u001b[0m \u001b[1;33m\u001b[0m\u001b[0m\n\u001b[0;32m   1866\u001b[0m         \u001b[1;31m# open handles\u001b[0m\u001b[1;33m\u001b[0m\u001b[1;33m\u001b[0m\u001b[1;33m\u001b[0m\u001b[0m\n\u001b[1;32m-> 1867\u001b[1;33m         \u001b[0mself\u001b[0m\u001b[1;33m.\u001b[0m\u001b[0m_open_handles\u001b[0m\u001b[1;33m(\u001b[0m\u001b[0msrc\u001b[0m\u001b[1;33m,\u001b[0m \u001b[0mkwds\u001b[0m\u001b[1;33m)\u001b[0m\u001b[1;33m\u001b[0m\u001b[1;33m\u001b[0m\u001b[0m\n\u001b[0m\u001b[0;32m   1868\u001b[0m         \u001b[1;32massert\u001b[0m \u001b[0mself\u001b[0m\u001b[1;33m.\u001b[0m\u001b[0mhandles\u001b[0m \u001b[1;32mis\u001b[0m \u001b[1;32mnot\u001b[0m \u001b[1;32mNone\u001b[0m\u001b[1;33m\u001b[0m\u001b[1;33m\u001b[0m\u001b[0m\n\u001b[0;32m   1869\u001b[0m         \u001b[1;32mfor\u001b[0m \u001b[0mkey\u001b[0m \u001b[1;32min\u001b[0m \u001b[1;33m(\u001b[0m\u001b[1;34m\"storage_options\"\u001b[0m\u001b[1;33m,\u001b[0m \u001b[1;34m\"encoding\"\u001b[0m\u001b[1;33m,\u001b[0m \u001b[1;34m\"memory_map\"\u001b[0m\u001b[1;33m,\u001b[0m \u001b[1;34m\"compression\"\u001b[0m\u001b[1;33m)\u001b[0m\u001b[1;33m:\u001b[0m\u001b[1;33m\u001b[0m\u001b[1;33m\u001b[0m\u001b[0m\n",
      "\u001b[1;32m~\\Anaconda3\\lib\\site-packages\\pandas\\io\\parsers.py\u001b[0m in \u001b[0;36m_open_handles\u001b[1;34m(self, src, kwds)\u001b[0m\n\u001b[0;32m   1366\u001b[0m             \u001b[0mcompression\u001b[0m\u001b[1;33m=\u001b[0m\u001b[0mkwds\u001b[0m\u001b[1;33m.\u001b[0m\u001b[0mget\u001b[0m\u001b[1;33m(\u001b[0m\u001b[1;34m\"compression\"\u001b[0m\u001b[1;33m,\u001b[0m \u001b[1;32mNone\u001b[0m\u001b[1;33m)\u001b[0m\u001b[1;33m,\u001b[0m\u001b[1;33m\u001b[0m\u001b[1;33m\u001b[0m\u001b[0m\n\u001b[0;32m   1367\u001b[0m             \u001b[0mmemory_map\u001b[0m\u001b[1;33m=\u001b[0m\u001b[0mkwds\u001b[0m\u001b[1;33m.\u001b[0m\u001b[0mget\u001b[0m\u001b[1;33m(\u001b[0m\u001b[1;34m\"memory_map\"\u001b[0m\u001b[1;33m,\u001b[0m \u001b[1;32mFalse\u001b[0m\u001b[1;33m)\u001b[0m\u001b[1;33m,\u001b[0m\u001b[1;33m\u001b[0m\u001b[1;33m\u001b[0m\u001b[0m\n\u001b[1;32m-> 1368\u001b[1;33m             \u001b[0mstorage_options\u001b[0m\u001b[1;33m=\u001b[0m\u001b[0mkwds\u001b[0m\u001b[1;33m.\u001b[0m\u001b[0mget\u001b[0m\u001b[1;33m(\u001b[0m\u001b[1;34m\"storage_options\"\u001b[0m\u001b[1;33m,\u001b[0m \u001b[1;32mNone\u001b[0m\u001b[1;33m)\u001b[0m\u001b[1;33m,\u001b[0m\u001b[1;33m\u001b[0m\u001b[1;33m\u001b[0m\u001b[0m\n\u001b[0m\u001b[0;32m   1369\u001b[0m         )\n\u001b[0;32m   1370\u001b[0m \u001b[1;33m\u001b[0m\u001b[0m\n",
      "\u001b[1;32m~\\Anaconda3\\lib\\site-packages\\pandas\\io\\common.py\u001b[0m in \u001b[0;36mget_handle\u001b[1;34m(path_or_buf, mode, encoding, compression, memory_map, is_text, errors, storage_options)\u001b[0m\n\u001b[0;32m    645\u001b[0m                 \u001b[0mencoding\u001b[0m\u001b[1;33m=\u001b[0m\u001b[0mioargs\u001b[0m\u001b[1;33m.\u001b[0m\u001b[0mencoding\u001b[0m\u001b[1;33m,\u001b[0m\u001b[1;33m\u001b[0m\u001b[1;33m\u001b[0m\u001b[0m\n\u001b[0;32m    646\u001b[0m                 \u001b[0merrors\u001b[0m\u001b[1;33m=\u001b[0m\u001b[0merrors\u001b[0m\u001b[1;33m,\u001b[0m\u001b[1;33m\u001b[0m\u001b[1;33m\u001b[0m\u001b[0m\n\u001b[1;32m--> 647\u001b[1;33m                 \u001b[0mnewline\u001b[0m\u001b[1;33m=\u001b[0m\u001b[1;34m\"\"\u001b[0m\u001b[1;33m,\u001b[0m\u001b[1;33m\u001b[0m\u001b[1;33m\u001b[0m\u001b[0m\n\u001b[0m\u001b[0;32m    648\u001b[0m             )\n\u001b[0;32m    649\u001b[0m         \u001b[1;32melse\u001b[0m\u001b[1;33m:\u001b[0m\u001b[1;33m\u001b[0m\u001b[1;33m\u001b[0m\u001b[0m\n",
      "\u001b[1;31mFileNotFoundError\u001b[0m: [Errno 2] No such file or directory: '..//00_data/train_test_data\\\\track_1/meteo_1day'"
     ]
    }
   ],
   "source": [
    "meteo = pd.read_csv(os.path.join(path_to_data, 'track_1/meteo_1day'))"
   ]
  }
 ],
 "metadata": {
  "kernelspec": {
   "display_name": "Python 3",
   "language": "python",
   "name": "python3"
  },
  "language_info": {
   "codemirror_mode": {
    "name": "ipython",
    "version": 3
   },
   "file_extension": ".py",
   "mimetype": "text/x-python",
   "name": "python",
   "nbconvert_exporter": "python",
   "pygments_lexer": "ipython3",
   "version": "3.7.4"
  }
 },
 "nbformat": 4,
 "nbformat_minor": 2
}
