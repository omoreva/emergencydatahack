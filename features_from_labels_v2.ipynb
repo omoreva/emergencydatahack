{
 "cells": [
  {
   "cell_type": "code",
   "execution_count": 1,
   "metadata": {},
   "outputs": [
    {
     "name": "stderr",
     "output_type": "stream",
     "text": [
      "C:\\Users\\omore\\Anaconda3\\lib\\site-packages\\dask\\dataframe\\utils.py:14: FutureWarning: pandas.util.testing is deprecated. Use the functions in the public API at pandas.testing instead.\n",
      "  import pandas.util.testing as tm\n"
     ]
    }
   ],
   "source": [
    "import pandas as pd\n",
    "import numpy as np\n",
    "from sklearn.model_selection import train_test_split\n",
    "from sklearn.ensemble import RandomForestClassifier\n",
    "from sklearn.metrics import accuracy_score, recall_score, precision_score, f1_score, roc_auc_score\n",
    "import os\n",
    "from sklearn.metrics import f1_score\n",
    "pd.options.display.max_columns = None\n",
    "import matplotlib.pyplot as plt\n",
    "from sklearn.model_selection import GridSearchCV, TimeSeriesSplit\n",
    "from sklearn import metrics\n",
    "from sklearn.metrics import plot_confusion_matrix\n",
    "from datetime import datetime\n",
    "from xgboost import XGBClassifier\n",
    "import seaborn as sns\n"
   ]
  },
  {
   "cell_type": "code",
   "execution_count": 2,
   "metadata": {},
   "outputs": [],
   "source": [
    "# Путь к директории с данными\n",
    "\n",
    "data_dir = '../00_data/track_1/'\n",
    "extra_data_dir =  '../00_data/1_track_extra_train/'\n",
    "sumbit_dir = '../02_submits/'\n",
    "preprocessed_dir = '../03_preprocessed_data/'\n",
    "\n",
    "# Метео\n",
    "mc = pd.read_csv(data_dir + 'meteo_coord.csv')\n",
    "mld = pd.read_csv(data_dir + 'meteo_1day.csv')\n",
    "mlm = pd.read_csv(data_dir + 'meteo_1month.csv')\n",
    "#m3h = pd.read_csv(data_dir + 'meteo_3hours.csv')\n",
    "rhv = pd.read_csv(data_dir + 'reference_horiz_visib.csv')\n",
    "main_df = pd.read_csv(data_dir + 'train.csv')\n",
    "test = pd.read_csv(data_dir + 'test.csv')\n",
    "\n",
    "# Гидро\n",
    "hc = pd.read_csv(data_dir + 'hydro_coord.csv')\n",
    "hld = pd.read_csv(data_dir + 'hydro_1day.csv',\n",
    "                   parse_dates=['date'])\n",
    "h1d_extra = pd.read_csv(extra_data_dir + 'hydro_1day.csv',\n",
    "                   parse_dates=['date'])\n",
    "\n",
    "hld = pd.concat([hld, h1d_extra])\n",
    "rwc = pd.read_csv(data_dir + 'reference_water_codes.csv')\n",
    "# даные реанализа сгенерированные Addidional_data.ipynb\n",
    "all_pressure_data_level_1000 = pd.read_pickle(preprocessed_dir + 'all_pressure_data_level_1000.pkl')"
   ]
  },
  {
   "cell_type": "markdown",
   "metadata": {},
   "source": [
    "Проранжируем станции по течению реки. Для каждой станции найдем станцию вверх по течению, добавим ширину реки"
   ]
  },
  {
   "cell_type": "code",
   "execution_count": 3,
   "metadata": {},
   "outputs": [],
   "source": [
    "# Проранжировать станции по течению реки\n",
    "# 3019 Киренск\n",
    "# 3027 Витим\n",
    "# 3028 Пелендуй\n",
    "# 3029 КРЕСТОВСКОЕ \n",
    "# 3030 ЛЕНСК \n",
    "# 3035 ОЛЕКМИНСК \n",
    "# 3041 ПОКРОВСК \n",
    "# 3045 ЯКУТСК \n",
    "# 3230 БАТАМАЙ \n",
    "# 3050 САНГАРЫ \n",
    "\n",
    "station_id_ordered = [3019, 3027, 3028, 3029, 3030, 3035, 3041, 3045,  3230, 3050]\n",
    "station_id_rank = range(0, len(station_id_ordered))\n",
    "station_id_rank = dict(zip(station_id_ordered, station_id_rank))\n",
    "previous_station = [-1] + station_id_ordered[:-1]\n",
    "previous_station = dict(zip(station_id_ordered, previous_station))\n",
    "station_width = [412, 538, 654, 832, 1000, 2070, 4100, 7390, 9000, 5370]\n",
    "station_width =  dict(zip(station_id_ordered, station_width))"
   ]
  },
  {
   "cell_type": "markdown",
   "metadata": {},
   "source": [
    "Из данных реанализа удалим неиспользованные переменные и неиспользуемые станции"
   ]
  },
  {
   "cell_type": "code",
   "execution_count": 4,
   "metadata": {},
   "outputs": [],
   "source": [
    "all_pressure_data_level_1000['station_id'] = all_pressure_data_level_1000['station_id'].astype(int)\n",
    "all_pressure_data_level_1000 = all_pressure_data_level_1000.reset_index()\n",
    "all_pressure_data_level_1000 = all_pressure_data_level_1000.drop(['lat', 'lon'], axis = 1)\n",
    "all_pressure_data_level_1000['date']= all_pressure_data_level_1000['time'].dt.date.astype(str)\n",
    "all_pressure_data_level_1000 = all_pressure_data_level_1000[all_pressure_data_level_1000['station_id'].isin(station_id_ordered)]"
   ]
  },
  {
   "cell_type": "code",
   "execution_count": 5,
   "metadata": {},
   "outputs": [],
   "source": [
    "# calculate_height_difference\n",
    "# distance_from_source - расстояние от истока\n",
    "# z_null - высотная отметка нуля графика на гидропосте\n",
    "def calculate_height_difference(dataframe_with_stations):\n",
    "    dataframe_with_stations=dataframe_with_stations.sort_values(by = 'distance_from_source')\n",
    "    dataframe_with_stations['height_difference'] = dataframe_with_stations['z_null'] - dataframe_with_stations['z_null'].shift(1) \n",
    "    dataframe_with_stations['distance_to_previous'] = dataframe_with_stations['distance_from_source'] - dataframe_with_stations['distance_from_source'].shift(1)\n",
    "    dataframe_with_stations['height_diff_by_dist'] = dataframe_with_stations['height_difference']/dataframe_with_stations['distance_to_previous']\n",
    "    dataframe_with_stations.fillna(0, inplace = True)\n",
    "    return dataframe_with_stations"
   ]
  },
  {
   "cell_type": "markdown",
   "metadata": {},
   "source": [
    "# Гидрологические данные"
   ]
  },
  {
   "cell_type": "code",
   "execution_count": 6,
   "metadata": {},
   "outputs": [
    {
     "data": {
      "text/plain": [
       "<matplotlib.axes._subplots.AxesSubplot at 0x1b5d73781c8>"
      ]
     },
     "execution_count": 6,
     "metadata": {},
     "output_type": "execute_result"
    },
    {
     "data": {
      "image/png": "[encoded data removed]",
      "text/plain": [
       "<Figure size 432x288 with 1 Axes>"
      ]
     },
     "metadata": {
      "needs_background": "light"
     },
     "output_type": "display_data"
    }
   ],
   "source": [
    "hld = hld[hld['station_id'].isin(station_id_ordered)]\n",
    "sns.heatmap(hld.isnull(), cbar=False)"
   ]
  },
  {
   "cell_type": "markdown",
   "metadata": {},
   "source": [
    "В летние месяцы заполнить толщину льда и высоту снена нулем. В остальные дни сделать интерполяцию по дате для каждой станции."
   ]
  },
  {
   "cell_type": "code",
   "execution_count": 7,
   "metadata": {},
   "outputs": [
    {
     "name": "stderr",
     "output_type": "stream",
     "text": [
      "C:\\Users\\omore\\Anaconda3\\lib\\site-packages\\ipykernel_launcher.py:6: FutureWarning: Indexing with multiple keys (implicitly converted to a tuple of keys) will be deprecated, use a list instead.\n",
      "  \n"
     ]
    }
   ],
   "source": [
    "months_with_ice = hld.loc[ hld['ice_thickness'] > 0, 'month'].unique()\n",
    "hld.loc[~(hld['month'].isin(months_with_ice)), 'ice_thickness'] = 0\n",
    "hld.loc[~(hld['month'].isin(months_with_ice)), 'snow_height'] = 0\n",
    "hld = hld.sort_values(['station_id', 'year', 'day'])\n",
    "hld[['ice_thickness', 'snow_height']] = hld.\\\n",
    "    groupby('station_id')['ice_thickness',  'snow_height'].\\\n",
    "    apply(lambda group: group.interpolate(method='index'))"
   ]
  },
  {
   "cell_type": "code",
   "execution_count": 8,
   "metadata": {},
   "outputs": [],
   "source": [
    "hld[['ice_thickness', 'snow_height']] = hld[['ice_thickness', 'snow_height']].fillna(method='bfill', limit=20)"
   ]
  },
  {
   "cell_type": "markdown",
   "metadata": {},
   "source": [
    "Пропущенную температуру воды заполним нулем"
   ]
  },
  {
   "cell_type": "code",
   "execution_count": 9,
   "metadata": {},
   "outputs": [],
   "source": [
    "hld['temp'] = hld['temp'].fillna(0)"
   ]
  },
  {
   "cell_type": "markdown",
   "metadata": {},
   "source": [
    "Place заполнить нулем в летние месяцы и паддингом назад в остальные"
   ]
  },
  {
   "cell_type": "code",
   "execution_count": 10,
   "metadata": {},
   "outputs": [],
   "source": [
    "hld.loc[~(hld['month'].isin(months_with_ice)), 'place'] = 0\n",
    "hld['place'] = hld['place'].fillna(method='bfill', limit=20)"
   ]
  },
  {
   "cell_type": "code",
   "execution_count": 11,
   "metadata": {},
   "outputs": [],
   "source": [
    "hld = hld.drop(['discharge'], axis = 1)"
   ]
  },
  {
   "cell_type": "markdown",
   "metadata": {},
   "source": [
    "# Метеорологические данные"
   ]
  },
  {
   "cell_type": "code",
   "execution_count": 12,
   "metadata": {},
   "outputs": [
    {
     "data": {
      "text/plain": [
       "<matplotlib.axes._subplots.AxesSubplot at 0x1b5eb83ff48>"
      ]
     },
     "execution_count": 12,
     "metadata": {},
     "output_type": "execute_result"
    },
    {
     "data": {
      "image/png": "[encoded data removed]",
      "text/plain": [
       "<Figure size 432x288 with 1 Axes>"
      ]
     },
     "metadata": {
      "needs_background": "light"
     },
     "output_type": "display_data"
    }
   ],
   "source": [
    "mlm = mlm.sort_values(['station_id', 'year', 'month'])\n",
    "sns.heatmap(mlm.isnull(), cbar=False)"
   ]
  },
  {
   "cell_type": "markdown",
   "metadata": {},
   "source": [
    " Заполним пропуски интерполяцией по времени для каждой станции"
   ]
  },
  {
   "cell_type": "code",
   "execution_count": 13,
   "metadata": {},
   "outputs": [],
   "source": [
    "mlm = mlm.sort_values(['station_id', 'year', 'month'])\n",
    "num_cols = ['precipitation_observed',\n",
    "            'precipitation_corrected', \n",
    "            'precipitation_corrected_liquid',\n",
    "           'precipitation_corrected_mixed',\n",
    "           'precipitation_corrected_solid',\n",
    "           'sunshine_hours']\n",
    "mlm[num_cols] = mlm[num_cols + ['station_id']].groupby('station_id').\\\n",
    "    apply(lambda group: group.interpolate(method='index')).drop('station_id', axis = 1)\n"
   ]
  },
  {
   "cell_type": "markdown",
   "metadata": {},
   "source": [
    "Остальные пропуски заполним паддингом назад"
   ]
  },
  {
   "cell_type": "code",
   "execution_count": 14,
   "metadata": {},
   "outputs": [],
   "source": [
    "mlm = mlm.fillna(method='bfill', limit=20)"
   ]
  },
  {
   "cell_type": "markdown",
   "metadata": {},
   "source": [
    "Соединим train и test, чтобы фичи генерировались и на тесте тоже"
   ]
  },
  {
   "cell_type": "code",
   "execution_count": 15,
   "metadata": {},
   "outputs": [],
   "source": [
    "main_df = pd.concat([main_df, test])\n",
    "main_df['is_test'] = main_df['ice_jam'].isnull()\n",
    "main_df['station_rank'] = main_df['station_id']\n",
    "main_df = main_df.replace({\"station_rank\": station_id_rank})\n",
    "main_df['station_width'] = main_df['station_id']\n",
    "main_df = main_df.replace({'station_width': station_width})\n",
    "main_df['previous_station'] = main_df['station_id']\n",
    "main_df = main_df.replace({\"previous_station\": previous_station})\n",
    "main_df['previous_station'] = main_df['previous_station'].astype(int)"
   ]
  },
  {
   "cell_type": "markdown",
   "metadata": {},
   "source": [
    "## Сгенерируем признаки из labels за предыдущие года"
   ]
  },
  {
   "cell_type": "markdown",
   "metadata": {},
   "source": [
    "### Затор в прошлом году в тот же день"
   ]
  },
  {
   "cell_type": "code",
   "execution_count": 16,
   "metadata": {},
   "outputs": [
    {
     "data": {
      "text/html": [
       "<div>\n",
       "<style scoped>\n",
       "    .dataframe tbody tr th:only-of-type {\n",
       "        vertical-align: middle;\n",
       "    }\n",
       "\n",
       "    .dataframe tbody tr th {\n",
       "        vertical-align: top;\n",
       "    }\n",
       "\n",
       "    .dataframe thead th {\n",
       "        text-align: right;\n",
       "    }\n",
       "</style>\n",
       "<table border=\"1\" class=\"dataframe\">\n",
       "  <thead>\n",
       "    <tr style=\"text-align: right;\">\n",
       "      <th></th>\n",
       "      <th>year</th>\n",
       "      <th>station_id</th>\n",
       "      <th>day</th>\n",
       "      <th>ice_jam</th>\n",
       "      <th>is_test</th>\n",
       "      <th>station_rank</th>\n",
       "      <th>station_width</th>\n",
       "      <th>previous_station</th>\n",
       "      <th>previous_year</th>\n",
       "      <th>ice_jam_same_day_last_year</th>\n",
       "    </tr>\n",
       "  </thead>\n",
       "  <tbody>\n",
       "    <tr>\n",
       "      <th>0</th>\n",
       "      <td>2000</td>\n",
       "      <td>3019</td>\n",
       "      <td>1</td>\n",
       "      <td>0.0</td>\n",
       "      <td>False</td>\n",
       "      <td>0</td>\n",
       "      <td>412</td>\n",
       "      <td>-1</td>\n",
       "      <td>1999</td>\n",
       "      <td>0.0</td>\n",
       "    </tr>\n",
       "    <tr>\n",
       "      <th>1</th>\n",
       "      <td>2000</td>\n",
       "      <td>3019</td>\n",
       "      <td>2</td>\n",
       "      <td>0.0</td>\n",
       "      <td>False</td>\n",
       "      <td>0</td>\n",
       "      <td>412</td>\n",
       "      <td>-1</td>\n",
       "      <td>1999</td>\n",
       "      <td>0.0</td>\n",
       "    </tr>\n",
       "    <tr>\n",
       "      <th>2</th>\n",
       "      <td>2000</td>\n",
       "      <td>3019</td>\n",
       "      <td>3</td>\n",
       "      <td>0.0</td>\n",
       "      <td>False</td>\n",
       "      <td>0</td>\n",
       "      <td>412</td>\n",
       "      <td>-1</td>\n",
       "      <td>1999</td>\n",
       "      <td>0.0</td>\n",
       "    </tr>\n",
       "    <tr>\n",
       "      <th>3</th>\n",
       "      <td>2000</td>\n",
       "      <td>3019</td>\n",
       "      <td>4</td>\n",
       "      <td>0.0</td>\n",
       "      <td>False</td>\n",
       "      <td>0</td>\n",
       "      <td>412</td>\n",
       "      <td>-1</td>\n",
       "      <td>1999</td>\n",
       "      <td>0.0</td>\n",
       "    </tr>\n",
       "    <tr>\n",
       "      <th>4</th>\n",
       "      <td>2000</td>\n",
       "      <td>3019</td>\n",
       "      <td>5</td>\n",
       "      <td>0.0</td>\n",
       "      <td>False</td>\n",
       "      <td>0</td>\n",
       "      <td>412</td>\n",
       "      <td>-1</td>\n",
       "      <td>1999</td>\n",
       "      <td>0.0</td>\n",
       "    </tr>\n",
       "  </tbody>\n",
       "</table>\n",
       "</div>"
      ],
      "text/plain": [
       "   year  station_id  day  ice_jam  is_test  station_rank  station_width  \\\n",
       "0  2000        3019    1      0.0    False             0            412   \n",
       "1  2000        3019    2      0.0    False             0            412   \n",
       "2  2000        3019    3      0.0    False             0            412   \n",
       "3  2000        3019    4      0.0    False             0            412   \n",
       "4  2000        3019    5      0.0    False             0            412   \n",
       "\n",
       "   previous_station  previous_year  ice_jam_same_day_last_year  \n",
       "0                -1           1999                         0.0  \n",
       "1                -1           1999                         0.0  \n",
       "2                -1           1999                         0.0  \n",
       "3                -1           1999                         0.0  \n",
       "4                -1           1999                         0.0  "
      ]
     },
     "execution_count": 16,
     "metadata": {},
     "output_type": "execute_result"
    }
   ],
   "source": [
    "main_df['previous_year'] = main_df['year'] - 1\n",
    "X = main_df.merge(\n",
    "        main_df[['year', 'day', 'station_id','ice_jam']], \n",
    "        how = 'left', \n",
    "        left_on = ['previous_year', 'day', 'station_id'],\n",
    "        right_on = ['year', 'day', 'station_id'])\\\n",
    "            .drop(['year_y'], axis =1)\\\n",
    "            .rename(columns={\n",
    "                'year_x':'year', \n",
    "                'ice_jam_x':'ice_jam',\n",
    "                'ice_jam_y':'ice_jam_same_day_last_year',             \n",
    "                'previous_station_x':'previous_station',\n",
    "                'station_rank_x': 'station_rank',\n",
    "                'previous_year_x': 'previous_year',\n",
    "                'is_test_x':'is_test'})\n",
    "\n",
    "main_df = main_df.drop('previous_year', axis = 1)\n",
    "X.head()"
   ]
  },
  {
   "cell_type": "markdown",
   "metadata": {},
   "source": [
    "### Затор в прошлом году в тот же день на предыдущей станции"
   ]
  },
  {
   "cell_type": "code",
   "execution_count": 17,
   "metadata": {},
   "outputs": [],
   "source": [
    "X = X.merge(main_df[['year', 'day', 'station_id', 'ice_jam']], \n",
    "            how = 'left', \n",
    "            left_on = ['previous_year', 'day', 'previous_station'],\n",
    "            right_on = ['year', 'day', 'station_id'])\\\n",
    "    .drop(['year_y', 'station_id_y'], axis =1)\\\n",
    "    .rename(columns={'year_x':'year',\n",
    "                 'station_id_x':'station_id',\n",
    "                 'ice_jam_x':'ice_jam',\n",
    "                 'ice_jam_y':'ice_jam_same_day_last_year_prev_stat'})"
   ]
  },
  {
   "cell_type": "code",
   "execution_count": 18,
   "metadata": {},
   "outputs": [],
   "source": [
    "X = X.fillna(0)"
   ]
  },
  {
   "cell_type": "markdown",
   "metadata": {},
   "source": [
    "### Затор в позапрошлом году в тот же день"
   ]
  },
  {
   "cell_type": "code",
   "execution_count": 19,
   "metadata": {},
   "outputs": [],
   "source": [
    "X['preprevious_year'] = X['year'] - 2\n",
    "X = X.merge(main_df[['year', 'day', 'station_id', 'ice_jam']],\n",
    "              how = 'left', \n",
    "              left_on = ['preprevious_year', 'day', 'station_id'],\n",
    "              right_on = ['year', 'day', 'station_id']\n",
    "             )\\\n",
    "    .drop(['preprevious_year', 'year_y'], axis = 1)\\\n",
    "    .rename(columns={'year_x':'year', \n",
    "                     'ice_jam_x':'ice_jam',\n",
    "                     'ice_jam_y':'ice_jam_same_day_prelast_year'})"
   ]
  },
  {
   "cell_type": "markdown",
   "metadata": {},
   "source": [
    "### Индикатор - есть ли данные по заторам за прошлый год"
   ]
  },
  {
   "cell_type": "code",
   "execution_count": 20,
   "metadata": {},
   "outputs": [
    {
     "data": {
      "text/plain": [
       "(15183, 14)"
      ]
     },
     "execution_count": 20,
     "metadata": {},
     "output_type": "execute_result"
    }
   ],
   "source": [
    "X['is_last_year_missing'] = X['ice_jam_same_day_last_year'].isnull()\n",
    "X['is_prelast_year_missing'] = X['ice_jam_same_day_prelast_year'].isnull()\n",
    "X = X.fillna(0)\n",
    "X.shape"
   ]
  },
  {
   "cell_type": "markdown",
   "metadata": {},
   "source": [
    "### Количество заторов в прошлом году"
   ]
  },
  {
   "cell_type": "code",
   "execution_count": 21,
   "metadata": {},
   "outputs": [
    {
     "data": {
      "text/plain": [
       "(15183, 16)"
      ]
     },
     "execution_count": 21,
     "metadata": {},
     "output_type": "execute_result"
    }
   ],
   "source": [
    "X[['n_jams_last_year','n_jams_prelast_year']] = \\\n",
    "    X.groupby(['year', 'station_id'])[['ice_jam_same_day_last_year', 'ice_jam_same_day_prelast_year']]\\\n",
    "    .transform('sum')\n",
    "X.shape"
   ]
  },
  {
   "cell_type": "markdown",
   "metadata": {},
   "source": [
    "### Количество заторов в прошлом году на предыдущей станции"
   ]
  },
  {
   "cell_type": "code",
   "execution_count": 22,
   "metadata": {},
   "outputs": [],
   "source": [
    "X[['n_jams_last_year_prev_station']] = \\\n",
    "    X.groupby(['year', 'station_id'])[ 'ice_jam_same_day_last_year_prev_stat']\\\n",
    "    .transform('sum')"
   ]
  },
  {
   "cell_type": "markdown",
   "metadata": {},
   "source": [
    "### Количество заторов в прошлом по всем годам"
   ]
  },
  {
   "cell_type": "code",
   "execution_count": 23,
   "metadata": {},
   "outputs": [],
   "source": [
    "ice_jams_per_year = X.groupby(['year', 'station_id'])['ice_jam'].sum().reset_index().drop_duplicates()\n",
    "ice_jams_per_year['n_jams_past'] = ice_jams_per_year.sort_values(by = 'year').\\\n",
    "    groupby(['station_id'])['ice_jam'].cumsum()\n",
    "ice_jams_per_year['n_jams_past'] = ice_jams_per_year['n_jams_past'] - ice_jams_per_year['ice_jam']\n",
    "ice_jams_per_year = ice_jams_per_year.drop('ice_jam', axis = 1)\n",
    "X = X.merge(ice_jams_per_year, how = 'left', on = ['year', 'station_id'])"
   ]
  },
  {
   "cell_type": "code",
   "execution_count": 24,
   "metadata": {},
   "outputs": [],
   "source": [
    "X = X.merge(ice_jams_per_year, \n",
    "            how = 'left', \n",
    "            left_on = ['year', 'previous_station'],\n",
    "            right_on = ['year', 'station_id'])\\\n",
    "    .rename(columns={'n_jams_past_y':'n_jams_past_prev_stat',\n",
    "                     'station_id_x':'station_id',\n",
    "                     'n_jams_past_x':'n_jams_past'})\\\n",
    "    .drop('station_id_y', axis = 1)"
   ]
  },
  {
   "cell_type": "code",
   "execution_count": 25,
   "metadata": {},
   "outputs": [],
   "source": [
    "# n_same_days_before: how many days are available in the past for a given date\n",
    "X['n_same_days_before'] = X[['year', 'day', 'station_id']] \\\n",
    "    .sort_values(by = ['year', 'day']) \\\n",
    "    .groupby(['station_id', 'day']) \\\n",
    "    .cumcount()\n",
    "X['n_ice_jams_same_days_before'] = X[['year', 'day', 'station_id', 'ice_jam']] \\\n",
    "    .sort_values(by = ['year', 'day']) \\\n",
    "    .groupby(['station_id', 'day'])['ice_jam'] \\\n",
    "    .cumsum()\n",
    "X['n_ice_jams_same_days_before'] = X['n_ice_jams_same_days_before'] - X['ice_jam']\n",
    "X['n_ice_jams_same_days_before_ratio'] = X['n_ice_jams_same_days_before']/X['n_same_days_before']\n",
    "X = X.fillna(0)"
   ]
  },
  {
   "cell_type": "markdown",
   "metadata": {},
   "source": [
    "## Разбиение по годам"
   ]
  },
  {
   "cell_type": "code",
   "execution_count": 26,
   "metadata": {},
   "outputs": [
    {
     "data": {
      "text/plain": [
       "count    35.000000\n",
       "mean      3.942857\n",
       "std       4.014260\n",
       "min       0.000000\n",
       "25%       0.000000\n",
       "50%       3.000000\n",
       "75%       6.000000\n",
       "max      16.000000\n",
       "Name: ice_jam, dtype: float64"
      ]
     },
     "execution_count": 26,
     "metadata": {},
     "output_type": "execute_result"
    }
   ],
   "source": [
    "# Суммарное количество заторов в году\n",
    "jams_by_year = main_df.groupby('year').sum()['ice_jam'].to_frame().reset_index()\n",
    "jams_by_year['ice_jam'].describe()"
   ]
  },
  {
   "cell_type": "code",
   "execution_count": 27,
   "metadata": {},
   "outputs": [
    {
     "data": {
      "text/plain": [
       "(-1, 3]    18\n",
       "(3, 5]      7\n",
       "(5, 8]      6\n",
       "(8, 16]     4\n",
       "Name: ice_jam_bins, dtype: int64"
      ]
     },
     "execution_count": 27,
     "metadata": {},
     "output_type": "execute_result"
    }
   ],
   "source": [
    "# Разделим на бины по квартилям\n",
    "bins = [-1, 3, 5, 8, 16]\n",
    "jams_by_year['ice_jam_bins'] = pd.cut(jams_by_year['ice_jam'], bins)\n",
    "X_length = jams_by_year[['year', 'ice_jam']]\n",
    "y_length = jams_by_year['ice_jam_bins']\n",
    "y_length.value_counts()"
   ]
  },
  {
   "cell_type": "code",
   "execution_count": 28,
   "metadata": {},
   "outputs": [],
   "source": [
    "# Разделим годы на трейн и тест\n",
    "X_train, X_test, y_train, y_test = train_test_split(X_length, \n",
    "                                                    y_length, \n",
    "                                                    test_size=0.3,  \n",
    "                                                    stratify=y_length, \n",
    "                                                    random_state=42)"
   ]
  },
  {
   "cell_type": "markdown",
   "metadata": {},
   "source": [
    "### Feature description\n",
    "\n",
    "**is_test**:  if is_test = 1 then the row belongs to the test dataset \\\n",
    "**ice_jam_same_day_last_year**: 1 if there were and ice jam on the same day last year \\\n",
    "**ice_jam_same_day_prelast_year**: 1 if there were and ice jam on the same day 2 years ago \\\n",
    "**is_last_year_missing**: 1 is the same day is missing last year \\\n",
    "**is_prelast_year_missing**: 1 is the same day is missing 2 years ago \\\n",
    "**n_jams_last_year**: number of jams last year at the station \\\n",
    "**n_jams_past**: number of jams in the past available data at the station \\\n",
    "**n_same_days_before**: number of same days available in the past \\\n",
    "**n_ice_jams_same_days_before**: number of ice jams ob the same day in the past \\\n",
    "**n_ice_jams_same_days_before_ratio**: n_ice_jams_same_days_before/n_ice_jams_same_days_before"
   ]
  },
  {
   "cell_type": "markdown",
   "metadata": {},
   "source": [
    "### Соберем фичи из гидроданных"
   ]
  },
  {
   "cell_type": "markdown",
   "metadata": {},
   "source": [
    "Эту часть кода мы взяли из baseline ноутбука"
   ]
  },
  {
   "cell_type": "markdown",
   "metadata": {},
   "source": [
    "<div class=\"alert alert-block alert-warning\">\n",
    "Мы не можем использовать данные из будущего: всё, что происходит после заторного периода, относится уже к следующему году.\n",
    "</div>"
   ]
  },
  {
   "cell_type": "code",
   "execution_count": 29,
   "metadata": {},
   "outputs": [
    {
     "data": {
      "text/html": [
       "<div>\n",
       "<style scoped>\n",
       "    .dataframe tbody tr th:only-of-type {\n",
       "        vertical-align: middle;\n",
       "    }\n",
       "\n",
       "    .dataframe tbody tr th {\n",
       "        vertical-align: top;\n",
       "    }\n",
       "\n",
       "    .dataframe thead th {\n",
       "        text-align: right;\n",
       "    }\n",
       "</style>\n",
       "<table border=\"1\" class=\"dataframe\">\n",
       "  <thead>\n",
       "    <tr style=\"text-align: right;\">\n",
       "      <th></th>\n",
       "      <th>year</th>\n",
       "      <th>station_id</th>\n",
       "      <th>month</th>\n",
       "      <th>day</th>\n",
       "      <th>date</th>\n",
       "      <th>stage_avg</th>\n",
       "      <th>stage_min</th>\n",
       "      <th>stage_max</th>\n",
       "      <th>temp</th>\n",
       "      <th>water_code</th>\n",
       "      <th>ice_thickness</th>\n",
       "      <th>snow_height</th>\n",
       "      <th>place</th>\n",
       "    </tr>\n",
       "  </thead>\n",
       "  <tbody>\n",
       "    <tr>\n",
       "      <th>4864</th>\n",
       "      <td>1985</td>\n",
       "      <td>3019</td>\n",
       "      <td>1</td>\n",
       "      <td>1</td>\n",
       "      <td>1985-01-01</td>\n",
       "      <td>-23.0</td>\n",
       "      <td>-23.0</td>\n",
       "      <td>-23.0</td>\n",
       "      <td>0.0</td>\n",
       "      <td>16</td>\n",
       "      <td>53.0</td>\n",
       "      <td>29.0</td>\n",
       "      <td>1.0</td>\n",
       "    </tr>\n",
       "  </tbody>\n",
       "</table>\n",
       "</div>"
      ],
      "text/plain": [
       "      year  station_id  month  day       date  stage_avg  stage_min  \\\n",
       "4864  1985        3019      1    1 1985-01-01      -23.0      -23.0   \n",
       "\n",
       "      stage_max  temp water_code  ice_thickness  snow_height  place  \n",
       "4864      -23.0   0.0         16           53.0         29.0    1.0  "
      ]
     },
     "execution_count": 29,
     "metadata": {},
     "output_type": "execute_result"
    }
   ],
   "source": [
    "# Внесем не темпоральные данные\n",
    "X = pd.merge(X, hc[['station_id', \n",
    "                                'distance_from_source', \n",
    "                                'drainage_area', \n",
    "                                'z_null']], on='station_id', how='left')\n",
    "# Возьмем также данные из ежедневных наблюдений\n",
    "hld.head(1)"
   ]
  },
  {
   "cell_type": "code",
   "execution_count": 30,
   "metadata": {},
   "outputs": [],
   "source": [
    "# добавим реанализ к гидро данным\n",
    "hld['date']= hld['date'].astype(str)\n",
    "hld = hld.merge(all_pressure_data_level_1000, on=['station_id', 'date'], how='left')"
   ]
  },
  {
   "cell_type": "code",
   "execution_count": 31,
   "metadata": {},
   "outputs": [],
   "source": [
    "hld['station_id'] = hld.station_id.astype(int)\n",
    "mld['station_id'] = mld['station_id'].astype(int)"
   ]
  },
  {
   "cell_type": "code",
   "execution_count": 32,
   "metadata": {},
   "outputs": [],
   "source": [
    "# Подтянем ближайшую к гидростанции метеостанцию\n",
    "\n",
    "from geopy.distance import geodesic\n",
    "import re\n",
    "\n",
    "def merge_coord(df):\n",
    "    df['lat_long'] = df[['lat', 'lon']].apply(tuple, axis=1)\n",
    "    return df\n",
    "\n",
    "def stat_km(point, stat_list):\n",
    "    stations_list=stat_list\n",
    "    lst=[]\n",
    "    if pd.isnull(point):\n",
    "        lst.append(np.nan)\n",
    "    else:\n",
    "        for i in stations_list['lat_long']:\n",
    "            x=geodesic(point, i).km\n",
    "            lst.append(x)\n",
    "            stations_list['dist']=pd.DataFrame(lst)\n",
    "        y=stations_list['station_id'][stations_list['dist'] == stations_list['dist'].min()]\n",
    "        y=y.to_string()\n",
    "        y=re.sub(\"^[0-9]+\", \"\", y)\n",
    "        y=re.sub(\" +\", \"\", y)\n",
    "        return int(y)\n",
    "\n",
    "hc = merge_coord(hc)\n",
    "mc = merge_coord(mc)\n",
    "hc['closest_hydro'] = mc.lat_long.apply(lambda x: stat_km(x, mc))\n",
    "mld = mld.merge(hc[['station_id', 'closest_hydro']], left_on=['station_id'], \n",
    "                right_on='closest_hydro', how='right')\n",
    "mld.drop(['station_id_x', 'closest_hydro', 'date'], axis=1, inplace=True)\n",
    "mld.rename({'station_id_y': 'station_id'}, axis=1, inplace=True)"
   ]
  },
  {
   "cell_type": "code",
   "execution_count": 33,
   "metadata": {},
   "outputs": [],
   "source": [
    "mlm['data_qual'] = mlm['data_qual'].fillna(10)"
   ]
  },
  {
   "cell_type": "code",
   "execution_count": 34,
   "metadata": {},
   "outputs": [],
   "source": [
    "mlm['missing_sunshine_hours'] = mlm['sunshine_hours'].isnull()\n",
    "mlm['sunshine_hours'] = mlm['sunshine_hours'].fillna(0)"
   ]
  },
  {
   "cell_type": "code",
   "execution_count": 35,
   "metadata": {},
   "outputs": [],
   "source": [
    "hld = hld.merge(mld, on=['station_id', 'year', 'month', 'day'], how='inner')\n",
    "#hld = hld.fillna(0)"
   ]
  },
  {
   "cell_type": "markdown",
   "metadata": {},
   "source": [
    "Добавим разницу высот между станцией и предыдущей станцией"
   ]
  },
  {
   "cell_type": "code",
   "execution_count": 36,
   "metadata": {},
   "outputs": [],
   "source": [
    "stations_df = hc[['station_id', 'distance_from_source', 'z_null']].drop_duplicates()\n",
    "stations_df = calculate_height_difference(stations_df)"
   ]
  },
  {
   "cell_type": "markdown",
   "metadata": {},
   "source": [
    "### Скорректируем год, в который доступно наблюдение"
   ]
  },
  {
   "cell_type": "code",
   "execution_count": 37,
   "metadata": {},
   "outputs": [],
   "source": [
    "# Определим для наблюдения год, в который оно доступно\n",
    "\n",
    "# Маска-окно между заторным периодом и концом года\n",
    "# true if after jam\n",
    "# false otherwise\n",
    "def after_jam_window(row, local=False):\n",
    "    if local:\n",
    "        month = row.month_local\n",
    "        day = row.date_local.day\n",
    "    else:\n",
    "        month = row.month\n",
    "        day = row.date.day\n",
    "    return (((month == 6) and (day > 3))\n",
    "            or (month in [7, 8, 9, 10, 11, 12]))\n",
    "\n",
    "# Год относительно бизнес-логики\n",
    "def target_year(row, local=False):\n",
    "    if local:\n",
    "        year = row.year_local\n",
    "    else:\n",
    "        year = row.year\n",
    "    if after_jam_window(row):\n",
    "        return year + 1\n",
    "    else:\n",
    "        return year\n",
    "\n",
    "hld['date'] = pd.to_datetime(hld['date'], format='%Y-%m-%d')\n",
    "hld['target_year'] = hld.apply(target_year, axis=1)\n",
    "\n",
    "# Календарный год и день больше не нужны\n",
    "hld.drop(columns=['year', 'date', 'day'], axis=1, inplace=True)"
   ]
  },
  {
   "cell_type": "code",
   "execution_count": 38,
   "metadata": {},
   "outputs": [],
   "source": [
    "# Гидро – сделаем ресэмплинг по месяцу\n",
    "index = ['station_id', 'month', 'target_year']\n",
    "cat_col = ['place']\n",
    "\n",
    "hld_mean = hld.drop(cat_col, axis = 1).groupby(index).mean().add_prefix('mean_').reset_index()\n",
    "hld_max = hld.drop(cat_col, axis = 1).groupby(index).max().add_prefix('max_').reset_index()\n",
    "hld_min = hld.drop(cat_col, axis = 1).groupby(index).min().add_prefix('min_').reset_index()\n",
    "hld_std = hld.drop(cat_col, axis = 1).groupby(index).std().add_prefix('std_').reset_index()\n",
    "h1d_cat = hld[index + cat_col].groupby(index).median().add_prefix('median_').reset_index()\n",
    "\n",
    "data_frames = [hld_mean, hld_max, hld_min, hld_std, h1d_cat]\n",
    "\n",
    "hydro_monthly = pd.concat(data_frames, axis=1)\n",
    "hydro_monthly = hydro_monthly.loc[:,~hydro_monthly.columns.duplicated()]"
   ]
  },
  {
   "cell_type": "code",
   "execution_count": 39,
   "metadata": {},
   "outputs": [],
   "source": [
    "hydro_monthly['stage_inc_monthly'] = hydro_monthly['max_stage_max']/hydro_monthly['min_stage_min']"
   ]
  },
  {
   "cell_type": "markdown",
   "metadata": {},
   "source": [
    "## Удалить колонки, где пропущено более 20%"
   ]
  },
  {
   "cell_type": "code",
   "execution_count": 40,
   "metadata": {},
   "outputs": [],
   "source": [
    "missing_hydro_monthly = hydro_monthly.isnull()\\\n",
    "    .mean()\\\n",
    "    .reset_index()\\\n",
    "    .rename(columns={'index':'column', 0:'percent_missing'})\n",
    "columns_to_drop = missing_hydro_monthly.loc[missing_hydro_monthly['percent_missing'] > .2, 'column'].to_list()\n",
    "hydro_monthly = hydro_monthly.drop(columns_to_drop, axis = 1)"
   ]
  },
  {
   "cell_type": "markdown",
   "metadata": {},
   "source": [
    "# В колонках, где пропущено менее 20%, заполнить медианными значениями за тот же период по другим станциям"
   ]
  },
  {
   "cell_type": "code",
   "execution_count": 41,
   "metadata": {},
   "outputs": [
    {
     "name": "stderr",
     "output_type": "stream",
     "text": [
      "C:\\Users\\omore\\Anaconda3\\lib\\site-packages\\numpy\\lib\\nanfunctions.py:1111: RuntimeWarning: Mean of empty slice\n",
      "  return np.nanmean(a, axis, out=out, keepdims=keepdims)\n",
      "C:\\Users\\omore\\Anaconda3\\lib\\site-packages\\numpy\\lib\\nanfunctions.py:1111: RuntimeWarning: Mean of empty slice\n",
      "  return np.nanmean(a, axis, out=out, keepdims=keepdims)\n",
      "C:\\Users\\omore\\Anaconda3\\lib\\site-packages\\numpy\\lib\\nanfunctions.py:1111: RuntimeWarning: Mean of empty slice\n",
      "  return np.nanmean(a, axis, out=out, keepdims=keepdims)\n",
      "C:\\Users\\omore\\Anaconda3\\lib\\site-packages\\numpy\\lib\\nanfunctions.py:1111: RuntimeWarning: Mean of empty slice\n",
      "  return np.nanmean(a, axis, out=out, keepdims=keepdims)\n",
      "C:\\Users\\omore\\Anaconda3\\lib\\site-packages\\numpy\\lib\\nanfunctions.py:1111: RuntimeWarning: Mean of empty slice\n",
      "  return np.nanmean(a, axis, out=out, keepdims=keepdims)\n",
      "C:\\Users\\omore\\Anaconda3\\lib\\site-packages\\numpy\\lib\\nanfunctions.py:1111: RuntimeWarning: Mean of empty slice\n",
      "  return np.nanmean(a, axis, out=out, keepdims=keepdims)\n",
      "C:\\Users\\omore\\Anaconda3\\lib\\site-packages\\numpy\\lib\\nanfunctions.py:1111: RuntimeWarning: Mean of empty slice\n",
      "  return np.nanmean(a, axis, out=out, keepdims=keepdims)\n",
      "C:\\Users\\omore\\Anaconda3\\lib\\site-packages\\numpy\\lib\\nanfunctions.py:1111: RuntimeWarning: Mean of empty slice\n",
      "  return np.nanmean(a, axis, out=out, keepdims=keepdims)\n",
      "C:\\Users\\omore\\Anaconda3\\lib\\site-packages\\numpy\\lib\\nanfunctions.py:1111: RuntimeWarning: Mean of empty slice\n",
      "  return np.nanmean(a, axis, out=out, keepdims=keepdims)\n",
      "C:\\Users\\omore\\Anaconda3\\lib\\site-packages\\numpy\\lib\\nanfunctions.py:1111: RuntimeWarning: Mean of empty slice\n",
      "  return np.nanmean(a, axis, out=out, keepdims=keepdims)\n",
      "C:\\Users\\omore\\Anaconda3\\lib\\site-packages\\numpy\\lib\\nanfunctions.py:1111: RuntimeWarning: Mean of empty slice\n",
      "  return np.nanmean(a, axis, out=out, keepdims=keepdims)\n",
      "C:\\Users\\omore\\Anaconda3\\lib\\site-packages\\numpy\\lib\\nanfunctions.py:1111: RuntimeWarning: Mean of empty slice\n",
      "  return np.nanmean(a, axis, out=out, keepdims=keepdims)\n",
      "C:\\Users\\omore\\Anaconda3\\lib\\site-packages\\numpy\\lib\\nanfunctions.py:1111: RuntimeWarning: Mean of empty slice\n",
      "  return np.nanmean(a, axis, out=out, keepdims=keepdims)\n",
      "C:\\Users\\omore\\Anaconda3\\lib\\site-packages\\numpy\\lib\\nanfunctions.py:1111: RuntimeWarning: Mean of empty slice\n",
      "  return np.nanmean(a, axis, out=out, keepdims=keepdims)\n",
      "C:\\Users\\omore\\Anaconda3\\lib\\site-packages\\numpy\\lib\\nanfunctions.py:1111: RuntimeWarning: Mean of empty slice\n",
      "  return np.nanmean(a, axis, out=out, keepdims=keepdims)\n",
      "C:\\Users\\omore\\Anaconda3\\lib\\site-packages\\numpy\\lib\\nanfunctions.py:1111: RuntimeWarning: Mean of empty slice\n",
      "  return np.nanmean(a, axis, out=out, keepdims=keepdims)\n",
      "C:\\Users\\omore\\Anaconda3\\lib\\site-packages\\numpy\\lib\\nanfunctions.py:1111: RuntimeWarning: Mean of empty slice\n",
      "  return np.nanmean(a, axis, out=out, keepdims=keepdims)\n",
      "C:\\Users\\omore\\Anaconda3\\lib\\site-packages\\numpy\\lib\\nanfunctions.py:1111: RuntimeWarning: Mean of empty slice\n",
      "  return np.nanmean(a, axis, out=out, keepdims=keepdims)\n"
     ]
    }
   ],
   "source": [
    "missing_hydro_monthly = hydro_monthly.isnull()\\\n",
    "    .mean()\\\n",
    "    .reset_index()\\\n",
    "    .rename(columns={'index':'column', 0:'percent_missing'})\n",
    "columns_to_fill = missing_hydro_monthly.loc[missing_hydro_monthly['percent_missing'] > 0, 'column'].to_list()\n",
    "for feature in columns_to_fill:\n",
    "    hydro_monthly[feature] = hydro_monthly.groupby(['target_year', 'month'])[feature].transform(lambda x: x.fillna(x.median()))"
   ]
  },
  {
   "cell_type": "code",
   "execution_count": 42,
   "metadata": {},
   "outputs": [],
   "source": [
    "def make_features(df):\n",
    "    station, target_year = df.name\n",
    "    result = pd.DataFrame()\n",
    "    for month, mdf in df.groupby('month'):\n",
    "        m_feats = mdf[df.columns[4:]].add_prefix(str(month) + '_').reset_index(drop=True)\n",
    "        result = pd.concat([result, m_feats], axis=1)\n",
    "    return result.reset_index(drop=True)\n",
    "        \n",
    "hydro_features = hydro_monthly.groupby(['station_id', 'target_year']).apply(make_features)\n",
    "hydro_features = hydro_features.reset_index(level=2, drop=True).reset_index()\n",
    "hydro_features.dropna(how='all', axis=1, inplace=True)"
   ]
  },
  {
   "cell_type": "markdown",
   "metadata": {},
   "source": [
    "### Соберем фичи в основной датасет\n",
    "\n",
    "<div class=\"alert alert-block alert-success\">\n",
    "Важно: merge делаем по target_year.\n",
    "</div>"
   ]
  },
  {
   "cell_type": "code",
   "execution_count": 43,
   "metadata": {},
   "outputs": [],
   "source": [
    "X = pd.merge(X, hydro_features, left_on=['year', 'station_id'],\n",
    "                   right_on=['target_year', 'station_id'],\n",
    "                   how='left').\\\n",
    "    drop('target_year', axis = 1)\n",
    "cols = X.columns.to_list()\n",
    "#main_df = main_df[cols[:3] + [cols[7]] + cols[5:7] + cols[8:] + [cols[3]]]\n",
    "#main_df.dropna(how='any',inplace=True)\n",
    "#main_df.head(2)"
   ]
  },
  {
   "cell_type": "code",
   "execution_count": 44,
   "metadata": {},
   "outputs": [],
   "source": [
    "X = X.merge(stations_df[['station_id', 'height_diff_by_dist']], on = 'station_id', how = 'left')"
   ]
  },
  {
   "cell_type": "code",
   "execution_count": 45,
   "metadata": {},
   "outputs": [],
   "source": [
    "def drop_columns_with_low_variance(dataframe, threshold):\n",
    "    print('Dropped columns with variance low than {}'.format(threshold))\n",
    "    cols_to_drop = dataframe.std()[dataframe.std() < threshold].index.values\n",
    "    cols_to_drop = [x for x in cols_to_drop if x != 'ice_jam']\n",
    "    dataframe.drop(cols_to_drop, axis=1, inplace = True)\n",
    "    print(cols_to_drop)\n",
    "    return dataframe\n",
    "\n",
    "#X = drop_columns_with_low_variance(X, 0.000001)"
   ]
  },
  {
   "cell_type": "code",
   "execution_count": 46,
   "metadata": {},
   "outputs": [],
   "source": [
    "def drop_highly_correlated_columns(dataframe, threshold):\n",
    "    col_corr = set() # Set of all the names of deleted columns\n",
    "    corr_matrix = dataframe.corr()\n",
    "    for i in range(len(corr_matrix.columns)):\n",
    "        for j in range(i):\n",
    "            if (abs(corr_matrix.iloc[i, j]) >= threshold) and (corr_matrix.columns[j] not in col_corr):\n",
    "                colname = corr_matrix.columns[i] # getting the name of column\n",
    "                col_corr.add(colname)\n",
    "                if colname in dataframe.columns:\n",
    "                    del dataframe[colname] # deleting the column from the dataset\n",
    "    return dataframe"
   ]
  },
  {
   "cell_type": "markdown",
   "metadata": {},
   "source": [
    "Заменить Inf на 100."
   ]
  },
  {
   "cell_type": "code",
   "execution_count": 47,
   "metadata": {},
   "outputs": [],
   "source": [
    "#X = X.drop(['station_rank_y', 'station_rank_x'], axis =1 )\n",
    "#X = drop_highly_correlated_columns(X, 0.95)\n",
    "X[[x for x in X.columns if 'inc'  in x]] = \\\n",
    "    X[[x for x in X.columns if 'inc'  in x]].replace(np.inf, 100)"
   ]
  },
  {
   "cell_type": "code",
   "execution_count": 48,
   "metadata": {},
   "outputs": [],
   "source": [
    "# Разделим на трейн и тест исходя из target_year\n",
    "\n",
    "test = X[X.year.isin(X_test.year.to_list()) & (X['is_test'] == False)].reset_index(drop=True).dropna()\n",
    "train = X[X.year.isin(X_train.year.to_list())& (X['is_test'] == False)].reset_index(drop=True).dropna()\n",
    "\n",
    "\n",
    "# Поделим данные на предикторы и таргет\n",
    "\n",
    "X_train, y_train = train.drop(['ice_jam'], axis = 1), train.ice_jam\n",
    "X_test, y_test = test.drop(['ice_jam'], axis = 1), test.ice_jam\n",
    "unused_features = ['year', 'is_test']\n",
    "\n",
    "X_train.to_csv(preprocessed_dir + 'X_train.csv', index = False)\n",
    "X_test.to_csv(preprocessed_dir + 'X_test.csv', index = False)\n",
    "y_train.to_csv(preprocessed_dir + 'y_train.csv', index = False)\n",
    "y_test.to_csv(preprocessed_dir + 'y_test.csv', index = False)\n",
    "X.to_csv(preprocessed_dir + 'X.csv', index = False)"
   ]
  },
  {
   "cell_type": "markdown",
   "metadata": {},
   "source": [
    "from sklearn.feature_selection import RFE\n",
    "from sklearn.linear_model import LogisticRegression\n",
    "#lsvc = SVC(C=0.01, penalty=\"l1\", dual=False).fit(X_train, y_train)\n",
    "\n",
    "unused_features = [ 'is_test']\n",
    "cat_col = ['1_max_water_code', \n",
    "           '2_max_water_code',\n",
    "           '6_max_water_code',\n",
    "           '7_max_water_code',\n",
    "           '9_max_water_code',\n",
    "           '10_max_water_code',\n",
    "           '11_max_water_code',\n",
    "           '12_max_water_code',\n",
    "           '1_min_water_code',\n",
    "           '2_min_water_code',\n",
    "           '6_min_water_code',\n",
    "           '7_max_water_code',\n",
    "           '9_min_water_code',\n",
    "           '10_min_water_code',\n",
    "           '11_min_water_code',\n",
    "           '12_min_water_code'\n",
    "          ]\n",
    "unused_features = unused_features + cat_col\n",
    "X_train_used = X_train.drop(cat_col, axis =1 )\n",
    "selector = RFE(LogisticRegression(max_iter=5000),\n",
    "               n_features_to_select=200, step=10).fit(X_train_used, y_train)\n"
   ]
  }
 ],
 "metadata": {
  "kernelspec": {
   "display_name": "Python 3",
   "language": "python",
   "name": "python3"
  },
  "language_info": {
   "codemirror_mode": {
    "name": "ipython",
    "version": 3
   },
   "file_extension": ".py",
   "mimetype": "text/x-python",
   "name": "python",
   "nbconvert_exporter": "python",
   "pygments_lexer": "ipython3",
   "version": "3.7.4"
  }
 },
 "nbformat": 4,
 "nbformat_minor": 4
}
